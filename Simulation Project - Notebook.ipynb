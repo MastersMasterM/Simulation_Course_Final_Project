{
 "cells": [
  {
   "cell_type": "markdown",
   "metadata": {},
   "source": [
    "# Simulation - Final Project\n",
    "### - Mahdi Mohammadi - 9825041\n",
    "### - Pedram Peiro Asfia - 9825006"
   ]
  },
  {
   "cell_type": "markdown",
   "metadata": {},
   "source": [
    "# Library"
   ]
  },
  {
   "cell_type": "code",
   "execution_count": 1,
   "metadata": {
    "ExecuteTime": {
     "end_time": "2022-07-16T13:40:38.400208Z",
     "start_time": "2022-07-16T13:40:37.739795Z"
    }
   },
   "outputs": [],
   "source": [
    "import numpy as np\n",
    "import pandas as pd\n",
    "import math\n",
    "import scipy.stats as st\n",
    "import random\n",
    "import warnings\n",
    "with warnings.catch_warnings():\n",
    "    warnings.simplefilter(\"ignore\", category=RuntimeWarning)"
   ]
  },
  {
   "cell_type": "markdown",
   "metadata": {},
   "source": [
    "# Random Number Generation"
   ]
  },
  {
   "cell_type": "code",
   "execution_count": 2,
   "metadata": {
    "ExecuteTime": {
     "end_time": "2022-07-16T13:40:39.306675Z",
     "start_time": "2022-07-16T13:40:38.402023Z"
    }
   },
   "outputs": [
    {
     "name": "stdout",
     "output_type": "stream",
     "text": [
      "2097152 random numbers have been generated\n",
      "[4.76837158203125e-07, 3.814697265625e-06, 2.0503997802734375e-05, 0.00010395050048828125, 0.0005211830139160156]\n"
     ]
    }
   ],
   "source": [
    "def RNG(a,m,X0,c):\n",
    "    return (a*X0+c)%m\n",
    "\n",
    "flag = True\n",
    "#The first number of the sequnce\n",
    "randnum = [1]\n",
    "while(flag):\n",
    "    r = RNG(5,2**21,randnum[-1],3)\n",
    "    if(r != 1): #Check whether we entered the loop or not\n",
    "        randnum.append(r)\n",
    "    else:\n",
    "        flag = False\n",
    "randnum = np.array(randnum)/(2**21) #Scaling random numbers\n",
    "randnum = list(randnum)\n",
    "print(f\"{len(randnum)} random numbers have been generated\")\n",
    "print(randnum[:5])"
   ]
  },
  {
   "cell_type": "markdown",
   "metadata": {},
   "source": [
    "### Uniformity Test Function"
   ]
  },
  {
   "cell_type": "code",
   "execution_count": 3,
   "metadata": {
    "ExecuteTime": {
     "end_time": "2022-07-16T13:40:39.322601Z",
     "start_time": "2022-07-16T13:40:39.310633Z"
    }
   },
   "outputs": [],
   "source": [
    "def uniformity_test(sample_random):\n",
    "    N=len(sample_random)\n",
    "    sorted_rnd = sorted(sample_random)\n",
    "    D_plus=[]\n",
    "    D_minus=[]\n",
    "    for i in range(N):\n",
    "        D_plus.append((i+1)/N-sorted_rnd[i])\n",
    "        D_minus.append(sorted_rnd[i]-i/N)\n",
    "    D=max(max(D_plus) , max(D_minus))\n",
    "    critical_value = 1.36/N**0.5\n",
    "    print('D is {}\\ncritical value is {}'.format(D,critical_value))\n",
    "    if D>critical_value:\n",
    "        print('Reject Null Hypothesis')\n",
    "    else: print('Not Enough Evidence to Reject The Null Hypothesis')"
   ]
  },
  {
   "cell_type": "markdown",
   "metadata": {},
   "source": [
    "### Independency Test Function"
   ]
  },
  {
   "cell_type": "code",
   "execution_count": 4,
   "metadata": {
    "ExecuteTime": {
     "end_time": "2022-07-16T13:40:39.337572Z",
     "start_time": "2022-07-16T13:40:39.323599Z"
    }
   },
   "outputs": [],
   "source": [
    "def independency_test(sample_random):\n",
    "    N=len(sample_random)\n",
    "    M=N-2\n",
    "\n",
    "    rho_hat=np.sum([(sample_random[i]*sample_random[i+1]) for i in range(N-1)])/(M+1)-0.25\n",
    "    sigma_hat=((13*M+7)**0.5)/(12*(M+1))\n",
    "    Z=rho_hat/sigma_hat\n",
    "    print('rho_hat = {}\\nsigma_hat = {}\\nZ = {}'.format(rho_hat,sigma_hat,Z))\n",
    "\n",
    "    pval=st.norm.sf(abs(Z))*2\n",
    "    print('p-value is {}'.format(pval))\n",
    "    if pval<=0.05:\n",
    "        print('Reject Null Hypothesis')\n",
    "    else: print('Not Enough Evidence to Reject The Null Hypothesis')"
   ]
  },
  {
   "cell_type": "markdown",
   "metadata": {},
   "source": [
    "### Sampling 1,000,000 Numbers from the Population"
   ]
  },
  {
   "cell_type": "code",
   "execution_count": 5,
   "metadata": {
    "ExecuteTime": {
     "end_time": "2022-07-16T13:40:40.231204Z",
     "start_time": "2022-07-16T13:40:39.339556Z"
    }
   },
   "outputs": [
    {
     "name": "stdout",
     "output_type": "stream",
     "text": [
      "[0.9481716156005859, 0.2673153877258301, 0.6183724403381348, 0.5718069076538086, 0.49845409393310547]\n"
     ]
    }
   ],
   "source": [
    "sample_random = random.sample(list(randnum),1000000)\n",
    "if 0 in sample_random: sample_random.remove(0)\n",
    "print(sample_random[:5])"
   ]
  },
  {
   "cell_type": "markdown",
   "metadata": {},
   "source": [
    "### Tests Results"
   ]
  },
  {
   "cell_type": "code",
   "execution_count": 6,
   "metadata": {
    "ExecuteTime": {
     "end_time": "2022-07-16T13:40:42.228857Z",
     "start_time": "2022-07-16T13:40:40.234161Z"
    }
   },
   "outputs": [
    {
     "name": "stdout",
     "output_type": "stream",
     "text": [
      "Results for Uniformity Test:\n",
      "D is 0.0006498953804633389\n",
      "critical value is 0.0013600006800005102\n",
      "Not Enough Evidence to Reject The Null Hypothesis\n",
      "\n",
      "\n",
      "Results for Independency Test: \n",
      "rho_hat = -4.386785863227938e-05\n",
      "sigma_hat = 0.0003004628374139822\n",
      "Z = -0.1460009464393015\n",
      "p-value is 0.8839206412836127\n",
      "Not Enough Evidence to Reject The Null Hypothesis\n"
     ]
    }
   ],
   "source": [
    "print('Results for Uniformity Test:')\n",
    "uniformity_test(sample_random)\n",
    "print('\\n\\nResults for Independency Test: ')\n",
    "independency_test(sample_random)"
   ]
  },
  {
   "cell_type": "markdown",
   "metadata": {},
   "source": [
    "# Random Variates Generation"
   ]
  },
  {
   "cell_type": "markdown",
   "metadata": {},
   "source": [
    "**Function for generating normal random variates**"
   ]
  },
  {
   "cell_type": "code",
   "execution_count": 7,
   "metadata": {
    "ExecuteTime": {
     "end_time": "2022-07-16T13:40:42.243813Z",
     "start_time": "2022-07-16T13:40:42.230852Z"
    }
   },
   "outputs": [],
   "source": [
    "def normal_generator(r1,r2,mu,sigma):\n",
    "    Z=((-2*np.log(r1))**0.5)*np.cos(2*math.pi*r2)\n",
    "    X=mu+sigma*Z\n",
    "    return X"
   ]
  },
  {
   "cell_type": "markdown",
   "metadata": {},
   "source": [
    "Number of simulations"
   ]
  },
  {
   "cell_type": "code",
   "execution_count": 8,
   "metadata": {
    "ExecuteTime": {
     "end_time": "2022-07-16T13:40:42.258744Z",
     "start_time": "2022-07-16T13:40:42.245778Z"
    }
   },
   "outputs": [],
   "source": [
    "number_of_sim = 50"
   ]
  },
  {
   "cell_type": "markdown",
   "metadata": {},
   "source": [
    "# PART A"
   ]
  },
  {
   "cell_type": "markdown",
   "metadata": {},
   "source": [
    "## Defining Variables (for statistics)"
   ]
  },
  {
   "cell_type": "markdown",
   "metadata": {},
   "source": [
    "**Number of servers in each section**"
   ]
  },
  {
   "cell_type": "code",
   "execution_count": 9,
   "metadata": {
    "ExecuteTime": {
     "end_time": "2022-07-16T13:40:42.274709Z",
     "start_time": "2022-07-16T13:40:42.260740Z"
    }
   },
   "outputs": [],
   "source": [
    "serverA=1\n",
    "serverB=3\n",
    "serverC=1\n",
    "serverD=4\n",
    "serverE=3\n",
    "TotalServers=serverA+serverB+serverC+serverD+serverE"
   ]
  },
  {
   "cell_type": "code",
   "execution_count": 10,
   "metadata": {
    "ExecuteTime": {
     "end_time": "2022-07-16T13:40:42.289663Z",
     "start_time": "2022-07-16T13:40:42.276703Z"
    }
   },
   "outputs": [],
   "source": [
    "iteration=0\n",
    "Demographic_list_A=[]\n",
    "TWT_list_A=[]\n",
    "N_list_A=[]\n",
    "SVR_list_A=[]\n",
    "TotalQ_list_A=[]\n",
    "max_WT_list_A=[]\n",
    "FEL_total_A=[]\n",
    "MTOT_list_A=[]\n",
    "rcounter=0"
   ]
  },
  {
   "cell_type": "code",
   "execution_count": 11,
   "metadata": {
    "ExecuteTime": {
     "end_time": "2022-07-16T13:40:43.122464Z",
     "start_time": "2022-07-16T13:40:42.292653Z"
    },
    "code_folding": []
   },
   "outputs": [],
   "source": [
    "while iteration<number_of_sim:\n",
    "    arr_ID=0                               # Total number of entered machines (equivalent to ID)\n",
    "    MTOT=0                                 #Total number of machines entered between 120 till 600\n",
    "    Status=np.zeros(TotalServers)          # Status of Server I (0=idle, 1=busy)\n",
    "    Q=np.zeros(5)                          # Number of machines waiting in ith queue\n",
    "    TotalQ=np.zeros(5)                     # Total number of machines waited in ith queue\n",
    "    SVR=np.zeros(TotalServers)             # Service time of server i\n",
    "    Tnow=0\n",
    "    T1=120\n",
    "    T2=600\n",
    "    TWT=0\n",
    "    NF=0\n",
    "    max_WT=0\n",
    "    N=np.zeros(TotalServers)      # Total number of served machines by server i\n",
    "    RespTime=[]                   # Response time (equals to departure time – arrival time)\n",
    "    FEL=[(0,0,1,0,1),(0,0,0,0,2),(3,180,-1,0,0)]    \n",
    "    '''\n",
    "    List of Tuples – All future events are saved in this list with this format: \n",
    "        •Code\n",
    "        •Time\n",
    "        •Priority (1 for yes, 0 for no)\n",
    "        •Rework, whether the machine needs rework or not (1 for rework, 0 for no need for rework)\n",
    "        •ID of the machine\n",
    "    '''\n",
    "    FEL_backup=[]                 # backup of FEL (saves every event)\n",
    "    Q_A=[]                        # machines waiting in queue of server A; format: (ID,time,priority)\n",
    "    Q_B=[]\n",
    "    Q_C=[]\n",
    "    Q_D=[]\n",
    "    Q_E=[]\n",
    "\n",
    "    Demographic={}                  \n",
    "    '''\n",
    "    Dictionary – containing following info: \n",
    "        •ID of machine\n",
    "        •Arrival time, machine’s arrival time.\n",
    "        •Type of the order, whether it has a priority or not (1 for priority, 0 for non-priority)\n",
    "        •Rework, whether the machine needs rework or not (1 for rework, 0 for no need for rework)\n",
    "    the ID is used as key and other info is used as value in this dictionary.\n",
    "    '''\n",
    "    while (Tnow <= T2) or (len(FEL)!=0):\n",
    "        \n",
    "        # arrival event\n",
    "        if FEL[0][0]==0:\n",
    "            code_type=FEL[0][2]\n",
    "            arr_ID+=1\n",
    "            \n",
    "            FEL[0]=(FEL[0][0] , FEL[0][1],FEL[0][2],FEL[0][3],arr_ID)            \n",
    "            Demographic[arr_ID]=Tnow            \n",
    "            if (Tnow>=T1) and (Tnow<=T2): MTOT+=1\n",
    "\n",
    "            if code_type==0: #ordinary\n",
    "                \n",
    "                #interarrival for ordinary order\n",
    "                InterArrival=normal_generator(sample_random[rcounter],sample_random[rcounter+1], 16,12)   \n",
    "                rcounter+=2\n",
    "                if (Tnow+InterArrival <=T2):\n",
    "                    #add arrival event of non-priority order\n",
    "                    FEL.append((0 , Tnow+InterArrival,0,0,-2))\n",
    "\n",
    "            elif code_type==1:\n",
    "                 #interarrival for priority order\n",
    "                InterArrival=normal_generator(sample_random[rcounter],sample_random[rcounter+1] , 5,2)    \n",
    "                rcounter+=2\n",
    "                if (Tnow+InterArrival <=T2):\n",
    "                    #add arrival event of priority order\n",
    "                    FEL.append((0 , Tnow+InterArrival,1,0,-2))               \n",
    "\n",
    "            if Status[0]==0:\n",
    "                \n",
    "                Status[0]=1\n",
    "                ST = abs(normal_generator(sample_random[rcounter],sample_random[rcounter+1] , 2,13))\n",
    "                rcounter+=2\n",
    "                \n",
    "                if (Tnow>=T1) and (Tnow<=T2): \n",
    "                    SVR[0]+=min(T2-Tnow,ST)\n",
    "                    N[0]+=1\n",
    "                FEL.append((1 , Tnow+ST , code_type,0,FEL[0][4]))\n",
    "                \n",
    "            else:\n",
    "                Q_A.append((FEL[0][4] , Tnow , code_type,0))    # (ID, Time, priority or not , rework or not)\n",
    "                Q[0]+=1\n",
    "                if (Tnow>=T1) and (Tnow<=T2): TotalQ[0]+=1\n",
    "         \n",
    "        \n",
    "        # departure from server A\n",
    "        elif FEL[0][0]==1:\n",
    "            code_type=FEL[0][2]                            # for the machine that is leaving NOW\n",
    "            if FEL[0][3]==0:                               #(if there was no rework for the current machine)\n",
    "     \n",
    "                if Q[0]==0:\n",
    "                    Status[0]=0                                           # server 1 (A) is idle now\n",
    "                else:\n",
    "                    Q[0]-=1\n",
    "                    if (Tnow>=T1) and (Tnow<=T2): N[0]+=1\n",
    "                    ID=-1\n",
    "                    for x in Q_A:  #priority chekcing\n",
    "                        if x[2]==1:\n",
    "                            code_type_=1\n",
    "                            rework=x[3]\n",
    "                            ID=x[0]\n",
    "                            if Tnow>=T1:\n",
    "                                WT= min(Tnow,T2)-max(x[1],T1)\n",
    "                                if WT>0:\n",
    "                                    max_WT=max(WT,max_WT)\n",
    "                                    TWT+=WT\n",
    "                            Q_A.remove(x)\n",
    "                            break\n",
    "                    if ID==-1:    #ordinary chcecking\n",
    "                        code_type_=0\n",
    "                        rework=Q_A[0][3]\n",
    "                        ID=Q_A[0][0]\n",
    "                        if Tnow>=T1:\n",
    "                            WT = min(Tnow,T2) - max(Q_A[0][1],T1) \n",
    "                            if WT>0:\n",
    "                                max_WT=max(WT,max_WT)\n",
    "                                TWT+=WT\n",
    "                        Q_A.pop(0)\n",
    "                        \n",
    "                    ST = abs(normal_generator(sample_random[rcounter] , sample_random[rcounter+1],2,13))\n",
    "                    rcounter+=2\n",
    "                    if (Tnow>=T1) and (Tnow<=T2): SVR[0]+=min(T2-Tnow,ST)\n",
    "                    FEL.append((1 , Tnow+ST,code_type_,rework,ID))         # Future departure event from server 1 \n",
    "                    \n",
    "            # arrival event to B (under departure event from A) (for current machine)\n",
    "            for i in range(1,4):\n",
    "                if Status[i]==0:\n",
    "                    Status[i]=1\n",
    "                    if (Tnow>=T1) and (Tnow<=T2): N[i]+=1\n",
    "                    if FEL[0][3]==1:\n",
    "                        ST=abs(normal_generator(sample_random[rcounter] , sample_random[rcounter+1],27,8))\n",
    "                        rcounter+=2\n",
    "\n",
    "                    else: \n",
    "                        ST=abs(normal_generator(sample_random[rcounter] , sample_random[rcounter+1],20,39))\n",
    "                        rcounter+=2\n",
    "                        \n",
    "                    if (Tnow>=T1) and (Tnow<=T2): SVR[i]+=min(T2-Tnow,ST)\n",
    "                    \n",
    "                    FEL.append((i+1 , Tnow+ST,code_type,FEL[0][3],FEL[0][4]))        # Future departure event from server i=2,3,4           \n",
    "                    break\n",
    "\n",
    "                elif i==3:\n",
    "                    Q_B.append((FEL[0][4] , Tnow , code_type,FEL[0][3]))\n",
    "                    Q[1]+=1\n",
    "                    if (Tnow>=T1) and (Tnow<=T2): TotalQ[1]+=1\n",
    "\n",
    "        # departure from server B\n",
    "        elif FEL[0][0] in [2,3,4]:  \n",
    "            code_type=FEL[0][2]                                       # for the machine that is leaving server B NOW\n",
    "            \n",
    "            if code_type==-1:                                         # breakdown of machine C event\n",
    "                if (Tnow>=T1) and (Tnow<=T2): NF+=1\n",
    "                if Status[4]==0:\n",
    "                    Status[4]=1\n",
    "                    FT=normal_generator(sample_random[rcounter] , sample_random[rcounter+1],10,2)\n",
    "                    rcounter+=2\n",
    "                    FEL.append((5 , Tnow+FT ,-1 , 0,0))\n",
    "                else:\n",
    "                    Q_C.append((0 , Tnow , -1))\n",
    "                    Q[2]+=1  \n",
    "            else:\n",
    "                if Q[1]==0:                                               # Q[1] is queue of server B\n",
    "                    Status[FEL[0][0]-1]=0                                 # server i=2/3/4 (from B) is idle now\n",
    "                else:\n",
    "                    Q[1]-=1\n",
    "                    if (Tnow>=T1) and (Tnow<=T2): N[FEL[0][0]-1]+=1\n",
    "                    ID=-1\n",
    "                    for x in Q_B:  #priority chekcing\n",
    "                        if x[2]==1:\n",
    "                            code_type_=1\n",
    "                            rework=x[3]\n",
    "                            ID=x[0]\n",
    "                            if Tnow>=T1:\n",
    "                                WT = min(Tnow,T2) - max(x[1],T1)\n",
    "                                if WT>0:\n",
    "                                    max_WT=max(WT,max_WT)\n",
    "                                    TWT+=WT\n",
    "                            Q_B.remove(x)\n",
    "                            break\n",
    "                    if ID==-1:    #ordinary chcecking\n",
    "                        code_type_=0\n",
    "                        rework=Q_B[0][3]\n",
    "                        ID=Q_B[0][0]\n",
    "                        if (Tnow>=T1):\n",
    "                            WT = min(Tnow,T2) - max(Q_B[0][1],T1)  \n",
    "                            if WT>0:\n",
    "                                max_WT=max(WT,max_WT)\n",
    "                                TWT+=WT\n",
    "                        Q_B.pop(0)\n",
    "                        \n",
    "                    if rework==1:\n",
    "                        ST= abs(normal_generator(sample_random[rcounter] , sample_random[rcounter+1],27,8))\n",
    "                        rcounter+=2\n",
    "\n",
    "                    else: \n",
    "                        ST = abs(normal_generator(sample_random[rcounter] , sample_random[rcounter+1],20,39))\n",
    "                        rcounter+=2\n",
    "                    if (Tnow>=T1) and (Tnow<=T2): SVR[FEL[0][0]-1]+=min(T2-Tnow,ST)\n",
    "                    \n",
    "                    # departure event from server i=2 or 3 or 4\n",
    "                    FEL.append((FEL[0][0] , Tnow+ST,code_type_,rework,ID))\n",
    "\n",
    "                #arrival event to C (under departure event from B)\n",
    "                if (FEL[0][3]==0) and (sample_random[rcounter]<=0.6):    # (send the machine to C if rework==0 and rnd<=0.6)\n",
    "                    rcounter+=1\n",
    "                    if Status[4]==0:\n",
    "                        Status[4]=1\n",
    "                        ST=20\n",
    "                        if (Tnow>=T1) and (Tnow<=T2): \n",
    "                            N[4]+=1\n",
    "                            SVR[4]+=min(T2-Tnow,ST)\n",
    "                        FEL.append((5 , Tnow+ST,code_type,0,FEL[0][4]))\n",
    "\n",
    "                    else:\n",
    "                        Q_C.append((FEL[0][4] , Tnow , code_type))\n",
    "                        Q[2]+=1\n",
    "                        if (Tnow>=T1) and (Tnow<=T2): TotalQ[2]+=1\n",
    "\n",
    "                #arrival event to D (under departure event from B)\n",
    "                else:\n",
    "                    rcounter+=1\n",
    "                    for i in range(5,9):\n",
    "                        if Status[i]==0:\n",
    "                            Status[i]=1\n",
    "                            if (Tnow>=T1) and (Tnow<=T2): N[i]+=1\n",
    "                            ST=abs(normal_generator(sample_random[rcounter] , sample_random[rcounter+1],30,47)) \n",
    "                            rcounter+=2\n",
    "                            if (Tnow>=T1) and (Tnow<=T2): SVR[i]+=min(T2-Tnow,ST)\n",
    "                            FEL.append((i+1 , Tnow+ST,code_type,FEL[0][3],FEL[0][4]))\n",
    "                            break\n",
    "\n",
    "                        elif i==8:\n",
    "                            Q_D.append((FEL[0][4] , Tnow , code_type,FEL[0][3]))\n",
    "                            Q[3]+=1\n",
    "                            if (Tnow>=T1) and (Tnow<=T2): TotalQ[3]+=1           \n",
    "\n",
    "\n",
    "        # departure from server C\n",
    "        elif FEL[0][0]==5:\n",
    "            code_type=FEL[0][2]                                       # for the machine leaving server C NOW\n",
    "            if Q[2]==0:                                               # Q[2] is queue of server C\n",
    "                Status[4]=0                                           # server 5 (from C) is idle now\n",
    "                \n",
    "            else:\n",
    "                Q[2]-=1\n",
    "                ID=-2\n",
    "                for x in Q_C:  #breakdown checking\n",
    "                    if x[2]==-1:\n",
    "                        ID=x[0]\n",
    "                        Q_C.remove(x)\n",
    "                        FT = normal_generator(sample_random[rcounter] , sample_random[rcounter+1],10,2)\n",
    "                        rcounter+=2\n",
    "                        FEL.append((5 , Tnow+FT , -1 , 0,0))\n",
    "                        break\n",
    "                if ID==-2:    \n",
    "                    code_type_=Q_C[0][2]\n",
    "                    ID=Q_C[0][0]\n",
    "                    if (Tnow>=T1):\n",
    "                        WT = min(Tnow,T2) - max(Q_C[0][1],T1)  \n",
    "                        if WT>0:\n",
    "                            max_WT=max(WT,max_WT)\n",
    "                            TWT+=WT\n",
    "                    Q_C.pop(0)\n",
    "                    ST = 20\n",
    "                    if (Tnow>=T1) and (Tnow<=T2): SVR[4]+=min(T2-Tnow,ST); N[4]+=1\n",
    "                    FEL.append((5 , Tnow+ST,code_type_,0,ID))     # departure event from server i=5\n",
    "                    \n",
    "                    \n",
    "            # adding next event of breakdown\n",
    "            if (code_type==-1) and (sum([Status[i] for i in range(12) if i!=4])>0) :               \n",
    "                FEL.append((3,Tnow+120,-1,0,0))\n",
    "\n",
    "            #arrival event to D (under departure event from C) (for the current machine leaving C)\n",
    "            elif code_type!=-1:\n",
    "                for i in range(5,9):\n",
    "                    if Status[i]==0:\n",
    "                        Status[i]=1\n",
    "                        ST=abs(normal_generator(sample_random[rcounter] , sample_random[rcounter+1],30,47))\n",
    "                        rcounter+=2\n",
    "                        if (Tnow>=T1) and (Tnow<=T2):\n",
    "                            N[i]+=1\n",
    "                            SVR[i]+=ST\n",
    "                        FEL.append((i+1 , Tnow+ST,code_type,0,FEL[0][4]))\n",
    "                        break\n",
    "\n",
    "                    elif i==8:\n",
    "                        Q_D.append((FEL[0][4] , Tnow , code_type,0))\n",
    "                        Q[3]+=1\n",
    "                        if (Tnow>=T1) and (Tnow<=T2): TotalQ[3]+=1\n",
    "\n",
    "\n",
    "\n",
    "        # departure from server D\n",
    "        elif FEL[0][0] in [6,7,8,9]:\n",
    "            code_type=FEL[0][2]\n",
    "            if Q[3]==0:                            # Q[3] is queue of server D\n",
    "                Status[FEL[0][0]-1]=0              # server i=6 or 7 or 8 or 9 (from B) is idle now\n",
    "                \n",
    "            else:\n",
    "                Q[3]-=1\n",
    "                if (Tnow>=T1) and (Tnow<=T2): N[FEL[0][0]-1]+=1\n",
    "                ID=-1\n",
    "                for x in Q_D:  #priority chekcing\n",
    "                    if x[2]==1:\n",
    "                        code_type_=1\n",
    "                        rework=x[3]\n",
    "                        ID=x[0]\n",
    "                        if (Tnow>=T1):\n",
    "                            WT = min(Tnow,T2) - max(x[1],T1)\n",
    "                            if WT>0:\n",
    "                                max_WT=max(WT,max_WT)\n",
    "                                TWT+=WT\n",
    "                        Q_D.remove(x)\n",
    "                        break\n",
    "                if ID==-1:    #ordinary chcecking\n",
    "                    code_type_=0\n",
    "                    rework=Q_D[0][3]\n",
    "                    ID=Q_D[0][0]\n",
    "                    if (Tnow>=T1):\n",
    "                        WT = min(Tnow,T2) - max(Q_D[0][1],T1)\n",
    "                        if WT>0:\n",
    "                            max_WT=max(WT,max_WT)\n",
    "                            TWT+=WT\n",
    "                    Q_D.pop(0)\n",
    "\n",
    "                ST = abs(normal_generator(sample_random[rcounter] , sample_random[rcounter+1],30,47))\n",
    "                rcounter+=2\n",
    "                if (Tnow>=T1) and (Tnow<=T2): SVR[FEL[0][0]-1]+=min(T2-Tnow,ST)\n",
    "                \n",
    "                FEL.append((FEL[0][0] , Tnow+ST,code_type_,rework,ID))   # departure event from server i=6/7/8/9\n",
    "                \n",
    "            #arrival event to E (under departure event from D)\n",
    "            if (FEL[0][3]==1) or (sample_random[rcounter]<=0.9):\n",
    "                rcounter+=1\n",
    "                for i in range(9,12):\n",
    "                    if Status[i]==0:\n",
    "                        Status[i]=1\n",
    "                        ST=abs(normal_generator(sample_random[rcounter] , sample_random[rcounter+1],4,42))\n",
    "                        rcounter+=2\n",
    "                        if (Tnow>=T1) and (Tnow<=T2):\n",
    "                            N[i]+=1\n",
    "                            SVR[i]+=min(T2-Tnow,ST)\n",
    "                        FEL.append((i+1 , Tnow+ST , code_type , FEL[0][3],FEL[0][4]))\n",
    "                        break\n",
    "                    elif i==11:\n",
    "                        Q_E.append((FEL[0][4] , Tnow , code_type , FEL[0][3]))\n",
    "                        Q[4]+=1\n",
    "                        if (Tnow>=T1) and (Tnow<=T2): TotalQ[4]+=1\n",
    "\n",
    "            #Rewrok to B (under departure event from D)\n",
    "            else:\n",
    "                rcounter+=1\n",
    "                FEL.append((1 , Tnow , code_type , 1,FEL[0][4]))\n",
    "\n",
    "        # departure from server E\n",
    "        elif FEL[0][0] in [10,11,12]:\n",
    "            Demographic[FEL[0][4]]=(Demographic[FEL[0][4]] , Tnow)\n",
    "            code_type=FEL[0][2]\n",
    "            if Q[4]==0:                                               # Q[3] is queue of server D\n",
    "                Status[FEL[0][0]-1]=0                                 # server i=10/11/12 (from E) is idle now\n",
    "\n",
    "            else:\n",
    "                Q[4]-=1\n",
    "                if (Tnow>=T1) and (Tnow<=T2): N[FEL[0][0]-1]+=1\n",
    "                ID=-1\n",
    "                for x in Q_E:  #priority chekcing\n",
    "                    if x[2]==1:\n",
    "                        code_type_=1\n",
    "                        rework=x[3]\n",
    "                        ID=x[0]\n",
    "                        if (Tnow>=T1):\n",
    "                            WT = min(Tnow,T2) - max(x[1],T1)\n",
    "                            if WT>0:\n",
    "                                max_WT=max(WT,max_WT)\n",
    "                                TWT+=WT\n",
    "                        Q_E.remove(x)\n",
    "                        break\n",
    "                if ID==-1:    #ordinary chcecking\n",
    "                    code_type_=0\n",
    "                    rework=Q_E[0][3]\n",
    "                    ID=Q_E[0][0]\n",
    "                    if (Tnow>=T1):\n",
    "                        WT = min(Tnow,T2) - max(Q_E[0][1],T1)  \n",
    "                        if WT>0:\n",
    "                            max_WT=max(WT,max_WT)\n",
    "                            TWT+=WT\n",
    "                    Q_E.pop(0)\n",
    "\n",
    "                ST = abs(normal_generator(sample_random[rcounter] , sample_random[rcounter+1],4,42))\n",
    "                rcounter=+2\n",
    "                if (Tnow>=T1) and (Tnow<=T2): SVR[FEL[0][0]-1]+=min(T2-Tnow,ST)\n",
    "                    \n",
    "                # Future departure event from server i=10/11/12 (E)\n",
    "                FEL.append((FEL[0][0] , Tnow+ST,code_type_,rework,ID))     \n",
    "        FEL_backup.extend(FEL)\n",
    "        FEL.pop(0)\n",
    "        FEL.sort(key=lambda x: x[1])\n",
    "        if len(FEL)!=0: Tnow=FEL[0][1]           #updating Tnow\n",
    "        # END OF WHILE LOOP\n",
    "    \n",
    "    FEL_backup = list(set(FEL_backup))\n",
    "    FEL_backup.sort(key=lambda x: x[1]) #sorting all the events chronologically\n",
    "    iteration+=1\n",
    "    \n",
    "    #saving the results of each iteration\n",
    "    Demographic_list_A.append(Demographic)\n",
    "    TWT_list_A.append(TWT)\n",
    "    N_list_A.append(N)\n",
    "    SVR_list_A.append(SVR)\n",
    "    TotalQ_list_A.append(TotalQ)\n",
    "    max_WT_list_A.append(max_WT)\n",
    "    FEL_total_A.append(FEL_backup)\n",
    "    MTOT_list_A.append(MTOT)\n",
    "    \n",
    "# END of 10 iterations"
   ]
  },
  {
   "cell_type": "markdown",
   "metadata": {},
   "source": [
    "### Collecting Statistics"
   ]
  },
  {
   "cell_type": "markdown",
   "metadata": {},
   "source": [
    "#### Response Time assuming that arrival event to the system>=120 and departure event from the system<=600 for a specific machine"
   ]
  },
  {
   "cell_type": "code",
   "execution_count": 12,
   "metadata": {
    "ExecuteTime": {
     "end_time": "2022-07-16T13:40:43.137393Z",
     "start_time": "2022-07-16T13:40:43.124429Z"
    }
   },
   "outputs": [
    {
     "name": "stdout",
     "output_type": "stream",
     "text": [
      "Average Response time for the machine that entered the system after 120min and left the system before 600min is 388.0 2\n",
      "95% confidence interval for average response time is: (382.96653906006475, 393.1476263536423)\n"
     ]
    }
   ],
   "source": [
    "ResponseTimeA1 = [tuple((x[1]-x[0]) for x in Demographic.values() if x[0]>=120 and x[1]<=600) \n",
    "                  for Demographic in Demographic_list_A]\n",
    "mean_RTA1 = [np.mean(x) for x in ResponseTimeA1]\n",
    "print('Average Response time for the machine that entered the system after 120min and left the system before 600min is',np.around(np.mean(mean_RTA1)),2)\n",
    "print('95% confidence interval for average response time is:' , st.t.interval(alpha=0.95 , df=len(mean_RTA1)-1 , loc=np.mean(mean_RTA1) , scale=st.sem(mean_RTA1)))"
   ]
  },
  {
   "cell_type": "markdown",
   "metadata": {},
   "source": [
    "Machines that needs rework:"
   ]
  },
  {
   "cell_type": "markdown",
   "metadata": {
    "ExecuteTime": {
     "end_time": "2022-06-03T13:10:47.724937Z",
     "start_time": "2022-06-03T13:10:47.709969Z"
    }
   },
   "source": [
    "#### Response Time assuming that arrival event to the system>=120 for a specific machine"
   ]
  },
  {
   "cell_type": "code",
   "execution_count": 13,
   "metadata": {
    "ExecuteTime": {
     "end_time": "2022-07-16T13:40:43.152353Z",
     "start_time": "2022-07-16T13:40:43.139389Z"
    }
   },
   "outputs": [
    {
     "name": "stdout",
     "output_type": "stream",
     "text": [
      "mean Response time for the machine that entered the system after 120min is 1227.8954140203762\n",
      "95% confidence interval for average response time is: (1217.2075031236675, 1238.5833249170848)\n"
     ]
    }
   ],
   "source": [
    "ResponseTimeA2 = [tuple((x[1]-x[0]) for x in Demographic.values() if x[0]>=120) for Demographic in Demographic_list_A]\n",
    "mean_RTA2 = [np.mean(x) for x in ResponseTimeA2]\n",
    "print('mean Response time for the machine that entered the system after 120min is',np.mean(mean_RTA2))\n",
    "print('95% confidence interval for average response time is:' , st.t.interval(alpha=0.95 , df=len(mean_RTA2)-1 , loc=np.mean(mean_RTA2) , scale=st.sem(mean_RTA2)))"
   ]
  },
  {
   "cell_type": "code",
   "execution_count": 14,
   "metadata": {
    "ExecuteTime": {
     "end_time": "2022-07-16T13:40:43.168310Z",
     "start_time": "2022-07-16T13:40:43.154349Z"
    }
   },
   "outputs": [
    {
     "name": "stdout",
     "output_type": "stream",
     "text": [
      "{5, 134, 9, 75, 12, 13, 44, 146, 19, 21, 22, 87, 149, 121, 29}\n"
     ]
    }
   ],
   "source": [
    "rework_needed = set([x[4] for x in FEL_total_A[0] if x[3]==1])\n",
    "print(rework_needed)"
   ]
  },
  {
   "cell_type": "code",
   "execution_count": 15,
   "metadata": {
    "ExecuteTime": {
     "end_time": "2022-07-16T13:40:43.183270Z",
     "start_time": "2022-07-16T13:40:43.170305Z"
    }
   },
   "outputs": [
    {
     "name": "stdout",
     "output_type": "stream",
     "text": [
      "ID=5: (12.444625136209712, 573.5619933645759)\n",
      "ID=9: (29.51380602994649, 422.49950071003025)\n",
      "ID=12: (38.23021368886692, 458.31230079947227)\n",
      "ID=13: (39.69320180630389, 486.5987600105296)\n",
      "ID=19: (67.94249549647532, 690.9920486077195)\n",
      "ID=21: (78.4336112422166, 785.4260802176431)\n",
      "ID=22: (81.94417400995627, 651.3846252649458)\n",
      "ID=29: (103.3123261195333, 818.485306236338)\n",
      "ID=44: (151.91351912504982, 2287.4872554430603)\n",
      "ID=75: (294.3448143507258, 1723.0355201966918)\n",
      "ID=87: (341.8895212950304, 1714.5773259464593)\n",
      "ID=121: (474.9926923547436, 1862.2750901218128)\n",
      "ID=134: (524.3619758509077, 2590.0563359820235)\n",
      "ID=146: (576.2119762922838, 2176.7626840083803)\n",
      "ID=149: (591.0659116698727, 2127.523046562049)\n"
     ]
    }
   ],
   "source": [
    "keys = sorted(list(rework_needed))\n",
    "for key in keys:\n",
    "    print(f'ID={key}:',Demographic_list_A[0].get(key))"
   ]
  },
  {
   "cell_type": "markdown",
   "metadata": {},
   "source": [
    "#### Response Time in different time intervals"
   ]
  },
  {
   "cell_type": "code",
   "execution_count": 16,
   "metadata": {
    "ExecuteTime": {
     "end_time": "2022-07-16T13:40:43.245105Z",
     "start_time": "2022-07-16T13:40:43.185265Z"
    }
   },
   "outputs": [
    {
     "data": {
      "text/html": [
       "<div>\n",
       "<style scoped>\n",
       "    .dataframe tbody tr th:only-of-type {\n",
       "        vertical-align: middle;\n",
       "    }\n",
       "\n",
       "    .dataframe tbody tr th {\n",
       "        vertical-align: top;\n",
       "    }\n",
       "\n",
       "    .dataframe thead th {\n",
       "        text-align: right;\n",
       "    }\n",
       "</style>\n",
       "<table border=\"1\" class=\"dataframe\">\n",
       "  <thead>\n",
       "    <tr style=\"text-align: right;\">\n",
       "      <th></th>\n",
       "      <th>From</th>\n",
       "      <th>To</th>\n",
       "      <th>Mean Response Time</th>\n",
       "    </tr>\n",
       "  </thead>\n",
       "  <tbody>\n",
       "    <tr>\n",
       "      <th>0</th>\n",
       "      <td>120.0</td>\n",
       "      <td>180.0</td>\n",
       "      <td>819.504482</td>\n",
       "    </tr>\n",
       "    <tr>\n",
       "      <th>1</th>\n",
       "      <td>180.0</td>\n",
       "      <td>240.0</td>\n",
       "      <td>1014.855343</td>\n",
       "    </tr>\n",
       "    <tr>\n",
       "      <th>2</th>\n",
       "      <td>240.0</td>\n",
       "      <td>300.0</td>\n",
       "      <td>1057.178743</td>\n",
       "    </tr>\n",
       "    <tr>\n",
       "      <th>3</th>\n",
       "      <td>300.0</td>\n",
       "      <td>360.0</td>\n",
       "      <td>1192.379564</td>\n",
       "    </tr>\n",
       "    <tr>\n",
       "      <th>4</th>\n",
       "      <td>360.0</td>\n",
       "      <td>420.0</td>\n",
       "      <td>1345.061535</td>\n",
       "    </tr>\n",
       "    <tr>\n",
       "      <th>5</th>\n",
       "      <td>420.0</td>\n",
       "      <td>480.0</td>\n",
       "      <td>1345.602613</td>\n",
       "    </tr>\n",
       "    <tr>\n",
       "      <th>6</th>\n",
       "      <td>480.0</td>\n",
       "      <td>540.0</td>\n",
       "      <td>1415.933808</td>\n",
       "    </tr>\n",
       "    <tr>\n",
       "      <th>7</th>\n",
       "      <td>540.0</td>\n",
       "      <td>600.0</td>\n",
       "      <td>1524.877302</td>\n",
       "    </tr>\n",
       "  </tbody>\n",
       "</table>\n",
       "</div>"
      ],
      "text/plain": [
       "    From     To  Mean Response Time\n",
       "0  120.0  180.0          819.504482\n",
       "1  180.0  240.0         1014.855343\n",
       "2  240.0  300.0         1057.178743\n",
       "3  300.0  360.0         1192.379564\n",
       "4  360.0  420.0         1345.061535\n",
       "5  420.0  480.0         1345.602613\n",
       "6  480.0  540.0         1415.933808\n",
       "7  540.0  600.0         1524.877302"
      ]
     },
     "execution_count": 16,
     "metadata": {},
     "output_type": "execute_result"
    }
   ],
   "source": [
    "df_RT_A = pd.DataFrame({'From':np.zeros(8) , 'To':np.zeros(8) , 'Mean Response Time':np.zeros(8)})\n",
    "for lower_hour,upper_hour,i in zip(range(120,600,60) , range(180,660,60),range(0,8)):\n",
    "    rt = [tuple((x[1]-x[0]) for x in Demographic.values() if x[0]>=lower_hour and x[0]<=upper_hour)\n",
    "          for Demographic in Demographic_list_A]\n",
    "    df_RT_A.loc[i]=[lower_hour , upper_hour , np.mean([np.mean(x) for x in rt])]\n",
    "df_RT_A"
   ]
  },
  {
   "cell_type": "markdown",
   "metadata": {},
   "source": [
    "**Response Time at different time intervals 95%-confidence interval**"
   ]
  },
  {
   "cell_type": "code",
   "execution_count": 17,
   "metadata": {
    "ExecuteTime": {
     "end_time": "2022-07-16T13:40:43.307972Z",
     "start_time": "2022-07-16T13:40:43.247099Z"
    }
   },
   "outputs": [
    {
     "data": {
      "text/html": [
       "<div>\n",
       "<style scoped>\n",
       "    .dataframe tbody tr th:only-of-type {\n",
       "        vertical-align: middle;\n",
       "    }\n",
       "\n",
       "    .dataframe tbody tr th {\n",
       "        vertical-align: top;\n",
       "    }\n",
       "\n",
       "    .dataframe thead th {\n",
       "        text-align: right;\n",
       "    }\n",
       "</style>\n",
       "<table border=\"1\" class=\"dataframe\">\n",
       "  <thead>\n",
       "    <tr style=\"text-align: right;\">\n",
       "      <th></th>\n",
       "      <th>From</th>\n",
       "      <th>To</th>\n",
       "      <th>95%-CI Response Time</th>\n",
       "    </tr>\n",
       "  </thead>\n",
       "  <tbody>\n",
       "    <tr>\n",
       "      <th>0</th>\n",
       "      <td>120.0</td>\n",
       "      <td>180.0</td>\n",
       "      <td>[786.52, 852.49]</td>\n",
       "    </tr>\n",
       "    <tr>\n",
       "      <th>1</th>\n",
       "      <td>180.0</td>\n",
       "      <td>240.0</td>\n",
       "      <td>[985.08, 1044.63]</td>\n",
       "    </tr>\n",
       "    <tr>\n",
       "      <th>2</th>\n",
       "      <td>240.0</td>\n",
       "      <td>300.0</td>\n",
       "      <td>[1043.34, 1071.02]</td>\n",
       "    </tr>\n",
       "    <tr>\n",
       "      <th>3</th>\n",
       "      <td>300.0</td>\n",
       "      <td>360.0</td>\n",
       "      <td>[1170.04, 1214.72]</td>\n",
       "    </tr>\n",
       "    <tr>\n",
       "      <th>4</th>\n",
       "      <td>360.0</td>\n",
       "      <td>420.0</td>\n",
       "      <td>[1326.53, 1363.59]</td>\n",
       "    </tr>\n",
       "    <tr>\n",
       "      <th>5</th>\n",
       "      <td>420.0</td>\n",
       "      <td>480.0</td>\n",
       "      <td>[1328.38, 1362.82]</td>\n",
       "    </tr>\n",
       "    <tr>\n",
       "      <th>6</th>\n",
       "      <td>480.0</td>\n",
       "      <td>540.0</td>\n",
       "      <td>[1400.36, 1431.51]</td>\n",
       "    </tr>\n",
       "    <tr>\n",
       "      <th>7</th>\n",
       "      <td>540.0</td>\n",
       "      <td>600.0</td>\n",
       "      <td>[1504.78, 1544.98]</td>\n",
       "    </tr>\n",
       "  </tbody>\n",
       "</table>\n",
       "</div>"
      ],
      "text/plain": [
       "    From     To 95%-CI Response Time\n",
       "0  120.0  180.0     [786.52, 852.49]\n",
       "1  180.0  240.0    [985.08, 1044.63]\n",
       "2  240.0  300.0   [1043.34, 1071.02]\n",
       "3  300.0  360.0   [1170.04, 1214.72]\n",
       "4  360.0  420.0   [1326.53, 1363.59]\n",
       "5  420.0  480.0   [1328.38, 1362.82]\n",
       "6  480.0  540.0   [1400.36, 1431.51]\n",
       "7  540.0  600.0   [1504.78, 1544.98]"
      ]
     },
     "execution_count": 17,
     "metadata": {},
     "output_type": "execute_result"
    }
   ],
   "source": [
    "df_RT_CI_A = pd.DataFrame({'From':np.zeros(8) , 'To':np.zeros(8) , '95%-CI Response Time':np.zeros(8)})\n",
    "for lower_hour,upper_hour,i in zip(range(120,600,60) , range(180,660,60),range(0,8)):\n",
    "    rt = [tuple((x[1]-x[0]) for x in Demographic.values() if x[0]>=lower_hour and x[0]<=upper_hour) for Demographic in Demographic_list_A]\n",
    "    mean_rt = [np.mean(x) for x in rt]\n",
    "    df_RT_CI_A.loc[i]=[lower_hour , upper_hour ,\n",
    "                       str(list(map(lambda x: np.round(x,2) , list(st.t.interval(alpha=0.95 , df=len(mean_rt)-1 , loc=np.mean(mean_rt) , scale=st.sem(mean_rt))))))]\n",
    "# df_RT_CI_A['95%-CI Response Time'].apply(lambda x: np.round(x,2))\n",
    "df_RT_CI_A"
   ]
  },
  {
   "cell_type": "markdown",
   "metadata": {
    "ExecuteTime": {
     "end_time": "2022-06-03T14:01:17.369832Z",
     "start_time": "2022-06-03T14:01:17.360871Z"
    }
   },
   "source": [
    "**Average waiting time for each machine**"
   ]
  },
  {
   "cell_type": "code",
   "execution_count": 18,
   "metadata": {
    "ExecuteTime": {
     "end_time": "2022-07-16T13:40:43.323893Z",
     "start_time": "2022-07-16T13:40:43.309931Z"
    }
   },
   "outputs": [
    {
     "name": "stdout",
     "output_type": "stream",
     "text": [
      "Mean waiting time of machines waiting in queues is: 33945.7581315199 (calculated waiting time only for 120<=T<=600)\n",
      "95% confidence interval for average waiting time is: (33639.20298614246, 34252.31327689734)\n"
     ]
    }
   ],
   "source": [
    "print('Mean waiting time of machines waiting in queues is:',\n",
    "      np.mean(np.array(TWT_list_A)) , '(calculated waiting time only for 120<=T<=600)')\n",
    "print('95% confidence interval for average waiting time is:' ,\n",
    "      st.t.interval(alpha=0.95 , df=len(TWT_list_A)-1 , loc=np.mean(TWT_list_A) , scale=st.sem(TWT_list_A)))"
   ]
  },
  {
   "cell_type": "markdown",
   "metadata": {
    "ExecuteTime": {
     "end_time": "2022-06-03T14:01:31.420268Z",
     "start_time": "2022-06-03T14:01:31.407278Z"
    }
   },
   "source": [
    "**Average service time at workstations** "
   ]
  },
  {
   "cell_type": "code",
   "execution_count": 19,
   "metadata": {
    "ExecuteTime": {
     "end_time": "2022-07-16T13:40:43.353814Z",
     "start_time": "2022-07-16T13:40:43.326887Z"
    }
   },
   "outputs": [
    {
     "data": {
      "text/html": [
       "<div>\n",
       "<style scoped>\n",
       "    .dataframe tbody tr th:only-of-type {\n",
       "        vertical-align: middle;\n",
       "    }\n",
       "\n",
       "    .dataframe tbody tr th {\n",
       "        vertical-align: top;\n",
       "    }\n",
       "\n",
       "    .dataframe thead th {\n",
       "        text-align: right;\n",
       "    }\n",
       "</style>\n",
       "<table border=\"1\" class=\"dataframe\">\n",
       "  <thead>\n",
       "    <tr style=\"text-align: right;\">\n",
       "      <th></th>\n",
       "      <th>Average Service Time</th>\n",
       "    </tr>\n",
       "  </thead>\n",
       "  <tbody>\n",
       "    <tr>\n",
       "      <th>A</th>\n",
       "      <td>11.653696</td>\n",
       "    </tr>\n",
       "    <tr>\n",
       "      <th>B</th>\n",
       "      <td>35.185439</td>\n",
       "    </tr>\n",
       "    <tr>\n",
       "      <th>C</th>\n",
       "      <td>19.430425</td>\n",
       "    </tr>\n",
       "    <tr>\n",
       "      <th>D</th>\n",
       "      <td>45.179903</td>\n",
       "    </tr>\n",
       "    <tr>\n",
       "      <th>E</th>\n",
       "      <td>37.862815</td>\n",
       "    </tr>\n",
       "  </tbody>\n",
       "</table>\n",
       "</div>"
      ],
      "text/plain": [
       "   Average Service Time\n",
       "A             11.653696\n",
       "B             35.185439\n",
       "C             19.430425\n",
       "D             45.179903\n",
       "E             37.862815"
      ]
     },
     "execution_count": 19,
     "metadata": {},
     "output_type": "execute_result"
    }
   ],
   "source": [
    "mean_ST_A = np.mean(np.array([x[0] for x in SVR_list_A])/np.array([x[0] for x in N_list_A]))\n",
    "mean_ST_B = np.mean(np.array([(x[1]+x[2]+x[3]) for x in SVR_list_A])/np.array([(x[1]+x[2]+x[3]) for x in N_list_A]))\n",
    "mean_ST_C = np.mean(np.array([x[4] for x in SVR_list_A])/np.array([x[4] for x in N_list_A]))\n",
    "mean_ST_D = np.mean(np.array([(x[5]+x[6]+x[7]+x[8]) for x in SVR_list_A])/np.array([(x[5]+x[6]+x[7]+x[8]) for x in N_list_A]))\n",
    "mean_ST_E = np.mean(np.array([(x[9]+x[10]+x[11]) for x in SVR_list_A])/np.array([(x[9]+x[10]+x[11]) for x in N_list_A]))\n",
    "\n",
    "mean_ST_total_value=[mean_ST_A,mean_ST_B,mean_ST_C,mean_ST_D,mean_ST_E]\n",
    "df_ST_A = pd.DataFrame({'Average Service Time': mean_ST_total_value} , index=['A','B','C','D','E'])\n",
    "df_ST_A"
   ]
  },
  {
   "cell_type": "markdown",
   "metadata": {},
   "source": [
    "**Service time at workstations 95%-confidence interval**"
   ]
  },
  {
   "cell_type": "code",
   "execution_count": 20,
   "metadata": {
    "ExecuteTime": {
     "end_time": "2022-07-16T13:40:43.384732Z",
     "start_time": "2022-07-16T13:40:43.355809Z"
    }
   },
   "outputs": [
    {
     "data": {
      "text/html": [
       "<div>\n",
       "<style scoped>\n",
       "    .dataframe tbody tr th:only-of-type {\n",
       "        vertical-align: middle;\n",
       "    }\n",
       "\n",
       "    .dataframe tbody tr th {\n",
       "        vertical-align: top;\n",
       "    }\n",
       "\n",
       "    .dataframe thead th {\n",
       "        text-align: right;\n",
       "    }\n",
       "</style>\n",
       "<table border=\"1\" class=\"dataframe\">\n",
       "  <thead>\n",
       "    <tr style=\"text-align: right;\">\n",
       "      <th></th>\n",
       "      <th>95%-Confidence Interval</th>\n",
       "    </tr>\n",
       "  </thead>\n",
       "  <tbody>\n",
       "    <tr>\n",
       "      <th>A</th>\n",
       "      <td>[11.33, 11.98]</td>\n",
       "    </tr>\n",
       "    <tr>\n",
       "      <th>B</th>\n",
       "      <td>[34.71, 35.66]</td>\n",
       "    </tr>\n",
       "    <tr>\n",
       "      <th>C</th>\n",
       "      <td>[19.38, 19.48]</td>\n",
       "    </tr>\n",
       "    <tr>\n",
       "      <th>D</th>\n",
       "      <td>[44.33, 46.03]</td>\n",
       "    </tr>\n",
       "    <tr>\n",
       "      <th>E</th>\n",
       "      <td>[36.85, 38.87]</td>\n",
       "    </tr>\n",
       "  </tbody>\n",
       "</table>\n",
       "</div>"
      ],
      "text/plain": [
       "  95%-Confidence Interval\n",
       "A          [11.33, 11.98]\n",
       "B          [34.71, 35.66]\n",
       "C          [19.38, 19.48]\n",
       "D          [44.33, 46.03]\n",
       "E          [36.85, 38.87]"
      ]
     },
     "execution_count": 20,
     "metadata": {},
     "output_type": "execute_result"
    }
   ],
   "source": [
    "service_time_A = np.array([x[0] for x in SVR_list_A])/np.array([x[0] for x in N_list_A])\n",
    "service_time_B = np.array([(x[1]+x[2]+x[3]) for x in SVR_list_A]) / np.array([(x[1]+x[2]+x[3]) for x in N_list_A])\n",
    "service_time_C = np.array([x[4] for x in SVR_list_A])/np.array([x[4] for x in N_list_A])\n",
    "service_time_D = np.array([(x[5]+x[6]+x[7]+x[8]) for x in SVR_list_A])/np.array([(x[5]+x[6]+x[7]+x[8]) for x in N_list_A])\n",
    "service_time_E = np.array([(x[9]+x[10]+x[11]) for x in SVR_list_A])/np.array([(x[9]+x[10]+x[11]) for x in N_list_A])\n",
    "\n",
    "CI_ST_A = list(map(lambda x: np.round(x,2) , list(st.t.interval(alpha=0.95 , df=len(service_time_A)-1 , loc=np.mean(service_time_A) , scale=st.sem(service_time_A)))))\n",
    "CI_ST_B = list(map(lambda x: np.round(x,2) , list(st.t.interval(alpha=0.95 , df=len(service_time_B)-1 , loc=np.mean(service_time_B) , scale=st.sem(service_time_B)))))\n",
    "CI_ST_C = list(map(lambda x: np.round(x,2) , list(st.t.interval(alpha=0.95 , df=len(service_time_C)-1 , loc=np.mean(service_time_C) , scale=st.sem(service_time_C)))))\n",
    "CI_ST_D = list(map(lambda x: np.round(x,2) , list(st.t.interval(alpha=0.95 , df=len(service_time_D)-1 , loc=np.mean(service_time_D) , scale=st.sem(service_time_D)))))\n",
    "CI_ST_E = list(map(lambda x: np.round(x,2) , list(st.t.interval(alpha=0.95 , df=len(service_time_E)-1 , loc=np.mean(service_time_E) , scale=st.sem(service_time_E)))))\n",
    "df_CI_ST = pd.DataFrame({'95%-Confidence Interval':[str(x) for x in [CI_ST_A,CI_ST_B,CI_ST_C,CI_ST_D,CI_ST_E]]} , index=['A','B','C','D','E'])\n",
    "df_CI_ST"
   ]
  },
  {
   "cell_type": "markdown",
   "metadata": {},
   "source": [
    "**Average working time for each work station**"
   ]
  },
  {
   "cell_type": "code",
   "execution_count": 21,
   "metadata": {
    "ExecuteTime": {
     "end_time": "2022-07-16T13:40:43.430607Z",
     "start_time": "2022-07-16T13:40:43.391719Z"
    }
   },
   "outputs": [
    {
     "data": {
      "text/html": [
       "<div>\n",
       "<style scoped>\n",
       "    .dataframe tbody tr th:only-of-type {\n",
       "        vertical-align: middle;\n",
       "    }\n",
       "\n",
       "    .dataframe tbody tr th {\n",
       "        vertical-align: top;\n",
       "    }\n",
       "\n",
       "    .dataframe thead th {\n",
       "        text-align: right;\n",
       "    }\n",
       "</style>\n",
       "<table border=\"1\" class=\"dataframe\">\n",
       "  <thead>\n",
       "    <tr style=\"text-align: right;\">\n",
       "      <th></th>\n",
       "      <th>Average working time (for the whole station)</th>\n",
       "      <th>Average working time (per server in the station)</th>\n",
       "    </tr>\n",
       "  </thead>\n",
       "  <tbody>\n",
       "    <tr>\n",
       "      <th>A</th>\n",
       "      <td>474.769377</td>\n",
       "      <td>474.769377</td>\n",
       "    </tr>\n",
       "    <tr>\n",
       "      <th>B</th>\n",
       "      <td>1367.966168</td>\n",
       "      <td>455.988723</td>\n",
       "    </tr>\n",
       "    <tr>\n",
       "      <th>C</th>\n",
       "      <td>365.958671</td>\n",
       "      <td>365.958671</td>\n",
       "    </tr>\n",
       "    <tr>\n",
       "      <th>D</th>\n",
       "      <td>1585.357057</td>\n",
       "      <td>396.339264</td>\n",
       "    </tr>\n",
       "    <tr>\n",
       "      <th>E</th>\n",
       "      <td>1052.535653</td>\n",
       "      <td>350.845218</td>\n",
       "    </tr>\n",
       "  </tbody>\n",
       "</table>\n",
       "</div>"
      ],
      "text/plain": [
       "   Average working time (for the whole station)  \\\n",
       "A                                    474.769377   \n",
       "B                                   1367.966168   \n",
       "C                                    365.958671   \n",
       "D                                   1585.357057   \n",
       "E                                   1052.535653   \n",
       "\n",
       "   Average working time (per server in the station)  \n",
       "A                                        474.769377  \n",
       "B                                        455.988723  \n",
       "C                                        365.958671  \n",
       "D                                        396.339264  \n",
       "E                                        350.845218  "
      ]
     },
     "execution_count": 21,
     "metadata": {},
     "output_type": "execute_result"
    }
   ],
   "source": [
    "SVR_A = np.mean([x[0] for x in SVR_list_A])\n",
    "SVR_B = np.mean([(x[1]+x[2]+x[3]) for x in SVR_list_A])\n",
    "SVR_C = np.mean([x[4] for x in SVR_list_A])\n",
    "SVR_D = np.mean([(x[5]+x[6]+x[7]+x[8]) for x in SVR_list_A])\n",
    "SVR_E = np.mean([(x[9]+x[10]+x[11]) for x in SVR_list_A])\n",
    "\n",
    "mean_SVR_total=[SVR_A,SVR_B,SVR_C,SVR_D,SVR_E]\n",
    "mean_SVR_server = [SVR_A,SVR_B/3,SVR_C,SVR_D/4,SVR_E/3]\n",
    "df_SVR_A = pd.DataFrame({'Average working time (for the whole station)': mean_SVR_total ,\n",
    "                         'Average working time (per server in the station)':mean_SVR_server} ,\n",
    "                        index=['A','B','C','D','E'])\n",
    "df_SVR_A"
   ]
  },
  {
   "cell_type": "markdown",
   "metadata": {},
   "source": [
    "**95% confidence interval for working time**"
   ]
  },
  {
   "cell_type": "code",
   "execution_count": 22,
   "metadata": {
    "ExecuteTime": {
     "end_time": "2022-07-16T13:40:43.491445Z",
     "start_time": "2022-07-16T13:40:43.433600Z"
    }
   },
   "outputs": [
    {
     "data": {
      "text/html": [
       "<div>\n",
       "<style scoped>\n",
       "    .dataframe tbody tr th:only-of-type {\n",
       "        vertical-align: middle;\n",
       "    }\n",
       "\n",
       "    .dataframe tbody tr th {\n",
       "        vertical-align: top;\n",
       "    }\n",
       "\n",
       "    .dataframe thead th {\n",
       "        text-align: right;\n",
       "    }\n",
       "</style>\n",
       "<table border=\"1\" class=\"dataframe\">\n",
       "  <thead>\n",
       "    <tr style=\"text-align: right;\">\n",
       "      <th></th>\n",
       "      <th>95%-Confidence Interval for working time (for the whole station)</th>\n",
       "      <th>95%-Confidence Interval for working time (per server in the station)</th>\n",
       "    </tr>\n",
       "  </thead>\n",
       "  <tbody>\n",
       "    <tr>\n",
       "      <th>A</th>\n",
       "      <td>[474.34, 475.2]</td>\n",
       "      <td>[474.34, 475.2]</td>\n",
       "    </tr>\n",
       "    <tr>\n",
       "      <th>B</th>\n",
       "      <td>[1362.54, 1373.39]</td>\n",
       "      <td>[454.18, 457.8]</td>\n",
       "    </tr>\n",
       "    <tr>\n",
       "      <th>C</th>\n",
       "      <td>[351.43, 380.48]</td>\n",
       "      <td>[351.43, 380.48]</td>\n",
       "    </tr>\n",
       "    <tr>\n",
       "      <th>D</th>\n",
       "      <td>[1559.15, 1611.57]</td>\n",
       "      <td>[389.79, 402.89]</td>\n",
       "    </tr>\n",
       "    <tr>\n",
       "      <th>E</th>\n",
       "      <td>[1024.31, 1080.76]</td>\n",
       "      <td>[341.44, 360.25]</td>\n",
       "    </tr>\n",
       "  </tbody>\n",
       "</table>\n",
       "</div>"
      ],
      "text/plain": [
       "  95%-Confidence Interval for working time (for the whole station)  \\\n",
       "A                                    [474.34, 475.2]                 \n",
       "B                                 [1362.54, 1373.39]                 \n",
       "C                                   [351.43, 380.48]                 \n",
       "D                                 [1559.15, 1611.57]                 \n",
       "E                                 [1024.31, 1080.76]                 \n",
       "\n",
       "  95%-Confidence Interval for working time (per server in the station)  \n",
       "A                                    [474.34, 475.2]                    \n",
       "B                                    [454.18, 457.8]                    \n",
       "C                                   [351.43, 380.48]                    \n",
       "D                                   [389.79, 402.89]                    \n",
       "E                                   [341.44, 360.25]                    "
      ]
     },
     "execution_count": 22,
     "metadata": {},
     "output_type": "execute_result"
    }
   ],
   "source": [
    "SVR_CI_A = np.array([x[0] for x in SVR_list_A])\n",
    "SVR_CI_B = np.array([(x[1]+x[2]+x[3]) for x in SVR_list_A])\n",
    "SVR_CI_C = np.array([x[4] for x in SVR_list_A])\n",
    "SVR_CI_D = np.array([(x[5]+x[6]+x[7]+x[8]) for x in SVR_list_A])\n",
    "SVR_CI_E = np.array([(x[9]+x[10]+x[11]) for x in SVR_list_A])\n",
    "\n",
    "mean_SVR_total=[SVR_A,SVR_B,SVR_C,SVR_D,SVR_E]\n",
    "mean_SVR_server = [SVR_A,SVR_B/3,SVR_C,SVR_D/4,SVR_E/3]\n",
    "df_SVR_A = pd.DataFrame({'Average working time (for the whole station)': mean_SVR_total , 'Average working time (per server in the station)':mean_SVR_server} , index=['A','B','C','D','E'])\n",
    "df_SVR_A\n",
    "\n",
    "CI_SVR_A_total = str(list(map(lambda x: np.round(x,2) , list(st.t.interval(alpha=0.95 , df=len(SVR_CI_A)-1 , loc=np.mean(SVR_CI_A) , scale=st.sem(SVR_CI_A))))))\n",
    "CI_SVR_B_total = str(list(map(lambda x: np.round(x,2) , list(st.t.interval(alpha=0.95 , df=len(SVR_CI_B)-1 , loc=np.mean(SVR_CI_B) , scale=st.sem(SVR_CI_B))))))\n",
    "CI_SVR_C_total = str(list(map(lambda x: np.round(x,2) , list(st.t.interval(alpha=0.95 , df=len(SVR_CI_C)-1 , loc=np.mean(SVR_CI_C) , scale=st.sem(SVR_CI_C))))))\n",
    "CI_SVR_D_total = str(list(map(lambda x: np.round(x,2) , list(st.t.interval(alpha=0.95 , df=len(SVR_CI_D)-1 , loc=np.mean(SVR_CI_D) , scale=st.sem(SVR_CI_D))))))\n",
    "CI_SVR_E_total = str(list(map(lambda x: np.round(x,2) , list(st.t.interval(alpha=0.95 , df=len(SVR_CI_E)-1 , loc=np.mean(SVR_CI_E) , scale=st.sem(SVR_CI_E))))))\n",
    "\n",
    "CI_SVR_A_server = str(list(map(lambda x: np.round(x,2) , list(st.t.interval(alpha=0.95 , df=len(SVR_CI_A)-1 , loc=np.mean(SVR_CI_A) , scale=st.sem(SVR_CI_A))))))\n",
    "CI_SVR_B_server = str(list(map(lambda x: np.round(x,2) , list(st.t.interval(alpha=0.95 , df=len(SVR_CI_B/3)-1 , loc=np.mean(SVR_CI_B/3) , scale=st.sem(SVR_CI_B/3))))))\n",
    "CI_SVR_C_server = str(list(map(lambda x: np.round(x,2) , list(st.t.interval(alpha=0.95 , df=len(SVR_CI_C)-1 , loc=np.mean(SVR_CI_C) , scale=st.sem(SVR_CI_C))))))\n",
    "CI_SVR_D_server = str(list(map(lambda x: np.round(x,2) , list(st.t.interval(alpha=0.95 , df=len(SVR_CI_D/4)-1 , loc=np.mean(SVR_CI_D/4) , scale=st.sem(SVR_CI_D/4))))))\n",
    "CI_SVR_E_server = str(list(map(lambda x: np.round(x,2) , list(st.t.interval(alpha=0.95 , df=len(SVR_CI_E/3)-1 , loc=np.mean(SVR_CI_E/3) , scale=st.sem(SVR_CI_E/3))))))\n",
    "\n",
    "df_CI_ST = pd.DataFrame({'95%-Confidence Interval for working time (for the whole station)':[CI_SVR_A_total,CI_SVR_B_total,CI_SVR_C_total,CI_SVR_D_total,CI_SVR_E_total],\n",
    "                        '95%-Confidence Interval for working time (per server in the station)':[CI_SVR_A_server,CI_SVR_B_server,CI_SVR_C_server,CI_SVR_D_server,CI_SVR_E_server] } , index=['A','B','C','D','E'])\n",
    "df_CI_ST"
   ]
  },
  {
   "cell_type": "markdown",
   "metadata": {},
   "source": [
    "**Average total queue length for each work station**"
   ]
  },
  {
   "cell_type": "code",
   "execution_count": 23,
   "metadata": {
    "ExecuteTime": {
     "end_time": "2022-07-16T13:40:43.506405Z",
     "start_time": "2022-07-16T13:40:43.492442Z"
    }
   },
   "outputs": [
    {
     "data": {
      "text/html": [
       "<div>\n",
       "<style scoped>\n",
       "    .dataframe tbody tr th:only-of-type {\n",
       "        vertical-align: middle;\n",
       "    }\n",
       "\n",
       "    .dataframe tbody tr th {\n",
       "        vertical-align: top;\n",
       "    }\n",
       "\n",
       "    .dataframe thead th {\n",
       "        text-align: right;\n",
       "    }\n",
       "</style>\n",
       "<table border=\"1\" class=\"dataframe\">\n",
       "  <thead>\n",
       "    <tr style=\"text-align: right;\">\n",
       "      <th></th>\n",
       "      <th>Average total queue length</th>\n",
       "    </tr>\n",
       "  </thead>\n",
       "  <tbody>\n",
       "    <tr>\n",
       "      <th>A</th>\n",
       "      <td>130.04</td>\n",
       "    </tr>\n",
       "    <tr>\n",
       "      <th>B</th>\n",
       "      <td>42.00</td>\n",
       "    </tr>\n",
       "    <tr>\n",
       "      <th>C</th>\n",
       "      <td>19.20</td>\n",
       "    </tr>\n",
       "    <tr>\n",
       "      <th>D</th>\n",
       "      <td>21.04</td>\n",
       "    </tr>\n",
       "    <tr>\n",
       "      <th>E</th>\n",
       "      <td>18.68</td>\n",
       "    </tr>\n",
       "  </tbody>\n",
       "</table>\n",
       "</div>"
      ],
      "text/plain": [
       "   Average total queue length\n",
       "A                      130.04\n",
       "B                       42.00\n",
       "C                       19.20\n",
       "D                       21.04\n",
       "E                       18.68"
      ]
     },
     "execution_count": 23,
     "metadata": {},
     "output_type": "execute_result"
    }
   ],
   "source": [
    "Queue_A=np.mean([x[0] for x in TotalQ_list_A])\n",
    "Queue_B=np.mean([x[1] for x in TotalQ_list_A])\n",
    "Queue_C=np.mean([x[2] for x in TotalQ_list_A])\n",
    "Queue_D=np.mean([x[3] for x in TotalQ_list_A])\n",
    "Queue_E=np.mean([x[4] for x in TotalQ_list_A])\n",
    "Q_total = [Queue_A,Queue_B,Queue_C,Queue_D,Queue_E]\n",
    "\n",
    "df_Q_A = pd.DataFrame({'Average total queue length': Q_total}, index=['A','B','C','D','E'])\n",
    "df_Q_A"
   ]
  },
  {
   "cell_type": "markdown",
   "metadata": {},
   "source": [
    "**95% Confidence Interval for queue length**"
   ]
  },
  {
   "cell_type": "code",
   "execution_count": 24,
   "metadata": {
    "ExecuteTime": {
     "end_time": "2022-07-16T13:40:43.537322Z",
     "start_time": "2022-07-16T13:40:43.508400Z"
    }
   },
   "outputs": [
    {
     "data": {
      "text/html": [
       "<div>\n",
       "<style scoped>\n",
       "    .dataframe tbody tr th:only-of-type {\n",
       "        vertical-align: middle;\n",
       "    }\n",
       "\n",
       "    .dataframe tbody tr th {\n",
       "        vertical-align: top;\n",
       "    }\n",
       "\n",
       "    .dataframe thead th {\n",
       "        text-align: right;\n",
       "    }\n",
       "</style>\n",
       "<table border=\"1\" class=\"dataframe\">\n",
       "  <thead>\n",
       "    <tr style=\"text-align: right;\">\n",
       "      <th></th>\n",
       "      <th>95%-confidence interval for total queue length</th>\n",
       "    </tr>\n",
       "  </thead>\n",
       "  <tbody>\n",
       "    <tr>\n",
       "      <th>A</th>\n",
       "      <td>[128.21, 131.87]</td>\n",
       "    </tr>\n",
       "    <tr>\n",
       "      <th>B</th>\n",
       "      <td>[40.09, 43.91]</td>\n",
       "    </tr>\n",
       "    <tr>\n",
       "      <th>C</th>\n",
       "      <td>[18.59, 19.81]</td>\n",
       "    </tr>\n",
       "    <tr>\n",
       "      <th>D</th>\n",
       "      <td>[19.54, 22.54]</td>\n",
       "    </tr>\n",
       "    <tr>\n",
       "      <th>E</th>\n",
       "      <td>[17.22, 20.14]</td>\n",
       "    </tr>\n",
       "  </tbody>\n",
       "</table>\n",
       "</div>"
      ],
      "text/plain": [
       "  95%-confidence interval for total queue length\n",
       "A                               [128.21, 131.87]\n",
       "B                                 [40.09, 43.91]\n",
       "C                                 [18.59, 19.81]\n",
       "D                                 [19.54, 22.54]\n",
       "E                                 [17.22, 20.14]"
      ]
     },
     "execution_count": 24,
     "metadata": {},
     "output_type": "execute_result"
    }
   ],
   "source": [
    "Queue_A=np.array([x[0] for x in TotalQ_list_A])\n",
    "Queue_B=np.array([x[1] for x in TotalQ_list_A])\n",
    "Queue_C=np.array([x[2] for x in TotalQ_list_A])\n",
    "Queue_D=np.array([x[3] for x in TotalQ_list_A])\n",
    "Queue_E=np.array([x[4] for x in TotalQ_list_A])\n",
    "\n",
    "Queue_A = str(list(map(lambda x: np.round(x,2) , list(st.t.interval(alpha=0.95 , df=len(Queue_A)-1 , loc=np.mean(Queue_A) , scale=st.sem(Queue_A))))))\n",
    "Queue_B = str(list(map(lambda x: np.round(x,2) , list(st.t.interval(alpha=0.95 , df=len(Queue_B)-1 , loc=np.mean(Queue_B) , scale=st.sem(Queue_B))))))\n",
    "Queue_C = str(list(map(lambda x: np.round(x,2) , list(st.t.interval(alpha=0.95 , df=len(Queue_C)-1 , loc=np.mean(Queue_C) , scale=st.sem(Queue_C))))))\n",
    "Queue_D = str(list(map(lambda x: np.round(x,2) , list(st.t.interval(alpha=0.95 , df=len(Queue_D)-1 , loc=np.mean(Queue_D) , scale=st.sem(Queue_D))))))\n",
    "Queue_E = str(list(map(lambda x: np.round(x,2) , list(st.t.interval(alpha=0.95 , df=len(Queue_E)-1 , loc=np.mean(Queue_E) , scale=st.sem(Queue_E))))))\n",
    "\n",
    "Q_total = [Queue_A,Queue_B,Queue_C,Queue_D,Queue_E]\n",
    "\n",
    "df_Q_CI_A = pd.DataFrame({'95%-confidence interval for total queue length': Q_total}, index=['A','B','C','D','E'])\n",
    "df_Q_CI_A"
   ]
  },
  {
   "cell_type": "markdown",
   "metadata": {},
   "source": [
    "**Maximum waiting time in a queue**"
   ]
  },
  {
   "cell_type": "code",
   "execution_count": 25,
   "metadata": {
    "ExecuteTime": {
     "end_time": "2022-07-16T13:40:43.553280Z",
     "start_time": "2022-07-16T13:40:43.539318Z"
    }
   },
   "outputs": [
    {
     "name": "stdout",
     "output_type": "stream",
     "text": [
      "Average of maximum waiting time for 10 iterations is 480.0\n"
     ]
    }
   ],
   "source": [
    "print('Average of maximum waiting time for 10 iterations is',np.mean(max_WT_list_A))"
   ]
  },
  {
   "cell_type": "markdown",
   "metadata": {
    "heading_collapsed": true
   },
   "source": [
    "# PART B"
   ]
  },
  {
   "cell_type": "markdown",
   "metadata": {
    "hidden": true
   },
   "source": [
    "We can determine which workstation is the busiest by looking at 2 measurements: \n",
    "1. total queue of the server \n",
    "2. average working time of the servers in that station\n",
    "\n",
    "In this case, workstation A is the busiest, so we should add one additional server to this place."
   ]
  },
  {
   "cell_type": "code",
   "execution_count": 26,
   "metadata": {
    "ExecuteTime": {
     "end_time": "2022-07-16T13:40:43.568240Z",
     "start_time": "2022-07-16T13:40:43.555276Z"
    },
    "hidden": true
   },
   "outputs": [],
   "source": [
    "serverA=2\n",
    "serverB=3\n",
    "serverC=1\n",
    "serverD=4\n",
    "serverE=3\n",
    "TotalServers=serverA+serverB+serverC+serverD+serverE"
   ]
  },
  {
   "cell_type": "code",
   "execution_count": 27,
   "metadata": {
    "ExecuteTime": {
     "end_time": "2022-07-16T13:40:43.584197Z",
     "start_time": "2022-07-16T13:40:43.570236Z"
    },
    "hidden": true
   },
   "outputs": [],
   "source": [
    "iteration=0\n",
    "Demographic_list_B=[]\n",
    "TWT_list_B=[]\n",
    "N_list_B=[]\n",
    "SVR_list_B=[]\n",
    "TotalQ_list_B=[]\n",
    "max_WT_list_B=[]\n",
    "FEL_total_B=[]\n",
    "MTOT_list_B=[]"
   ]
  },
  {
   "cell_type": "code",
   "execution_count": 28,
   "metadata": {
    "ExecuteTime": {
     "end_time": "2022-07-16T13:40:44.326675Z",
     "start_time": "2022-07-16T13:40:43.586192Z"
    },
    "code_folding": [],
    "hidden": true
   },
   "outputs": [],
   "source": [
    "## np.random.seed(1)\n",
    "while iteration<number_of_sim:\n",
    "    arr_ID=0                               # Total number of entered machines (equivalent to ID)\n",
    "    MTOT=0                                 #Total number of machines entered between 120 till 600\n",
    "    Status=np.zeros(TotalServers)          # Status of Server I (0=idle, 1=busy)\n",
    "    Q=np.zeros(5)                          # Number of machines waiting in ith queue\n",
    "    TotalQ=np.zeros(5)                     # Total number of machines waited in ith queue\n",
    "    SVR=np.zeros(TotalServers)             # Service time of server i\n",
    "    Tnow=0\n",
    "    T1=120\n",
    "    T2=600\n",
    "    TWT=0\n",
    "    NF=0\n",
    "    max_WT=0\n",
    "    N=np.zeros(TotalServers)               # Total number of served machines by server i\n",
    "    RespTime=[]                   # Response time (equals to departure time – arrival time)\n",
    "    FEL=[(0,0,1,0,1),(0,0,0,0,2),(3,180,-1,0,0)]    \n",
    "    '''\n",
    "    Tuple – All future events are saved in this list with this format: \n",
    "        •Code\n",
    "        •Time\n",
    "        •Priotiry (1 for yes, 0 for no)\n",
    "        •Rework, whether the machine needs rework or not (1 for rework, 0 for no need for rework)\n",
    "        •ID of the machine\n",
    "    '''\n",
    "    \n",
    "    FEL_backup=[]                 # backup of FEL (saves every event)\n",
    "    Q_A=[]                        # machines waiting in queue of server A; format: (ID,time,priority)\n",
    "    Q_B=[]\n",
    "    Q_C=[]\n",
    "    Q_D=[]\n",
    "    Q_E=[]\n",
    "\n",
    "    Demographic={}                  \n",
    "    '''\n",
    "    Dictionary – containing following info: \n",
    "        •ID of machine\n",
    "        •Arrival time, machine’s arrival time.\n",
    "        •Type of the order, whether it has a priority or not (1 for priority, 0 for non-priority)\n",
    "        •Rework, whether the machine needs rework or not (1 for rework, 0 for no need for rework)\n",
    "    the ID is used as key and other info is used as value in this dictionary.\n",
    "    '''\n",
    "    while (Tnow <= T2) or (len(FEL)!=0):\n",
    "        \n",
    "        # arrival event\n",
    "        if FEL[0][0]==0:\n",
    "            code_type=FEL[0][2]\n",
    "            arr_ID+=1\n",
    "            \n",
    "            FEL[0]=(FEL[0][0] , FEL[0][1],FEL[0][2],FEL[0][3],arr_ID)            \n",
    "            Demographic[arr_ID]=Tnow            \n",
    "            if (Tnow>=T1) and (Tnow<=T2): MTOT+=1\n",
    "\n",
    "            if code_type==0: #ordinary\n",
    "                InterArrival=normal_generator(sample_random[rcounter],sample_random[rcounter+1], 16,12)   #interarrival for non-priority order\n",
    "                rcounter+=2\n",
    "                if (Tnow+InterArrival <=T2):\n",
    "                    FEL.append((0 , Tnow+InterArrival,0,0,-2))      #add arrival event of non-priority order\n",
    "\n",
    "            elif code_type==1:\n",
    "                InterArrival=normal_generator(sample_random[rcounter],sample_random[rcounter+1] , 5,2)     #interarrival for priority order\n",
    "                rcounter+=2\n",
    "                if (Tnow+InterArrival <=T2):\n",
    "                    FEL.append((0 , Tnow+InterArrival,1,0,-2))               #add arrival event of priority order\n",
    "                    \n",
    "            \n",
    "            # Arrival to A (under arrival event)\n",
    "            for i in range(0,2):\n",
    "                if Status[i]==0:\n",
    "                \n",
    "                    Status[i]=1\n",
    "                    ST = abs(normal_generator(sample_random[rcounter],sample_random[rcounter+1] , 2,13))\n",
    "                    rcounter+=2\n",
    "                \n",
    "                    if (Tnow>=T1) and (Tnow<=T2): \n",
    "                        SVR[i]+=min(T2-Tnow,ST)\n",
    "                        N[i]+=1\n",
    "                    FEL.append((i+1 , Tnow+ST , code_type,0,FEL[0][4]))\n",
    "                    break\n",
    "                elif i==1:\n",
    "                    Q_A.append((FEL[0][4] , Tnow , code_type,0))    # (ID, Time, priority or not , rework or not)\n",
    "                    Q[0]+=1\n",
    "                    if (Tnow>=T1) and (Tnow<=T2): TotalQ[0]+=1\n",
    "         \n",
    "        \n",
    "        # departure from server A\n",
    "        elif FEL[0][0] in [1,2]:\n",
    "            code_type=FEL[0][2]                            # for the machine that is leaving NOW\n",
    "            if FEL[0][3]==0:                               #(if there was no rework for the current machine)\n",
    "     \n",
    "                if Q[0]==0:\n",
    "                    Status[FEL[0][0]-1]=0                                           # server 1 (A) is idle now\n",
    "                else:\n",
    "                    Q[0]-=1\n",
    "                    if (Tnow>=T1) and (Tnow<=T2): N[FEL[0][0]-1]+=1\n",
    "                    ID=-1\n",
    "                    for x in Q_A:  #priority chekcing\n",
    "                        if x[2]==1:\n",
    "                            code_type_=1\n",
    "                            rework=x[3]\n",
    "                            ID=x[0]\n",
    "                            if Tnow>=T1:\n",
    "                                WT= min(Tnow,T2)-max(x[1],T1)\n",
    "                                if WT>0:\n",
    "                                    max_WT=max(WT,max_WT)\n",
    "                                    TWT+=WT\n",
    "                            Q_A.remove(x)\n",
    "                            break\n",
    "                    if ID==-1:    #ordinary chcecking\n",
    "                        code_type_=0\n",
    "                        rework=Q_A[0][3]\n",
    "                        ID=Q_A[0][0]\n",
    "                        if Tnow>=T1:\n",
    "                            WT = min(Tnow,T2) - max(Q_A[0][1],T1) \n",
    "                            if WT>0:\n",
    "                                max_WT=max(WT,max_WT)\n",
    "                                TWT+=WT\n",
    "                        Q_A.pop(0)\n",
    "                        \n",
    "                    ST = abs(normal_generator(sample_random[rcounter] , sample_random[rcounter+1],2,13))\n",
    "                    rcounter+=2\n",
    "                    if (Tnow>=T1) and (Tnow<=T2): SVR[0]+=min(T2-Tnow,ST)\n",
    "                    FEL.append((FEL[0][0] , Tnow+ST,code_type_,rework,ID))         # Future departure event from server 1 \n",
    "                    \n",
    "            # arrival event to B (under departure event from A) (for current machine)\n",
    "            for i in range(2,5):\n",
    "                if Status[i]==0:\n",
    "                    Status[i]=1\n",
    "                    if (Tnow>=T1) and (Tnow<=T2): N[i]+=1\n",
    "                    if FEL[0][3]==1:\n",
    "                        ST=abs(normal_generator(sample_random[rcounter] , sample_random[rcounter+1],27,8))\n",
    "                        rcounter+=2\n",
    "\n",
    "                    else: \n",
    "                        ST=abs(normal_generator(sample_random[rcounter] , sample_random[rcounter+1],20,39))\n",
    "                        rcounter+=2\n",
    "                        \n",
    "                    if (Tnow>=T1) and (Tnow<=T2): SVR[i]+=min(T2-Tnow,ST)\n",
    "                    FEL.append((i+1 , Tnow+ST,code_type,FEL[0][3],FEL[0][4]))          # Future departure event from server i=2,3,4      \n",
    "                    break\n",
    "\n",
    "                elif i==4:\n",
    "                    Q_B.append((FEL[0][4] , Tnow , code_type,FEL[0][3]))\n",
    "                    Q[1]+=1\n",
    "                    if (Tnow>=T1) and (Tnow<=T2): TotalQ[1]+=1\n",
    "\n",
    "        # departure from server B\n",
    "        elif FEL[0][0] in [3,4,5]:  \n",
    "            code_type=FEL[0][2]                                       # for the machine that is leaving server B NOW\n",
    "            \n",
    "            if code_type==-1:                                         # breakdown of machine C event\n",
    "                if (Tnow>=T1) and (Tnow<=T2): NF+=1\n",
    "                if Status[5]==0:\n",
    "                    Status[5]=1\n",
    "                    FT=normal_generator(sample_random[rcounter] , sample_random[rcounter+1],10,2)\n",
    "                    rcounter+=2\n",
    "                    FEL.append((6 , Tnow+FT ,-1 , 0,0))\n",
    "                else:\n",
    "                    Q_C.append((0 , Tnow , -1))\n",
    "                    Q[2]+=1  \n",
    "            else:\n",
    "                if Q[1]==0:                                               # Q[1] is queue of server B\n",
    "                    Status[FEL[0][0]-1]=0                                 # server i=2 or 3 or 4 (from B) is idle now\n",
    "                else:\n",
    "                    Q[1]-=1\n",
    "                    if (Tnow>=T1) and (Tnow<=T2): N[FEL[0][0]-1]+=1\n",
    "                    ID=-1\n",
    "                    for x in Q_B:  #priority chekcing\n",
    "                        if x[2]==1:\n",
    "                            code_type_=1\n",
    "                            rework=x[3]\n",
    "                            ID=x[0]\n",
    "                            if Tnow>=T1:\n",
    "                                WT = min(Tnow,T2) - max(x[1],T1)\n",
    "                                if WT>0:\n",
    "                                    max_WT=max(WT,max_WT)\n",
    "                                    TWT+=WT\n",
    "                            Q_B.remove(x)\n",
    "                            break\n",
    "                    if ID==-1:    #ordinary chcecking\n",
    "                        code_type_=0\n",
    "                        rework=Q_B[0][3]\n",
    "                        ID=Q_B[0][0]\n",
    "                        if (Tnow>=T1):\n",
    "                            WT = min(Tnow,T2) - max(Q_B[0][1],T1)  \n",
    "                            if WT>0:\n",
    "                                max_WT=max(WT,max_WT)\n",
    "                                TWT+=WT\n",
    "                        Q_B.pop(0)\n",
    "                        \n",
    "                    if rework==1:\n",
    "                        ST= abs(normal_generator(sample_random[rcounter] , sample_random[rcounter+1],27,8))\n",
    "                        rcounter+=2\n",
    "\n",
    "                    else: \n",
    "                        ST = abs(normal_generator(sample_random[rcounter] , sample_random[rcounter+1],20,39))\n",
    "                        rcounter+=2\n",
    "                    if (Tnow>=T1) and (Tnow<=T2): SVR[FEL[0][0]-1]+=min(T2-Tnow,ST)\n",
    "                    FEL.append((FEL[0][0] , Tnow+ST,code_type_,rework,ID))              # departure event from server i=2 or 3 or 4\n",
    "\n",
    "                #arrival event to C (under departure event from B)\n",
    "                if (FEL[0][3]==0) and (sample_random[rcounter]<=0.6):    # (send the machine to C if rework==0 and rnd<=0.6)\n",
    "                    rcounter+=1\n",
    "                    if Status[5]==0:\n",
    "                        Status[5]=1\n",
    "                        ST=20\n",
    "                        if (Tnow>=T1) and (Tnow<=T2): \n",
    "                            N[5]+=1\n",
    "                            SVR[5]+=min(T2-Tnow,ST)\n",
    "                        FEL.append((6 , Tnow+ST,code_type,0,FEL[0][4]))\n",
    "\n",
    "                    else:\n",
    "                        Q_C.append((FEL[0][4] , Tnow , code_type))\n",
    "                        Q[2]+=1\n",
    "                        if (Tnow>=T1) and (Tnow<=T2): TotalQ[2]+=1\n",
    "\n",
    "                #arrival event to D (under departure event from B)\n",
    "                else:\n",
    "                    rcounter+=1\n",
    "                    for i in range(6,10):\n",
    "                        if Status[i]==0:\n",
    "                            Status[i]=1\n",
    "                            if (Tnow>=T1) and (Tnow<=T2): N[i]+=1\n",
    "                            ST=abs(normal_generator(sample_random[rcounter] , sample_random[rcounter+1],30,47)) \n",
    "                            rcounter+=2\n",
    "                            if (Tnow>=T1) and (Tnow<=T2): SVR[i]+=min(T2-Tnow,ST)\n",
    "                            FEL.append((i+1 , Tnow+ST,code_type,FEL[0][3],FEL[0][4]))\n",
    "                            break\n",
    "\n",
    "                        elif i==9:\n",
    "                            Q_D.append((FEL[0][4] , Tnow , code_type,FEL[0][3]))\n",
    "                            Q[3]+=1\n",
    "                            if (Tnow>=T1) and (Tnow<=T2): TotalQ[3]+=1           \n",
    "\n",
    "\n",
    "        # departure from server C\n",
    "        elif FEL[0][0]==6:\n",
    "            code_type=FEL[0][2]                                       # for the machine leaving server C NOW\n",
    "            if Q[2]==0:                                               # Q[2] is queue of server C\n",
    "                Status[5]=0                                           # server 5 (from C) is idle now\n",
    "                \n",
    "            else:\n",
    "                Q[2]-=1\n",
    "                ID=-2\n",
    "                for x in Q_C:  #breakdown checking\n",
    "                    if x[2]==-1:\n",
    "                        ID=x[0]\n",
    "                        Q_C.remove(x)\n",
    "                        FT = normal_generator(sample_random[rcounter] , sample_random[rcounter+1],10,2)\n",
    "                        rcounter+=2\n",
    "                        FEL.append((6 , Tnow+FT , -1 , 0,0))\n",
    "                        break\n",
    "                if ID==-2:    \n",
    "                    code_type_=Q_C[0][2]\n",
    "                    ID=Q_C[0][0]\n",
    "                    if (Tnow>=T1):\n",
    "                        WT = min(Tnow,T2) - max(Q_C[0][1],T1)  \n",
    "                        if WT>0:\n",
    "                            max_WT=max(WT,max_WT)\n",
    "                            TWT+=WT\n",
    "                    Q_C.pop(0)\n",
    "                    ST = 20\n",
    "                    if (Tnow>=T1) and (Tnow<=T2): SVR[5]+=min(T2-Tnow,ST); N[5]+=1\n",
    "                    FEL.append((6 , Tnow+ST,code_type_,0,ID))     # departure event from server i=5\n",
    "\n",
    "            if (code_type==-1) and (sum([Status[i] for i in range(13) if i!=5])>0) :               # adding next event of breakdown\n",
    "                FEL.append((3,Tnow+120,-1,0,0))\n",
    "\n",
    "            #arrival event to D (under departure event from C) (for the current machine leaving C)\n",
    "            elif code_type!=-1:\n",
    "                for i in range(6,10):\n",
    "                    if Status[i]==0:\n",
    "                        Status[i]=1\n",
    "                        ST=abs(normal_generator(sample_random[rcounter] , sample_random[rcounter+1],30,47))\n",
    "                        rcounter+=2\n",
    "                        if (Tnow>=T1) and (Tnow<=T2):\n",
    "                            N[i]+=1\n",
    "                            SVR[i]+=ST\n",
    "                        FEL.append((i+1 , Tnow+ST,code_type,0,FEL[0][4]))\n",
    "                        break\n",
    "\n",
    "                    elif i==9:\n",
    "                        Q_D.append((FEL[0][4] , Tnow , code_type,0))\n",
    "                        Q[3]+=1\n",
    "                        if (Tnow>=T1) and (Tnow<=T2): TotalQ[3]+=1\n",
    "\n",
    "\n",
    "\n",
    "        # departure from server D\n",
    "        elif FEL[0][0] in [7,8,9,10]:\n",
    "            code_type=FEL[0][2]\n",
    "            if Q[3]==0:                                               # Q[3] is queue of server D\n",
    "                Status[FEL[0][0]-1]=0              # server i=6 or 7 or 8 or 9 (from B) is idle now\n",
    "                \n",
    "            else:\n",
    "                Q[3]-=1\n",
    "                if (Tnow>=T1) and (Tnow<=T2): N[FEL[0][0]-1]+=1\n",
    "                ID=-1\n",
    "                for x in Q_D:  #priority chekcing\n",
    "                    if x[2]==1:\n",
    "                        code_type_=1\n",
    "                        rework=x[3]\n",
    "                        ID=x[0]\n",
    "                        if (Tnow>=T1):\n",
    "                            WT = min(Tnow,T2) - max(x[1],T1)\n",
    "                            if WT>0:\n",
    "                                max_WT=max(WT,max_WT)\n",
    "                                TWT+=WT\n",
    "                        Q_D.remove(x)\n",
    "                        break\n",
    "                if ID==-1:    #ordinary chcecking\n",
    "                    code_type_=0\n",
    "                    rework=Q_D[0][3]\n",
    "                    ID=Q_D[0][0]\n",
    "                    if (Tnow>=T1):\n",
    "                        WT = min(Tnow,T2) - max(Q_D[0][1],T1)\n",
    "                        if WT>0:\n",
    "                            max_WT=max(WT,max_WT)\n",
    "                            TWT+=WT\n",
    "                    Q_D.pop(0)\n",
    "\n",
    "                ST = abs(normal_generator(sample_random[rcounter] , sample_random[rcounter+1],30,47))\n",
    "                rcounter+=2\n",
    "                if (Tnow>=T1) and (Tnow<=T2): SVR[FEL[0][0]-1]+=min(T2-Tnow,ST)\n",
    "                FEL.append((FEL[0][0] , Tnow+ST,code_type_,rework,ID))     # departure event from server i=6 or 7 or 8 or 9\n",
    "            \n",
    "            #arrival event to E (under departure event from D)\n",
    "            if (FEL[0][3]==1) or (sample_random[rcounter]<=0.9):\n",
    "                rcounter+=1\n",
    "                for i in range(10,13):\n",
    "                    if Status[i]==0:\n",
    "                        Status[i]=1\n",
    "                        ST=abs(normal_generator(sample_random[rcounter] , sample_random[rcounter+1],4,42))\n",
    "                        rcounter+=2\n",
    "                        if (Tnow>=T1) and (Tnow<=T2):\n",
    "                            N[i]+=1\n",
    "                            SVR[i]+=min(T2-Tnow,ST)\n",
    "                        FEL.append((i+1 , Tnow+ST , code_type , FEL[0][3],FEL[0][4]))\n",
    "                        break\n",
    "                    elif i==12:\n",
    "                        Q_E.append((FEL[0][4] , Tnow , code_type , FEL[0][3]))\n",
    "                        Q[4]+=1\n",
    "                        if (Tnow>=T1) and (Tnow<=T2): TotalQ[4]+=1\n",
    "\n",
    "            #Rewrok to B (under departure event from D)\n",
    "            else:\n",
    "                rcounter+=1\n",
    "                FEL.append((1 , Tnow , code_type , 1,FEL[0][4]))\n",
    "\n",
    "        # departure from server E\n",
    "        elif FEL[0][0] in [11,12,13]:\n",
    "            Demographic[FEL[0][4]]=(Demographic[FEL[0][4]] , Tnow)\n",
    "            code_type=FEL[0][2]\n",
    "            if Q[4]==0:                                               # Q[3] is queue of server D\n",
    "                Status[FEL[0][0]-1]=0                                 # server i=10 or 11 or 12 (from E) is idle now\n",
    "\n",
    "            else:\n",
    "                Q[4]-=1\n",
    "                if (Tnow>=T1) and (Tnow<=T2): N[FEL[0][0]-1]+=1\n",
    "                ID=-1\n",
    "                for x in Q_E:  #priority chekcing\n",
    "                    if x[2]==1:\n",
    "                        code_type_=1\n",
    "                        rework=x[3]\n",
    "                        ID=x[0]\n",
    "                        if (Tnow>=T1):\n",
    "                            WT = min(Tnow,T2) - max(x[1],T1)\n",
    "                            if WT>0:\n",
    "                                max_WT=max(WT,max_WT)\n",
    "                                TWT+=WT\n",
    "                        Q_E.remove(x)\n",
    "                        break\n",
    "                if ID==-1:    #ordinary chcecking\n",
    "                    code_type_=0\n",
    "                    rework=Q_E[0][3]\n",
    "                    ID=Q_E[0][0]\n",
    "                    if (Tnow>=T1):\n",
    "                        WT = min(Tnow,T2) - max(Q_E[0][1],T1)  \n",
    "                        if WT>0:\n",
    "                            max_WT=max(WT,max_WT)\n",
    "                            TWT+=WT\n",
    "                    Q_E.pop(0)\n",
    "\n",
    "                ST = abs(normal_generator(sample_random[rcounter] , sample_random[rcounter+1],4,42))\n",
    "                rcounter=+2\n",
    "                if (Tnow>=T1) and (Tnow<=T2): SVR[FEL[0][0]-1]+=min(T2-Tnow,ST)\n",
    "                FEL.append((FEL[0][0] , Tnow+ST,code_type_,rework,ID))     # Future departure event from server i=10 or 11 or 12 (E)\n",
    "        FEL_backup.extend(FEL)\n",
    "        FEL.pop(0)\n",
    "        FEL.sort(key=lambda x: x[1])\n",
    "        if len(FEL)!=0: Tnow=FEL[0][1]           #updating Tnow\n",
    "        # END OF WHILE LOOP\n",
    "    \n",
    "    FEL_backup = list(set(FEL_backup))\n",
    "    FEL_backup.sort(key=lambda x: x[1]) #sorting all the events chronologically\n",
    "    iteration+=1\n",
    "    \n",
    "    #saving the results of each iteration\n",
    "    Demographic_list_B.append(Demographic)\n",
    "    TWT_list_B.append(TWT)\n",
    "    N_list_B.append(N)\n",
    "    SVR_list_B.append(SVR)\n",
    "    TotalQ_list_B.append(TotalQ)\n",
    "    max_WT_list_B.append(max_WT)\n",
    "    FEL_total_B.append(FEL_backup)\n",
    "    MTOT_list_B.append(MTOT)\n",
    "    \n",
    "# END of 10 iterations"
   ]
  },
  {
   "cell_type": "markdown",
   "metadata": {
    "hidden": true
   },
   "source": [
    "### Comparing Statistics of PART A and PART B"
   ]
  },
  {
   "cell_type": "markdown",
   "metadata": {
    "hidden": true
   },
   "source": [
    "#### Response Time assuming that arrival event to the system>=120 and departure event from the system<=600 for a specific machine"
   ]
  },
  {
   "cell_type": "code",
   "execution_count": 29,
   "metadata": {
    "ExecuteTime": {
     "end_time": "2022-07-16T13:40:44.372337Z",
     "start_time": "2022-07-16T13:40:44.328455Z"
    },
    "hidden": true
   },
   "outputs": [
    {
     "name": "stderr",
     "output_type": "stream",
     "text": [
      "C:\\Users\\Mr. Pedram\\anaconda3\\lib\\site-packages\\numpy\\core\\fromnumeric.py:3474: RuntimeWarning: Mean of empty slice.\n",
      "  return _methods._mean(a, axis=axis, dtype=dtype,\n",
      "C:\\Users\\Mr. Pedram\\anaconda3\\lib\\site-packages\\numpy\\core\\_methods.py:189: RuntimeWarning: invalid value encountered in double_scalars\n",
      "  ret = ret.dtype.type(ret / rcount)\n"
     ]
    },
    {
     "data": {
      "text/html": [
       "<div>\n",
       "<style scoped>\n",
       "    .dataframe tbody tr th:only-of-type {\n",
       "        vertical-align: middle;\n",
       "    }\n",
       "\n",
       "    .dataframe tbody tr th {\n",
       "        vertical-align: top;\n",
       "    }\n",
       "\n",
       "    .dataframe thead th {\n",
       "        text-align: right;\n",
       "    }\n",
       "</style>\n",
       "<table border=\"1\" class=\"dataframe\">\n",
       "  <thead>\n",
       "    <tr style=\"text-align: right;\">\n",
       "      <th></th>\n",
       "      <th>Average response time A</th>\n",
       "      <th>Average response time B</th>\n",
       "      <th>Difference</th>\n",
       "    </tr>\n",
       "  </thead>\n",
       "  <tbody>\n",
       "    <tr>\n",
       "      <th>0</th>\n",
       "      <td>388.057083</td>\n",
       "      <td>409.235383</td>\n",
       "      <td>-21.1783</td>\n",
       "    </tr>\n",
       "  </tbody>\n",
       "</table>\n",
       "</div>"
      ],
      "text/plain": [
       "   Average response time A  Average response time B  Difference\n",
       "0               388.057083               409.235383    -21.1783"
      ]
     },
     "execution_count": 29,
     "metadata": {},
     "output_type": "execute_result"
    }
   ],
   "source": [
    "ResponseTimeB1 = [tuple((x[1]-x[0]) for x in Demographic.values() if x[0]>=120 and x[1]<=600) for Demographic in Demographic_list_B]\n",
    "df_RT1_B = pd.DataFrame({'Average response time A':np.nanmean([np.mean(x) for x in ResponseTimeA1]),\n",
    "                        'Average response time B':np.nanmean([np.mean(x) for x in ResponseTimeB1]),\n",
    "                        'Difference':np.nanmean([np.nanmean(x) for x in ResponseTimeA1])-np.nanmean([np.mean(x) for x in ResponseTimeB1])},index=[0])\n",
    "df_RT1_B"
   ]
  },
  {
   "cell_type": "markdown",
   "metadata": {
    "ExecuteTime": {
     "end_time": "2022-06-03T13:10:47.724937Z",
     "start_time": "2022-06-03T13:10:47.709969Z"
    },
    "hidden": true
   },
   "source": [
    "#### Response Time assuming that arrival event to the system>=120 for a specific machine"
   ]
  },
  {
   "cell_type": "code",
   "execution_count": 30,
   "metadata": {
    "ExecuteTime": {
     "end_time": "2022-07-16T13:40:44.403295Z",
     "start_time": "2022-07-16T13:40:44.374340Z"
    },
    "hidden": true
   },
   "outputs": [
    {
     "data": {
      "text/html": [
       "<div>\n",
       "<style scoped>\n",
       "    .dataframe tbody tr th:only-of-type {\n",
       "        vertical-align: middle;\n",
       "    }\n",
       "\n",
       "    .dataframe tbody tr th {\n",
       "        vertical-align: top;\n",
       "    }\n",
       "\n",
       "    .dataframe thead th {\n",
       "        text-align: right;\n",
       "    }\n",
       "</style>\n",
       "<table border=\"1\" class=\"dataframe\">\n",
       "  <thead>\n",
       "    <tr style=\"text-align: right;\">\n",
       "      <th></th>\n",
       "      <th>Average response time A</th>\n",
       "      <th>Average response time B</th>\n",
       "      <th>Difference</th>\n",
       "    </tr>\n",
       "  </thead>\n",
       "  <tbody>\n",
       "    <tr>\n",
       "      <th>0</th>\n",
       "      <td>1227.895414</td>\n",
       "      <td>1220.015944</td>\n",
       "      <td>7.87947</td>\n",
       "    </tr>\n",
       "  </tbody>\n",
       "</table>\n",
       "</div>"
      ],
      "text/plain": [
       "   Average response time A  Average response time B  Difference\n",
       "0              1227.895414              1220.015944     7.87947"
      ]
     },
     "execution_count": 30,
     "metadata": {},
     "output_type": "execute_result"
    }
   ],
   "source": [
    "ResponseTimeB2 = [tuple((x[1]-x[0]) for x in Demographic.values() if x[0]>=120) for Demographic in Demographic_list_B]\n",
    "df_RT2_B = pd.DataFrame({'Average response time A':np.mean([np.mean(x) for x in ResponseTimeA2]),\n",
    "                        'Average response time B':np.mean([np.mean([np.mean(x) for x in ResponseTimeB2])]),\n",
    "                        'Difference':np.mean([np.mean(x) for x in ResponseTimeA2])-np.mean([np.mean(x) for x in ResponseTimeB2])},index=[0])\n",
    "df_RT2_B"
   ]
  },
  {
   "cell_type": "markdown",
   "metadata": {
    "hidden": true
   },
   "source": [
    "#### Response Time at different time intervals"
   ]
  },
  {
   "cell_type": "code",
   "execution_count": 31,
   "metadata": {
    "ExecuteTime": {
     "end_time": "2022-07-16T13:40:44.465239Z",
     "start_time": "2022-07-16T13:40:44.405256Z"
    },
    "hidden": true
   },
   "outputs": [
    {
     "data": {
      "text/html": [
       "<div>\n",
       "<style scoped>\n",
       "    .dataframe tbody tr th:only-of-type {\n",
       "        vertical-align: middle;\n",
       "    }\n",
       "\n",
       "    .dataframe tbody tr th {\n",
       "        vertical-align: top;\n",
       "    }\n",
       "\n",
       "    .dataframe thead th {\n",
       "        text-align: right;\n",
       "    }\n",
       "</style>\n",
       "<table border=\"1\" class=\"dataframe\">\n",
       "  <thead>\n",
       "    <tr style=\"text-align: right;\">\n",
       "      <th></th>\n",
       "      <th>From</th>\n",
       "      <th>To</th>\n",
       "      <th>Mean Response Time A</th>\n",
       "      <th>Mean Response Time B</th>\n",
       "      <th>Difference</th>\n",
       "    </tr>\n",
       "  </thead>\n",
       "  <tbody>\n",
       "    <tr>\n",
       "      <th>0</th>\n",
       "      <td>120.0</td>\n",
       "      <td>180.0</td>\n",
       "      <td>819.504482</td>\n",
       "      <td>949.150363</td>\n",
       "      <td>-129.645881</td>\n",
       "    </tr>\n",
       "    <tr>\n",
       "      <th>1</th>\n",
       "      <td>180.0</td>\n",
       "      <td>240.0</td>\n",
       "      <td>1014.855343</td>\n",
       "      <td>979.554666</td>\n",
       "      <td>35.300676</td>\n",
       "    </tr>\n",
       "    <tr>\n",
       "      <th>2</th>\n",
       "      <td>240.0</td>\n",
       "      <td>300.0</td>\n",
       "      <td>1057.178743</td>\n",
       "      <td>1105.899554</td>\n",
       "      <td>-48.720811</td>\n",
       "    </tr>\n",
       "    <tr>\n",
       "      <th>3</th>\n",
       "      <td>300.0</td>\n",
       "      <td>360.0</td>\n",
       "      <td>1192.379564</td>\n",
       "      <td>1147.056098</td>\n",
       "      <td>45.323467</td>\n",
       "    </tr>\n",
       "    <tr>\n",
       "      <th>4</th>\n",
       "      <td>360.0</td>\n",
       "      <td>420.0</td>\n",
       "      <td>1345.061535</td>\n",
       "      <td>1268.074443</td>\n",
       "      <td>76.987092</td>\n",
       "    </tr>\n",
       "    <tr>\n",
       "      <th>5</th>\n",
       "      <td>420.0</td>\n",
       "      <td>480.0</td>\n",
       "      <td>1345.602613</td>\n",
       "      <td>1333.068974</td>\n",
       "      <td>12.533639</td>\n",
       "    </tr>\n",
       "    <tr>\n",
       "      <th>6</th>\n",
       "      <td>480.0</td>\n",
       "      <td>540.0</td>\n",
       "      <td>1415.933808</td>\n",
       "      <td>1430.886503</td>\n",
       "      <td>-14.952695</td>\n",
       "    </tr>\n",
       "    <tr>\n",
       "      <th>7</th>\n",
       "      <td>540.0</td>\n",
       "      <td>600.0</td>\n",
       "      <td>1524.877302</td>\n",
       "      <td>1495.801802</td>\n",
       "      <td>29.075500</td>\n",
       "    </tr>\n",
       "  </tbody>\n",
       "</table>\n",
       "</div>"
      ],
      "text/plain": [
       "    From     To  Mean Response Time A  Mean Response Time B  Difference\n",
       "0  120.0  180.0            819.504482            949.150363 -129.645881\n",
       "1  180.0  240.0           1014.855343            979.554666   35.300676\n",
       "2  240.0  300.0           1057.178743           1105.899554  -48.720811\n",
       "3  300.0  360.0           1192.379564           1147.056098   45.323467\n",
       "4  360.0  420.0           1345.061535           1268.074443   76.987092\n",
       "5  420.0  480.0           1345.602613           1333.068974   12.533639\n",
       "6  480.0  540.0           1415.933808           1430.886503  -14.952695\n",
       "7  540.0  600.0           1524.877302           1495.801802   29.075500"
      ]
     },
     "execution_count": 31,
     "metadata": {},
     "output_type": "execute_result"
    }
   ],
   "source": [
    "df_RT_B = df_RT_A.copy()\n",
    "df_RT_B.columns = ['From' , 'To' , 'Mean Response Time A']\n",
    "for lower_hour,upper_hour,i in zip(range(120,600,60) , range(180,660,60),range(0,8)):\n",
    "    rt = [tuple((x[1]-x[0]) for x in Demographic.values() if x[0]>=lower_hour and x[0]<=upper_hour) for Demographic in Demographic_list_B]\n",
    "    df_RT_B.loc[i,'Mean Response Time B']=np.mean([np.mean(x) for x in rt])\n",
    "df_RT_B['Difference'] = df_RT_B['Mean Response Time A']-df_RT_B['Mean Response Time B']\n",
    "df_RT_B"
   ]
  },
  {
   "cell_type": "markdown",
   "metadata": {
    "ExecuteTime": {
     "end_time": "2022-06-03T14:01:17.369832Z",
     "start_time": "2022-06-03T14:01:17.360871Z"
    },
    "hidden": true
   },
   "source": [
    "**Average waiting time for each machine**"
   ]
  },
  {
   "cell_type": "code",
   "execution_count": 32,
   "metadata": {
    "ExecuteTime": {
     "end_time": "2022-07-16T13:40:44.481073Z",
     "start_time": "2022-07-16T13:40:44.467082Z"
    },
    "hidden": true
   },
   "outputs": [
    {
     "data": {
      "text/html": [
       "<div>\n",
       "<style scoped>\n",
       "    .dataframe tbody tr th:only-of-type {\n",
       "        vertical-align: middle;\n",
       "    }\n",
       "\n",
       "    .dataframe tbody tr th {\n",
       "        vertical-align: top;\n",
       "    }\n",
       "\n",
       "    .dataframe thead th {\n",
       "        text-align: right;\n",
       "    }\n",
       "</style>\n",
       "<table border=\"1\" class=\"dataframe\">\n",
       "  <thead>\n",
       "    <tr style=\"text-align: right;\">\n",
       "      <th></th>\n",
       "      <th>Mean Waiting Time A</th>\n",
       "      <th>Mean Waiting Time B</th>\n",
       "      <th>Difference</th>\n",
       "    </tr>\n",
       "  </thead>\n",
       "  <tbody>\n",
       "    <tr>\n",
       "      <th>0</th>\n",
       "      <td>33945.758132</td>\n",
       "      <td>34608.086894</td>\n",
       "      <td>-662.328763</td>\n",
       "    </tr>\n",
       "  </tbody>\n",
       "</table>\n",
       "</div>"
      ],
      "text/plain": [
       "   Mean Waiting Time A  Mean Waiting Time B  Difference\n",
       "0         33945.758132         34608.086894 -662.328763"
      ]
     },
     "execution_count": 32,
     "metadata": {},
     "output_type": "execute_result"
    }
   ],
   "source": [
    "df_MWT_B = pd.DataFrame({'Mean Waiting Time A':np.mean(np.array(TWT_list_A)) , 'Mean Waiting Time B':np.mean(np.array(TWT_list_B))\n",
    "                        ,'Difference':np.mean(np.array(TWT_list_A))-np.mean(np.array(TWT_list_B))},index=[0])\n",
    "df_MWT_B"
   ]
  },
  {
   "cell_type": "markdown",
   "metadata": {
    "ExecuteTime": {
     "end_time": "2022-06-03T14:01:31.420268Z",
     "start_time": "2022-06-03T14:01:31.407278Z"
    },
    "hidden": true
   },
   "source": [
    "**Average service time at workstations** "
   ]
  },
  {
   "cell_type": "code",
   "execution_count": 33,
   "metadata": {
    "ExecuteTime": {
     "end_time": "2022-07-16T13:40:44.511995Z",
     "start_time": "2022-07-16T13:40:44.483040Z"
    },
    "hidden": true
   },
   "outputs": [
    {
     "name": "stdout",
     "output_type": "stream",
     "text": [
      "Note that this should not change, and even if the difference for a station is not 0, it is because of randomness of the simulation\n"
     ]
    },
    {
     "data": {
      "text/html": [
       "<div>\n",
       "<style scoped>\n",
       "    .dataframe tbody tr th:only-of-type {\n",
       "        vertical-align: middle;\n",
       "    }\n",
       "\n",
       "    .dataframe tbody tr th {\n",
       "        vertical-align: top;\n",
       "    }\n",
       "\n",
       "    .dataframe thead th {\n",
       "        text-align: right;\n",
       "    }\n",
       "</style>\n",
       "<table border=\"1\" class=\"dataframe\">\n",
       "  <thead>\n",
       "    <tr style=\"text-align: right;\">\n",
       "      <th></th>\n",
       "      <th>Average Service Time A</th>\n",
       "      <th>Average Service Time B</th>\n",
       "      <th>Difference</th>\n",
       "    </tr>\n",
       "  </thead>\n",
       "  <tbody>\n",
       "    <tr>\n",
       "      <th>A</th>\n",
       "      <td>11.653696</td>\n",
       "      <td>11.611909</td>\n",
       "      <td>0.041787</td>\n",
       "    </tr>\n",
       "    <tr>\n",
       "      <th>B</th>\n",
       "      <td>35.185439</td>\n",
       "      <td>34.825926</td>\n",
       "      <td>0.359513</td>\n",
       "    </tr>\n",
       "    <tr>\n",
       "      <th>C</th>\n",
       "      <td>19.430425</td>\n",
       "      <td>19.670418</td>\n",
       "      <td>-0.239992</td>\n",
       "    </tr>\n",
       "    <tr>\n",
       "      <th>D</th>\n",
       "      <td>45.179903</td>\n",
       "      <td>47.609340</td>\n",
       "      <td>-2.429437</td>\n",
       "    </tr>\n",
       "    <tr>\n",
       "      <th>E</th>\n",
       "      <td>37.862815</td>\n",
       "      <td>32.778940</td>\n",
       "      <td>5.083875</td>\n",
       "    </tr>\n",
       "  </tbody>\n",
       "</table>\n",
       "</div>"
      ],
      "text/plain": [
       "   Average Service Time A  Average Service Time B  Difference\n",
       "A               11.653696               11.611909    0.041787\n",
       "B               35.185439               34.825926    0.359513\n",
       "C               19.430425               19.670418   -0.239992\n",
       "D               45.179903               47.609340   -2.429437\n",
       "E               37.862815               32.778940    5.083875"
      ]
     },
     "execution_count": 33,
     "metadata": {},
     "output_type": "execute_result"
    }
   ],
   "source": [
    "df_ST_B=df_ST_A.copy()\n",
    "df_ST_B.columns = ['Average Service Time A']\n",
    "mean_ST_A = np.mean(np.array([(x[0]+x[1]) for x in SVR_list_B])/np.array([(x[0]+x[1]) for x in N_list_B]))\n",
    "mean_ST_B = np.mean(np.array([(x[2]+x[3]+x[4]) for x in SVR_list_B])/np.array([(x[2]+x[3]+x[4]) for x in N_list_B]))\n",
    "mean_ST_C = np.mean(np.array([x[5] for x in SVR_list_B])/np.array([x[5] for x in N_list_B]))\n",
    "mean_ST_D = np.mean(np.array([(x[6]+x[7]+x[8]+x[9]) for x in SVR_list_B])/np.array([(x[6]+x[7]+x[8]+x[9]) for x in N_list_B]))\n",
    "mean_ST_E = np.mean(np.array([(x[10]+x[11]+x[12]) for x in SVR_list_B])/np.array([(x[10]+x[11]+x[12]) for x in N_list_B]))\n",
    "\n",
    "df_ST_B['Average Service Time B'] = [mean_ST_A,mean_ST_B,mean_ST_C,mean_ST_D,mean_ST_E]\n",
    "df_ST_B['Difference'] = df_ST_B['Average Service Time A']-df_ST_B['Average Service Time B']\n",
    "print('Note that this should not change, and even if the difference for a station is not 0, it is because of randomness of the simulation')\n",
    "df_ST_B"
   ]
  },
  {
   "cell_type": "markdown",
   "metadata": {
    "hidden": true
   },
   "source": [
    "**Average working time for each work station**"
   ]
  },
  {
   "cell_type": "code",
   "execution_count": 34,
   "metadata": {
    "ExecuteTime": {
     "end_time": "2022-07-16T13:40:44.541883Z",
     "start_time": "2022-07-16T13:40:44.513957Z"
    },
    "hidden": true
   },
   "outputs": [
    {
     "data": {
      "text/html": [
       "<div>\n",
       "<style scoped>\n",
       "    .dataframe tbody tr th:only-of-type {\n",
       "        vertical-align: middle;\n",
       "    }\n",
       "\n",
       "    .dataframe tbody tr th {\n",
       "        vertical-align: top;\n",
       "    }\n",
       "\n",
       "    .dataframe thead th {\n",
       "        text-align: right;\n",
       "    }\n",
       "</style>\n",
       "<table border=\"1\" class=\"dataframe\">\n",
       "  <thead>\n",
       "    <tr style=\"text-align: right;\">\n",
       "      <th></th>\n",
       "      <th>Average working time A (for the whole station)</th>\n",
       "      <th>Average working time A (per server in the station)</th>\n",
       "      <th>Average working time B (for the whole station)</th>\n",
       "      <th>Average working time B (per server in the station)</th>\n",
       "      <th>Difference for whole station</th>\n",
       "      <th>Difference per server</th>\n",
       "    </tr>\n",
       "  </thead>\n",
       "  <tbody>\n",
       "    <tr>\n",
       "      <th>A</th>\n",
       "      <td>474.769377</td>\n",
       "      <td>474.769377</td>\n",
       "      <td>952.211463</td>\n",
       "      <td>476.105732</td>\n",
       "      <td>-477.442086</td>\n",
       "      <td>-1.336355</td>\n",
       "    </tr>\n",
       "    <tr>\n",
       "      <th>B</th>\n",
       "      <td>1367.966168</td>\n",
       "      <td>455.988723</td>\n",
       "      <td>1375.215461</td>\n",
       "      <td>458.405154</td>\n",
       "      <td>-7.249293</td>\n",
       "      <td>-2.416431</td>\n",
       "    </tr>\n",
       "    <tr>\n",
       "      <th>C</th>\n",
       "      <td>365.958671</td>\n",
       "      <td>365.958671</td>\n",
       "      <td>412.177506</td>\n",
       "      <td>412.177506</td>\n",
       "      <td>-46.218835</td>\n",
       "      <td>-46.218835</td>\n",
       "    </tr>\n",
       "    <tr>\n",
       "      <th>D</th>\n",
       "      <td>1585.357057</td>\n",
       "      <td>396.339264</td>\n",
       "      <td>1630.744794</td>\n",
       "      <td>407.686198</td>\n",
       "      <td>-45.387737</td>\n",
       "      <td>-11.346934</td>\n",
       "    </tr>\n",
       "    <tr>\n",
       "      <th>E</th>\n",
       "      <td>1052.535653</td>\n",
       "      <td>350.845218</td>\n",
       "      <td>959.077749</td>\n",
       "      <td>319.692583</td>\n",
       "      <td>93.457904</td>\n",
       "      <td>31.152635</td>\n",
       "    </tr>\n",
       "  </tbody>\n",
       "</table>\n",
       "</div>"
      ],
      "text/plain": [
       "   Average working time A (for the whole station)  \\\n",
       "A                                      474.769377   \n",
       "B                                     1367.966168   \n",
       "C                                      365.958671   \n",
       "D                                     1585.357057   \n",
       "E                                     1052.535653   \n",
       "\n",
       "   Average working time A (per server in the station)  \\\n",
       "A                                         474.769377    \n",
       "B                                         455.988723    \n",
       "C                                         365.958671    \n",
       "D                                         396.339264    \n",
       "E                                         350.845218    \n",
       "\n",
       "   Average working time B (for the whole station)  \\\n",
       "A                                      952.211463   \n",
       "B                                     1375.215461   \n",
       "C                                      412.177506   \n",
       "D                                     1630.744794   \n",
       "E                                      959.077749   \n",
       "\n",
       "   Average working time B (per server in the station)  \\\n",
       "A                                         476.105732    \n",
       "B                                         458.405154    \n",
       "C                                         412.177506    \n",
       "D                                         407.686198    \n",
       "E                                         319.692583    \n",
       "\n",
       "   Difference for whole station  Difference per server  \n",
       "A                   -477.442086              -1.336355  \n",
       "B                     -7.249293              -2.416431  \n",
       "C                    -46.218835             -46.218835  \n",
       "D                    -45.387737             -11.346934  \n",
       "E                     93.457904              31.152635  "
      ]
     },
     "execution_count": 34,
     "metadata": {},
     "output_type": "execute_result"
    }
   ],
   "source": [
    "df_SVR_B=df_SVR_A.copy()\n",
    "df_SVR_B.columns = ['Average working time A (for the whole station)' ,'Average working time A (per server in the station)' ]\n",
    "\n",
    "SVR_A = np.mean([(x[0]+x[1]) for x in SVR_list_B])\n",
    "SVR_B = np.mean([(x[2]+x[3]+x[4]) for x in SVR_list_B])\n",
    "SVR_C = np.mean([x[5] for x in SVR_list_B])\n",
    "SVR_D = np.mean([(x[6]+x[7]+x[8]+x[9]) for x in SVR_list_B])\n",
    "SVR_E = np.mean([(x[10]+x[11]+x[12]) for x in SVR_list_B])\n",
    "\n",
    "df_SVR_B['Average working time B (for the whole station)'] = [SVR_A,SVR_B,SVR_C,SVR_D,SVR_E]\n",
    "df_SVR_B['Average working time B (per server in the station)'] = [SVR_A/2,SVR_B/3,SVR_C,SVR_D/4,SVR_E/3]\n",
    "df_SVR_B['Difference for whole station']=df_SVR_B['Average working time A (for the whole station)']-df_SVR_B['Average working time B (for the whole station)']\n",
    "df_SVR_B['Difference per server']=df_SVR_B['Average working time A (per server in the station)']-df_SVR_B['Average working time B (per server in the station)']\n",
    "df_SVR_B"
   ]
  },
  {
   "cell_type": "code",
   "execution_count": 35,
   "metadata": {
    "ExecuteTime": {
     "end_time": "2022-07-16T13:40:44.557010Z",
     "start_time": "2022-07-16T13:40:44.543878Z"
    },
    "hidden": true
   },
   "outputs": [
    {
     "data": {
      "text/html": [
       "<div>\n",
       "<style scoped>\n",
       "    .dataframe tbody tr th:only-of-type {\n",
       "        vertical-align: middle;\n",
       "    }\n",
       "\n",
       "    .dataframe tbody tr th {\n",
       "        vertical-align: top;\n",
       "    }\n",
       "\n",
       "    .dataframe thead th {\n",
       "        text-align: right;\n",
       "    }\n",
       "</style>\n",
       "<table border=\"1\" class=\"dataframe\">\n",
       "  <thead>\n",
       "    <tr style=\"text-align: right;\">\n",
       "      <th></th>\n",
       "      <th>Number of Machines PART A</th>\n",
       "      <th>Number of Machines PART B</th>\n",
       "    </tr>\n",
       "  </thead>\n",
       "  <tbody>\n",
       "    <tr>\n",
       "      <th>A</th>\n",
       "      <td>41.12</td>\n",
       "      <td>82.34</td>\n",
       "    </tr>\n",
       "    <tr>\n",
       "      <th>B</th>\n",
       "      <td>38.98</td>\n",
       "      <td>39.78</td>\n",
       "    </tr>\n",
       "    <tr>\n",
       "      <th>C</th>\n",
       "      <td>18.82</td>\n",
       "      <td>20.96</td>\n",
       "    </tr>\n",
       "    <tr>\n",
       "      <th>D</th>\n",
       "      <td>35.28</td>\n",
       "      <td>34.32</td>\n",
       "    </tr>\n",
       "    <tr>\n",
       "      <th>E</th>\n",
       "      <td>27.82</td>\n",
       "      <td>29.52</td>\n",
       "    </tr>\n",
       "  </tbody>\n",
       "</table>\n",
       "</div>"
      ],
      "text/plain": [
       "   Number of Machines PART A  Number of Machines PART B\n",
       "A                      41.12                      82.34\n",
       "B                      38.98                      39.78\n",
       "C                      18.82                      20.96\n",
       "D                      35.28                      34.32\n",
       "E                      27.82                      29.52"
      ]
     },
     "execution_count": 35,
     "metadata": {},
     "output_type": "execute_result"
    }
   ],
   "source": [
    "df_N_B = pd.DataFrame({'Number of Machines PART A':[np.mean([x[0] for x in N_list_A]),\n",
    "                                                    np.mean([(x[1]+x[2]+x[3]) for x in N_list_A]),\n",
    "                                                    np.mean([x[4] for x in N_list_A]),\n",
    "                                                    np.mean([(x[5]+x[6]+x[7]+x[8]) for x in N_list_A]) , \n",
    "                                                    np.mean([(x[9]+x[10]+x[11]) for x in N_list_A])],\n",
    "                      'Number of Machines PART B':[np.mean([(x[0]+x[1]) for x in N_list_B]),\n",
    "                                                   np.mean([(x[2]+x[3]+x[4]) for x in N_list_B]),\n",
    "                                                   np.mean([x[5] for x in N_list_B]),\n",
    "                                                   np.mean([(x[6]+x[7]+x[8]+x[9]) for x in N_list_B]),\n",
    "                                                  np.mean([(x[10]+x[11]+x[12]) for x in N_list_B])]},\n",
    "                     index=['A','B','C','D','E'])\n",
    "df_N_B"
   ]
  },
  {
   "cell_type": "markdown",
   "metadata": {
    "hidden": true
   },
   "source": [
    "**Average total queue length for each work station**"
   ]
  },
  {
   "cell_type": "code",
   "execution_count": 36,
   "metadata": {
    "ExecuteTime": {
     "end_time": "2022-07-16T13:40:44.572801Z",
     "start_time": "2022-07-16T13:40:44.558838Z"
    },
    "hidden": true
   },
   "outputs": [
    {
     "data": {
      "text/html": [
       "<div>\n",
       "<style scoped>\n",
       "    .dataframe tbody tr th:only-of-type {\n",
       "        vertical-align: middle;\n",
       "    }\n",
       "\n",
       "    .dataframe tbody tr th {\n",
       "        vertical-align: top;\n",
       "    }\n",
       "\n",
       "    .dataframe thead th {\n",
       "        text-align: right;\n",
       "    }\n",
       "</style>\n",
       "<table border=\"1\" class=\"dataframe\">\n",
       "  <thead>\n",
       "    <tr style=\"text-align: right;\">\n",
       "      <th></th>\n",
       "      <th>Average total queue length A</th>\n",
       "      <th>Average total queue length B</th>\n",
       "      <th>Difference</th>\n",
       "    </tr>\n",
       "  </thead>\n",
       "  <tbody>\n",
       "    <tr>\n",
       "      <th>A</th>\n",
       "      <td>130.04</td>\n",
       "      <td>126.04</td>\n",
       "      <td>4.00</td>\n",
       "    </tr>\n",
       "    <tr>\n",
       "      <th>B</th>\n",
       "      <td>42.00</td>\n",
       "      <td>85.06</td>\n",
       "      <td>-43.06</td>\n",
       "    </tr>\n",
       "    <tr>\n",
       "      <th>C</th>\n",
       "      <td>19.20</td>\n",
       "      <td>23.04</td>\n",
       "      <td>-3.84</td>\n",
       "    </tr>\n",
       "    <tr>\n",
       "      <th>D</th>\n",
       "      <td>21.04</td>\n",
       "      <td>24.36</td>\n",
       "      <td>-3.32</td>\n",
       "    </tr>\n",
       "    <tr>\n",
       "      <th>E</th>\n",
       "      <td>18.68</td>\n",
       "      <td>11.28</td>\n",
       "      <td>7.40</td>\n",
       "    </tr>\n",
       "  </tbody>\n",
       "</table>\n",
       "</div>"
      ],
      "text/plain": [
       "   Average total queue length A  Average total queue length B  Difference\n",
       "A                        130.04                        126.04        4.00\n",
       "B                         42.00                         85.06      -43.06\n",
       "C                         19.20                         23.04       -3.84\n",
       "D                         21.04                         24.36       -3.32\n",
       "E                         18.68                         11.28        7.40"
      ]
     },
     "execution_count": 36,
     "metadata": {},
     "output_type": "execute_result"
    }
   ],
   "source": [
    "df_Q_B=df_Q_A.copy()\n",
    "df_Q_B.columns=['Average total queue length A']\n",
    "\n",
    "Queue_A=np.mean([x[0] for x in TotalQ_list_B])\n",
    "Queue_B=np.mean([x[1] for x in TotalQ_list_B])\n",
    "Queue_C=np.mean([x[2] for x in TotalQ_list_B])\n",
    "Queue_D=np.mean([x[3] for x in TotalQ_list_B])\n",
    "Queue_E=np.mean([x[4] for x in TotalQ_list_B])\n",
    "\n",
    "df_Q_B['Average total queue length B'] = [Queue_A,Queue_B,Queue_C,Queue_D,Queue_E]\n",
    "df_Q_B['Difference']=df_Q_B.loc[:,'Average total queue length A'] - df_Q_B.loc[:,'Average total queue length B'] \n",
    "df_Q_B"
   ]
  },
  {
   "cell_type": "markdown",
   "metadata": {
    "hidden": true
   },
   "source": [
    "**Maximum waiting time in a queue**"
   ]
  },
  {
   "cell_type": "code",
   "execution_count": 37,
   "metadata": {
    "ExecuteTime": {
     "end_time": "2022-07-16T13:40:44.587761Z",
     "start_time": "2022-07-16T13:40:44.573797Z"
    },
    "hidden": true
   },
   "outputs": [
    {
     "data": {
      "text/html": [
       "<div>\n",
       "<style scoped>\n",
       "    .dataframe tbody tr th:only-of-type {\n",
       "        vertical-align: middle;\n",
       "    }\n",
       "\n",
       "    .dataframe tbody tr th {\n",
       "        vertical-align: top;\n",
       "    }\n",
       "\n",
       "    .dataframe thead th {\n",
       "        text-align: right;\n",
       "    }\n",
       "</style>\n",
       "<table border=\"1\" class=\"dataframe\">\n",
       "  <thead>\n",
       "    <tr style=\"text-align: right;\">\n",
       "      <th></th>\n",
       "      <th>Max WT PART A</th>\n",
       "      <th>Max WT PART B</th>\n",
       "      <th>Difference</th>\n",
       "    </tr>\n",
       "  </thead>\n",
       "  <tbody>\n",
       "    <tr>\n",
       "      <th>0</th>\n",
       "      <td>480.0</td>\n",
       "      <td>480.0</td>\n",
       "      <td>0.0</td>\n",
       "    </tr>\n",
       "  </tbody>\n",
       "</table>\n",
       "</div>"
      ],
      "text/plain": [
       "   Max WT PART A  Max WT PART B  Difference\n",
       "0          480.0          480.0         0.0"
      ]
     },
     "execution_count": 37,
     "metadata": {},
     "output_type": "execute_result"
    }
   ],
   "source": [
    "df_max_WT_B = pd.DataFrame({'Max WT PART A':np.mean(max_WT_list_A),\n",
    "                           'Max WT PART B':np.mean(max_WT_list_B),\n",
    "                           'Difference': np.mean(max_WT_list_A)-np.mean(max_WT_list_B)},index=[0])\n",
    "df_max_WT_B"
   ]
  },
  {
   "cell_type": "markdown",
   "metadata": {},
   "source": [
    "# PART C"
   ]
  },
  {
   "cell_type": "code",
   "execution_count": 38,
   "metadata": {
    "ExecuteTime": {
     "end_time": "2022-07-16T13:40:44.603718Z",
     "start_time": "2022-07-16T13:40:44.589754Z"
    }
   },
   "outputs": [],
   "source": [
    "serverA=1\n",
    "serverB=3\n",
    "serverC=1\n",
    "serverD=4\n",
    "serverE=3\n",
    "TotalServers=serverA+serverB+serverC+serverD+serverE"
   ]
  },
  {
   "cell_type": "code",
   "execution_count": 39,
   "metadata": {
    "ExecuteTime": {
     "end_time": "2022-07-16T13:40:44.618686Z",
     "start_time": "2022-07-16T13:40:44.606712Z"
    }
   },
   "outputs": [],
   "source": [
    "iteration=0\n",
    "Demographic_list_C=[]\n",
    "TWT_list_C=[]\n",
    "N_list_C=[]\n",
    "SVR_list_C=[]\n",
    "TotalQ_list_C=[]\n",
    "max_WT_list_C=[]\n",
    "FEL_total_C=[]\n",
    "MTOT_list_C=[]"
   ]
  },
  {
   "cell_type": "code",
   "execution_count": 40,
   "metadata": {
    "ExecuteTime": {
     "end_time": "2022-07-16T13:40:45.314013Z",
     "start_time": "2022-07-16T13:40:44.620671Z"
    },
    "code_folding": []
   },
   "outputs": [],
   "source": [
    "while iteration<number_of_sim:\n",
    "    arr_ID=0                               # Total number of entered machines (equivalent to ID)\n",
    "    MTOT=0                                 #Total number of machines entered between 120 till 600\n",
    "    Status=np.zeros(TotalServers)          # Status of Server I (0=idle, 1=busy)\n",
    "    Q=np.zeros(5)                          # Number of machines waiting in ith queue\n",
    "    TotalQ=np.zeros(5)                     # Total number of machines waited in ith queue\n",
    "    SVR=np.zeros(TotalServers)             # Service time of server i\n",
    "    Tnow=0\n",
    "    T1=120\n",
    "    T2=600\n",
    "    TWT=0\n",
    "    NF=0\n",
    "    max_WT=0\n",
    "    N=np.zeros(TotalServers)               # Total number of served machines by server i\n",
    "    RespTime=[]                   # Response time (equals to departure time – arrival time)\n",
    "    FEL=[(0,0,1,0,1),(0,0,0,0,2),(3,180,-1,0,0)]    \n",
    "    '''\n",
    "    Tuple – All future events are saved in this list with this format: \n",
    "        •Code\n",
    "        •Time\n",
    "        •Priotiry (1 for yes, 0 for no)\n",
    "        •Rework, whether the machine needs rework or not (1 for rework, 0 for no need for rework)\n",
    "        •ID of the machine\n",
    "    '''\n",
    "    \n",
    "    FEL_backup=[]                 # backup of FEL (saves every event)\n",
    "    Q_A=[]                        # machines waiting in queue of server A; format: (ID,time,priority)\n",
    "    Q_B=[]\n",
    "    Q_C=[]\n",
    "    Q_D=[]\n",
    "    Q_E=[]\n",
    "\n",
    "    Demographic={}                  \n",
    "    '''\n",
    "    Dictionary – containing following info: \n",
    "        •ID of machine\n",
    "        •Arrival time, machine’s arrival time.\n",
    "        •Type of the order, whether it has a priority or not (1 for priority, 0 for non-priority)\n",
    "        •Rework, whether the machine needs rework or not (1 for rework, 0 for no need for rework)\n",
    "    the ID is used as key and other info is used as value in this dictionary.\n",
    "    '''\n",
    "    while (Tnow <= T2) or (len(FEL)!=0):\n",
    "        \n",
    "        # arrival event\n",
    "        if FEL[0][0]==0:\n",
    "            code_type=FEL[0][2]\n",
    "            arr_ID+=1\n",
    "            \n",
    "            FEL[0]=(FEL[0][0] , FEL[0][1],FEL[0][2],FEL[0][3],arr_ID)            \n",
    "            Demographic[arr_ID]=Tnow            \n",
    "            if (Tnow>=T1) and (Tnow<=T2): MTOT+=1\n",
    "            \n",
    "            if code_type==0: #ordinary\n",
    "                InterArrival=normal_generator(sample_random[rcounter],sample_random[rcounter+1], 16,12)   #interarrival for non-priority order\n",
    "                rcounter+=2\n",
    "                if (Tnow+InterArrival <=T2):\n",
    "                    FEL.append((0 , Tnow+InterArrival,0,0,-2))      #add arrival event of non-priority order\n",
    "\n",
    "            elif code_type==1:\n",
    "                InterArrival=normal_generator(sample_random[rcounter],sample_random[rcounter+1] , 5,2)     #interarrival for priority order\n",
    "                rcounter+=2\n",
    "                if (Tnow+InterArrival <=T2):\n",
    "                    FEL.append((0 , Tnow+InterArrival,1,0,-2))               #add arrival event of priority order\n",
    "\n",
    "            if Status[0]==0:\n",
    "                \n",
    "                Status[0]=1\n",
    "                ST = abs(normal_generator(sample_random[rcounter],sample_random[rcounter+1] , 2,13**0.5))\n",
    "                rcounter+=2\n",
    "                \n",
    "                if (Tnow>=T1) and (Tnow<=T2): \n",
    "                    SVR[0]+=min(T2-Tnow,ST)\n",
    "                    N[0]+=1\n",
    "                FEL.append((1 , Tnow+ST , code_type,0,FEL[0][4]))\n",
    "                \n",
    "            else:\n",
    "                Q_A.append((FEL[0][4] , Tnow , code_type,0))    # (ID, Time, priority or not , rework or not)\n",
    "                Q[0]+=1\n",
    "                if (Tnow>=T1) and (Tnow<=T2): TotalQ[0]+=1\n",
    "         \n",
    "        \n",
    "        # departure from server A\n",
    "        elif FEL[0][0]==1:\n",
    "            code_type=FEL[0][2]                            # for the machine that is leaving NOW\n",
    "            if FEL[0][3]==0:                               #(if there was no rework for the current machine)\n",
    "     \n",
    "                if Q[0]==0:\n",
    "                    Status[0]=0                                           # server 1 (A) is idle now\n",
    "                else:\n",
    "                    Q[0]-=1\n",
    "                    if (Tnow>=T1) and (Tnow<=T2): N[0]+=1\n",
    "                    ID=-1\n",
    "                    for x in Q_A:  #priority chekcing\n",
    "                        if x[2]==1:\n",
    "                            code_type_=1\n",
    "                            rework=x[3]\n",
    "                            ID=x[0]\n",
    "                            if Tnow>=T1:\n",
    "                                WT= min(Tnow,T2)-max(x[1],T1)\n",
    "                                if WT>0:\n",
    "                                    max_WT=max(WT,max_WT)\n",
    "                                    TWT+=WT\n",
    "                            Q_A.remove(x)\n",
    "                            break\n",
    "                    if ID==-1:    #ordinary chcecking\n",
    "                        code_type_=0\n",
    "                        rework=Q_A[0][3]\n",
    "                        ID=Q_A[0][0]\n",
    "                        if Tnow>=T1:\n",
    "                            WT = min(Tnow,T2) - max(Q_A[0][1],T1) \n",
    "                            if WT>0:\n",
    "                                max_WT=max(WT,max_WT)\n",
    "                                TWT+=WT\n",
    "                        Q_A.pop(0)\n",
    "                        \n",
    "                    ST = abs(normal_generator(sample_random[rcounter] , sample_random[rcounter+1],2,13))\n",
    "                    rcounter+=2\n",
    "                    if (Tnow>=T1) and (Tnow<=T2): SVR[0]+=min(T2-Tnow,ST)\n",
    "                    FEL.append((1 , Tnow+ST,code_type_,rework,ID))         # Future departure event from server 1 \n",
    "                    \n",
    "            # arrival event to B (under departure event from A) (for current machine)\n",
    "            for i in range(1,4):\n",
    "                if Status[i]==0:\n",
    "                    Status[i]=1\n",
    "                    if (Tnow>=T1) and (Tnow<=T2): N[i]+=1\n",
    "                    if FEL[0][3]==1:\n",
    "                        ST=abs(normal_generator(sample_random[rcounter] , sample_random[rcounter+1],27,8))\n",
    "                        rcounter+=2\n",
    "\n",
    "                    else: \n",
    "                        ST=abs(normal_generator(sample_random[rcounter] , sample_random[rcounter+1],20,39))\n",
    "                        rcounter+=2\n",
    "                        \n",
    "                    if (Tnow>=T1) and (Tnow<=T2): SVR[i]+=min(T2-Tnow,ST)\n",
    "                    FEL.append((i+1 , Tnow+ST,code_type,FEL[0][3],FEL[0][4]))          # Future departure event from server i=2,3,4      \n",
    "                    break\n",
    "\n",
    "                elif i==3:\n",
    "                    Q_B.append((FEL[0][4] , Tnow , code_type,FEL[0][3]))\n",
    "                    Q[1]+=1\n",
    "                    if (Tnow>=T1) and (Tnow<=T2): TotalQ[1]+=1\n",
    "\n",
    "        # departure from server B\n",
    "        elif FEL[0][0] in [2,3,4]:  \n",
    "            code_type=FEL[0][2]                                       # for the machine that is leaving server B NOW\n",
    "            \n",
    "            if code_type==-1:                                         # breakdown of machine C event\n",
    "                if (Tnow>=T1) and (Tnow<=T2): NF+=1\n",
    "                if Status[4]==0:\n",
    "                    Status[4]=1\n",
    "                    FT=normal_generator(sample_random[rcounter] , sample_random[rcounter+1],10,2)\n",
    "                    rcounter+=2\n",
    "                    FEL.append((5 , Tnow+FT ,-1 , 0,0))\n",
    "                else:\n",
    "                    Q_C.append((0 , Tnow , -1))\n",
    "                    Q[2]+=1  \n",
    "            else:\n",
    "                if Q[1]==0:                                               # Q[1] is queue of server B\n",
    "                    Status[FEL[0][0]-1]=0                                 # server i=2 or 3 or 4 (from B) is idle now\n",
    "                else:\n",
    "                    Q[1]-=1\n",
    "                    if (Tnow>=T1) and (Tnow<=T2): N[FEL[0][0]-1]+=1\n",
    "                    ID=-1\n",
    "                    for x in Q_B:  #priority chekcing\n",
    "                        if x[2]==1:\n",
    "                            code_type_=1\n",
    "                            rework=x[3]\n",
    "                            ID=x[0]\n",
    "                            if Tnow>=T1:\n",
    "                                WT = min(Tnow,T2) - max(x[1],T1)\n",
    "                                if WT>0:\n",
    "                                    max_WT=max(WT,max_WT)\n",
    "                                    TWT+=WT\n",
    "                            Q_B.remove(x)\n",
    "                            break\n",
    "                    if ID==-1:    #ordinary chcecking\n",
    "                        code_type_=0\n",
    "                        rework=Q_B[0][3]\n",
    "                        ID=Q_B[0][0]\n",
    "                        if (Tnow>=T1):\n",
    "                            WT = min(Tnow,T2) - max(Q_B[0][1],T1)  \n",
    "                            if WT>0:\n",
    "                                max_WT=max(WT,max_WT)\n",
    "                                TWT+=WT\n",
    "                        Q_B.pop(0)\n",
    "                        \n",
    "                    if rework==1:\n",
    "                        ST= abs(normal_generator(sample_random[rcounter] , sample_random[rcounter+1],27,8))\n",
    "                        rcounter+=2\n",
    "\n",
    "                    else: \n",
    "                        ST = abs(normal_generator(sample_random[rcounter] , sample_random[rcounter+1],20,39))\n",
    "                        rcounter+=2\n",
    "                    if (Tnow>=T1) and (Tnow<=T2): SVR[FEL[0][0]-1]+=min(T2-Tnow,ST)\n",
    "                    FEL.append((FEL[0][0] , Tnow+ST,code_type_,rework,ID))              # departure event from server i=2 or 3 or 4\n",
    "\n",
    "                #arrival event to C (under departure event from B)\n",
    "                if (FEL[0][3]==0) and (sample_random[rcounter]<=0.6):    # (send the machine to C if rework==0 and rnd<=0.6)\n",
    "                    rcounter+=1\n",
    "                    if Status[4]==0:\n",
    "                        Status[4]=1\n",
    "                        ST=15\n",
    "                        if (Tnow>=T1) and (Tnow<=T2): \n",
    "                            N[4]+=1\n",
    "                            SVR[4]+=min(T2-Tnow,ST)\n",
    "                        FEL.append((5 , Tnow+ST,code_type,0,FEL[0][4]))\n",
    "\n",
    "                    else:\n",
    "                        Q_C.append((FEL[0][4] , Tnow , code_type))\n",
    "                        Q[2]+=1\n",
    "                        if (Tnow>=T1) and (Tnow<=T2): TotalQ[2]+=1\n",
    "\n",
    "                #arrival event to D (under departure event from B)\n",
    "                else:\n",
    "                    rcounter+=1\n",
    "                    for i in range(5,9):\n",
    "                        if Status[i]==0:\n",
    "                            Status[i]=1\n",
    "                            if (Tnow>=T1) and (Tnow<=T2): N[i]+=1\n",
    "                            ST=abs(normal_generator(sample_random[rcounter] , sample_random[rcounter+1],30,47)) \n",
    "                            rcounter+=2\n",
    "                            if (Tnow>=T1) and (Tnow<=T2): SVR[i]+=min(T2-Tnow,ST)\n",
    "                            FEL.append((i+1 , Tnow+ST,code_type,FEL[0][3],FEL[0][4]))\n",
    "                            break\n",
    "\n",
    "                        elif i==8:\n",
    "                            Q_D.append((FEL[0][4] , Tnow , code_type,FEL[0][3]))\n",
    "                            Q[3]+=1\n",
    "                            if (Tnow>=T1) and (Tnow<=T2): TotalQ[3]+=1           \n",
    "\n",
    "\n",
    "        # departure from server C\n",
    "        elif FEL[0][0]==5:\n",
    "            code_type=FEL[0][2]                                       # for the machine leaving server C NOW\n",
    "            if Q[2]==0:                                               # Q[2] is queue of server C\n",
    "                Status[4]=0                                           # server 5 (from C) is idle now\n",
    "                \n",
    "            else:\n",
    "                Q[2]-=1\n",
    "                ID=-2\n",
    "                for x in Q_C:  #breakdown checking\n",
    "                    if x[2]==-1:\n",
    "                        ID=x[0]\n",
    "                        Q_C.remove(x)\n",
    "                        FT = normal_generator(sample_random[rcounter] , sample_random[rcounter+1],10,2)\n",
    "                        rcounter+=2\n",
    "                        FEL.append((5 , Tnow+FT , -1 , 0,0))\n",
    "                        break\n",
    "                if ID==-2:    \n",
    "                    code_type_=Q_C[0][2]\n",
    "                    ID=Q_C[0][0]\n",
    "                    if (Tnow>=T1):\n",
    "                        WT = min(Tnow,T2) - max(Q_C[0][1],T1)  \n",
    "                        if WT>0:\n",
    "                            max_WT=max(WT,max_WT)\n",
    "                            TWT+=WT\n",
    "                    Q_C.pop(0)\n",
    "                    ST = 15\n",
    "                    if (Tnow>=T1) and (Tnow<=T2): SVR[4]+=min(T2-Tnow,ST); N[4]+=1\n",
    "                    FEL.append((5 , Tnow+ST,code_type_,0,ID))     # departure event from server i=5\n",
    "\n",
    "            if (code_type==-1) and (sum([Status[i] for i in range(12) if i!=4])>0) :               # adding next event of breakdown\n",
    "                FEL.append((3,Tnow+120,-1,0,0))\n",
    "\n",
    "            #arrival event to D (under departure event from C) (for the current machine leaving C)\n",
    "            elif code_type!=-1:\n",
    "                for i in range(5,9):\n",
    "                    if Status[i]==0:\n",
    "                        Status[i]=1\n",
    "                        ST=abs(normal_generator(sample_random[rcounter] , sample_random[rcounter+1],30,47))\n",
    "                        rcounter+=2\n",
    "                        if (Tnow>=T1) and (Tnow<=T2):\n",
    "                            N[i]+=1\n",
    "                            SVR[i]+=ST\n",
    "                        FEL.append((i+1 , Tnow+ST,code_type,0,FEL[0][4]))\n",
    "                        break\n",
    "\n",
    "                    elif i==8:\n",
    "                        Q_D.append((FEL[0][4] , Tnow , code_type,0))\n",
    "                        Q[3]+=1\n",
    "                        if (Tnow>=T1) and (Tnow<=T2): TotalQ[3]+=1\n",
    "\n",
    "\n",
    "\n",
    "        # departure from server D\n",
    "        elif FEL[0][0] in [6,7,8,9]:\n",
    "            code_type=FEL[0][2]\n",
    "            if Q[3]==0:                                               # Q[3] is queue of server D\n",
    "                Status[FEL[0][0]-1]=0              # server i=6 or 7 or 8 or 9 (from B) is idle now\n",
    "                \n",
    "            else:\n",
    "                Q[3]-=1\n",
    "                if (Tnow>=T1) and (Tnow<=T2): N[FEL[0][0]-1]+=1\n",
    "                ID=-1\n",
    "                for x in Q_D:  #priority chekcing\n",
    "                    if x[2]==1:\n",
    "                        code_type_=1\n",
    "                        rework=x[3]\n",
    "                        ID=x[0]\n",
    "                        if (Tnow>=T1):\n",
    "                            WT = min(Tnow,T2) - max(x[1],T1)\n",
    "                            if WT>0:\n",
    "                                max_WT=max(WT,max_WT)\n",
    "                                TWT+=WT\n",
    "                        Q_D.remove(x)\n",
    "                        break\n",
    "                if ID==-1:    #ordinary chcecking\n",
    "                    code_type_=0\n",
    "                    rework=Q_D[0][3]\n",
    "                    ID=Q_D[0][0]\n",
    "                    if (Tnow>=T1):\n",
    "                        WT = min(Tnow,T2) - max(Q_D[0][1],T1)\n",
    "                        if WT>0:\n",
    "                            max_WT=max(WT,max_WT)\n",
    "                            TWT+=WT\n",
    "                    Q_D.pop(0)\n",
    "\n",
    "                ST = abs(normal_generator(sample_random[rcounter] , sample_random[rcounter+1],30,47))\n",
    "                rcounter+=2\n",
    "                if (Tnow>=T1) and (Tnow<=T2): SVR[FEL[0][0]-1]+=min(T2-Tnow,ST)\n",
    "                FEL.append((FEL[0][0] , Tnow+ST,code_type_,rework,ID))     # departure event from server i=6 or 7 or 8 or 9\n",
    "            #arrival event to E (under departure event from D)\n",
    "            if (FEL[0][3]==1) or (sample_random[rcounter]<=0.9):\n",
    "                rcounter+=1\n",
    "                for i in range(9,12):\n",
    "                    if Status[i]==0:\n",
    "                        Status[i]=1\n",
    "                        ST=abs(normal_generator(sample_random[rcounter] , sample_random[rcounter+1],4,42))\n",
    "                        rcounter+=2\n",
    "                        if (Tnow>=T1) and (Tnow<=T2):\n",
    "                            N[i]+=1\n",
    "                            SVR[i]+=min(T2-Tnow,ST)\n",
    "                        FEL.append((i+1 , Tnow+ST , code_type , FEL[0][3],FEL[0][4]))\n",
    "                        break\n",
    "                    elif i==11:\n",
    "                        Q_E.append((FEL[0][4] , Tnow , code_type , FEL[0][3]))\n",
    "                        Q[4]+=1\n",
    "                        if (Tnow>=T1) and (Tnow<=T2): TotalQ[4]+=1\n",
    "\n",
    "            #Rewrok to B (under departure event from D)\n",
    "            else:\n",
    "                rcounter+=1\n",
    "                FEL.append((1 , Tnow , code_type , 1,FEL[0][4]))\n",
    "\n",
    "        # departure from server E\n",
    "        elif FEL[0][0] in [10,11,12]:\n",
    "            Demographic[FEL[0][4]]=(Demographic[FEL[0][4]] , Tnow)\n",
    "            code_type=FEL[0][2]\n",
    "            if Q[4]==0:                                               # Q[3] is queue of server D\n",
    "                Status[FEL[0][0]-1]=0                                 # server i=10 or 11 or 12 (from E) is idle now\n",
    "\n",
    "            else:\n",
    "                Q[4]-=1\n",
    "                if (Tnow>=T1) and (Tnow<=T2): N[FEL[0][0]-1]+=1\n",
    "                ID=-1\n",
    "                for x in Q_E:  #priority chekcing\n",
    "                    if x[2]==1:\n",
    "                        code_type_=1\n",
    "                        rework=x[3]\n",
    "                        ID=x[0]\n",
    "                        if (Tnow>=T1):\n",
    "                            WT = min(Tnow,T2) - max(x[1],T1)\n",
    "                            if WT>0:\n",
    "                                max_WT=max(WT,max_WT)\n",
    "                                TWT+=WT\n",
    "                        Q_E.remove(x)\n",
    "                        break\n",
    "                if ID==-1:    #ordinary chcecking\n",
    "                    code_type_=0\n",
    "                    rework=Q_E[0][3]\n",
    "                    ID=Q_E[0][0]\n",
    "                    if (Tnow>=T1):\n",
    "                        WT = min(Tnow,T2) - max(Q_E[0][1],T1)  \n",
    "                        if WT>0:\n",
    "                            max_WT=max(WT,max_WT)\n",
    "                            TWT+=WT\n",
    "                    Q_E.pop(0)\n",
    "\n",
    "                ST = abs(normal_generator(sample_random[rcounter] , sample_random[rcounter+1],4,42))\n",
    "                rcounter+=2\n",
    "                if (Tnow>=T1) and (Tnow<=T2): SVR[FEL[0][0]-1]+=min(T2-Tnow,ST)\n",
    "                FEL.append((FEL[0][0] , Tnow+ST,code_type_,rework,ID))     # Future departure event from server i=10 or 11 or 12 (E)\n",
    "        FEL_backup.extend(FEL)\n",
    "        FEL.pop(0)\n",
    "        FEL.sort(key=lambda x: x[1])\n",
    "        if len(FEL)!=0: Tnow=FEL[0][1]           #updating Tnow\n",
    "        # END OF WHILE LOOP\n",
    "    \n",
    "    FEL_backup = list(set(FEL_backup))\n",
    "    FEL_backup.sort(key=lambda x: x[1]) #sorting all the events chronologically\n",
    "    iteration+=1\n",
    "    \n",
    "    #saving the results of each iteration\n",
    "    Demographic_list_C.append(Demographic)\n",
    "    TWT_list_C.append(TWT)\n",
    "    N_list_C.append(N)\n",
    "    SVR_list_C.append(SVR)\n",
    "    TotalQ_list_C.append(TotalQ)\n",
    "    max_WT_list_C.append(max_WT)\n",
    "    FEL_total_C.append(FEL_backup)\n",
    "    MTOT_list_C.append(MTOT)\n",
    "    \n",
    "# END of 10 iterations"
   ]
  },
  {
   "cell_type": "markdown",
   "metadata": {},
   "source": [
    "### Comparing Statistics of PART A, B and C"
   ]
  },
  {
   "cell_type": "markdown",
   "metadata": {},
   "source": [
    "#### Response Time assuming that arrival event to the system>=120 and departure event from the system<=600 for a specific machine"
   ]
  },
  {
   "cell_type": "code",
   "execution_count": 41,
   "metadata": {
    "ExecuteTime": {
     "end_time": "2022-07-16T13:40:45.345774Z",
     "start_time": "2022-07-16T13:40:45.315815Z"
    }
   },
   "outputs": [
    {
     "data": {
      "text/html": [
       "<div>\n",
       "<style scoped>\n",
       "    .dataframe tbody tr th:only-of-type {\n",
       "        vertical-align: middle;\n",
       "    }\n",
       "\n",
       "    .dataframe tbody tr th {\n",
       "        vertical-align: top;\n",
       "    }\n",
       "\n",
       "    .dataframe thead th {\n",
       "        text-align: right;\n",
       "    }\n",
       "</style>\n",
       "<table border=\"1\" class=\"dataframe\">\n",
       "  <thead>\n",
       "    <tr style=\"text-align: right;\">\n",
       "      <th></th>\n",
       "      <th>Average response time A</th>\n",
       "      <th>Average response time B</th>\n",
       "      <th>Difference A &amp; B</th>\n",
       "      <th>Average response time C</th>\n",
       "      <th>Difference A &amp; C</th>\n",
       "    </tr>\n",
       "  </thead>\n",
       "  <tbody>\n",
       "    <tr>\n",
       "      <th>0</th>\n",
       "      <td>388.057083</td>\n",
       "      <td>409.235383</td>\n",
       "      <td>-21.1783</td>\n",
       "      <td>388.688566</td>\n",
       "      <td>-0.631483</td>\n",
       "    </tr>\n",
       "  </tbody>\n",
       "</table>\n",
       "</div>"
      ],
      "text/plain": [
       "   Average response time A  Average response time B  Difference A & B  \\\n",
       "0               388.057083               409.235383          -21.1783   \n",
       "\n",
       "   Average response time C  Difference A & C  \n",
       "0               388.688566         -0.631483  "
      ]
     },
     "execution_count": 41,
     "metadata": {},
     "output_type": "execute_result"
    }
   ],
   "source": [
    "df_RT1_C = df_RT1_B.rename(columns={'Difference':'Difference A & B'}).copy()\n",
    "ResponseTimeC1 = [tuple((x[1]-x[0]) for x in Demographic.values() if x[0]>=120 and x[1]<=600) for Demographic in Demographic_list_C]\n",
    "df_RT1_C['Average response time C'] = np.nanmean([np.nanmean(x) for x in ResponseTimeC1])\n",
    "df_RT1_C['Difference A & C']= df_RT1_C['Average response time A']-df_RT1_C['Average response time C']\n",
    "df_RT1_C"
   ]
  },
  {
   "cell_type": "markdown",
   "metadata": {
    "ExecuteTime": {
     "end_time": "2022-06-03T13:10:47.724937Z",
     "start_time": "2022-06-03T13:10:47.709969Z"
    }
   },
   "source": [
    "#### Response Time assuming that arrival event to the system>=120 for a specific machine"
   ]
  },
  {
   "cell_type": "code",
   "execution_count": 42,
   "metadata": {
    "ExecuteTime": {
     "end_time": "2022-07-16T13:40:45.376682Z",
     "start_time": "2022-07-16T13:40:45.347757Z"
    }
   },
   "outputs": [
    {
     "data": {
      "text/html": [
       "<div>\n",
       "<style scoped>\n",
       "    .dataframe tbody tr th:only-of-type {\n",
       "        vertical-align: middle;\n",
       "    }\n",
       "\n",
       "    .dataframe tbody tr th {\n",
       "        vertical-align: top;\n",
       "    }\n",
       "\n",
       "    .dataframe thead th {\n",
       "        text-align: right;\n",
       "    }\n",
       "</style>\n",
       "<table border=\"1\" class=\"dataframe\">\n",
       "  <thead>\n",
       "    <tr style=\"text-align: right;\">\n",
       "      <th></th>\n",
       "      <th>Average response time A</th>\n",
       "      <th>Average response time B</th>\n",
       "      <th>Difference A &amp; B</th>\n",
       "      <th>Average response time C</th>\n",
       "      <th>Difference A &amp; C</th>\n",
       "    </tr>\n",
       "  </thead>\n",
       "  <tbody>\n",
       "    <tr>\n",
       "      <th>0</th>\n",
       "      <td>1227.895414</td>\n",
       "      <td>1220.015944</td>\n",
       "      <td>7.87947</td>\n",
       "      <td>1026.224995</td>\n",
       "      <td>201.670419</td>\n",
       "    </tr>\n",
       "  </tbody>\n",
       "</table>\n",
       "</div>"
      ],
      "text/plain": [
       "   Average response time A  Average response time B  Difference A & B  \\\n",
       "0              1227.895414              1220.015944           7.87947   \n",
       "\n",
       "   Average response time C  Difference A & C  \n",
       "0              1026.224995        201.670419  "
      ]
     },
     "execution_count": 42,
     "metadata": {},
     "output_type": "execute_result"
    }
   ],
   "source": [
    "df_RT2_C = df_RT2_B.rename(columns={'Difference':'Difference A & B'}).copy()\n",
    "ResponseTimeC2 = [tuple((x[1]-x[0]) for x in Demographic.values() if x[0]>=120) for Demographic in Demographic_list_C]\n",
    "df_RT2_C['Average response time C'] = np.mean([np.mean(x) for x in ResponseTimeC2])\n",
    "df_RT2_C['Difference A & C']= df_RT2_C['Average response time A']-df_RT2_C['Average response time C']\n",
    "df_RT2_C"
   ]
  },
  {
   "cell_type": "code",
   "execution_count": 43,
   "metadata": {
    "ExecuteTime": {
     "end_time": "2022-07-16T13:40:47.000332Z",
     "start_time": "2022-07-16T13:40:45.378643Z"
    }
   },
   "outputs": [
    {
     "data": {
      "image/png": "[encoded data removed]",
      "text/plain": [
       "<Figure size 864x432 with 1 Axes>"
      ]
     },
     "metadata": {
      "needs_background": "light"
     },
     "output_type": "display_data"
    }
   ],
   "source": [
    "%matplotlib inline\n",
    "import matplotlib.pyplot as plt\n",
    "import seaborn as sns\n",
    "fig , ax = plt.subplots(nrows=1 , ncols=1,figsize=(12,6))\n",
    "width=0.4\n",
    "\n",
    "x=np.arange(1,4)\n",
    "y1=df_RT1_C[['Average response time A' ,'Average response time B','Average response time C']].to_numpy()[0]\n",
    "y2=df_RT2_C[['Average response time A' ,'Average response time B','Average response time C']].to_numpy()[0]\n",
    "\n",
    "ax.bar(x=x+0.2 , height = y1 ,width=width,color='teal',label = 'period 120-600')\n",
    "for i, v in enumerate(np.around(y1,2)):\n",
    "    ax.text(i + 1.1 , v + 5,str(v), color='teal', fontweight='bold',fontsize=13)\n",
    "\n",
    "ax.bar(x=x-0.2 , height = y2,width=width,color='magenta',label = 'period after 120')\n",
    "for i, v in enumerate(np.around(y2,2)):\n",
    "    ax.text(i + 0.7 , v + 5,str(v), color='magenta', fontweight='bold',fontsize=13)\n",
    "    \n",
    "ax.set_title('Response Time',fontsize=18)\n",
    "plt.legend()\n",
    "plt.tight_layout()\n",
    "ax.set_xticks(x, ['A','B','C'])\n",
    "ax.set_ylabel('Time (minutes)')\n",
    "plt.savefig('ReponseTime.png',dpi=500)\n",
    "plt.show()"
   ]
  },
  {
   "cell_type": "markdown",
   "metadata": {},
   "source": [
    "#### Response Time at different time intervals"
   ]
  },
  {
   "cell_type": "code",
   "execution_count": 44,
   "metadata": {
    "ExecuteTime": {
     "end_time": "2022-07-16T13:40:47.154892Z",
     "start_time": "2022-07-16T13:40:47.002299Z"
    },
    "scrolled": true
   },
   "outputs": [
    {
     "data": {
      "text/html": [
       "<div>\n",
       "<style scoped>\n",
       "    .dataframe tbody tr th:only-of-type {\n",
       "        vertical-align: middle;\n",
       "    }\n",
       "\n",
       "    .dataframe tbody tr th {\n",
       "        vertical-align: top;\n",
       "    }\n",
       "\n",
       "    .dataframe thead th {\n",
       "        text-align: right;\n",
       "    }\n",
       "</style>\n",
       "<table border=\"1\" class=\"dataframe\">\n",
       "  <thead>\n",
       "    <tr style=\"text-align: right;\">\n",
       "      <th></th>\n",
       "      <th>From</th>\n",
       "      <th>To</th>\n",
       "      <th>Mean Response Time A</th>\n",
       "      <th>Mean Response Time B</th>\n",
       "      <th>Difference A &amp; B</th>\n",
       "      <th>Mean Response Time C</th>\n",
       "      <th>Difference A &amp; C</th>\n",
       "    </tr>\n",
       "  </thead>\n",
       "  <tbody>\n",
       "    <tr>\n",
       "      <th>0</th>\n",
       "      <td>120.0</td>\n",
       "      <td>180.0</td>\n",
       "      <td>819.504482</td>\n",
       "      <td>949.150363</td>\n",
       "      <td>-129.645881</td>\n",
       "      <td>772.197530</td>\n",
       "      <td>47.306952</td>\n",
       "    </tr>\n",
       "    <tr>\n",
       "      <th>1</th>\n",
       "      <td>180.0</td>\n",
       "      <td>240.0</td>\n",
       "      <td>1014.855343</td>\n",
       "      <td>979.554666</td>\n",
       "      <td>35.300676</td>\n",
       "      <td>841.384884</td>\n",
       "      <td>173.470458</td>\n",
       "    </tr>\n",
       "    <tr>\n",
       "      <th>2</th>\n",
       "      <td>240.0</td>\n",
       "      <td>300.0</td>\n",
       "      <td>1057.178743</td>\n",
       "      <td>1105.899554</td>\n",
       "      <td>-48.720811</td>\n",
       "      <td>926.720438</td>\n",
       "      <td>130.458305</td>\n",
       "    </tr>\n",
       "    <tr>\n",
       "      <th>3</th>\n",
       "      <td>300.0</td>\n",
       "      <td>360.0</td>\n",
       "      <td>1192.379564</td>\n",
       "      <td>1147.056098</td>\n",
       "      <td>45.323467</td>\n",
       "      <td>992.144415</td>\n",
       "      <td>200.235149</td>\n",
       "    </tr>\n",
       "    <tr>\n",
       "      <th>4</th>\n",
       "      <td>360.0</td>\n",
       "      <td>420.0</td>\n",
       "      <td>1345.061535</td>\n",
       "      <td>1268.074443</td>\n",
       "      <td>76.987092</td>\n",
       "      <td>1076.251634</td>\n",
       "      <td>268.809902</td>\n",
       "    </tr>\n",
       "    <tr>\n",
       "      <th>5</th>\n",
       "      <td>420.0</td>\n",
       "      <td>480.0</td>\n",
       "      <td>1345.602613</td>\n",
       "      <td>1333.068974</td>\n",
       "      <td>12.533639</td>\n",
       "      <td>1123.750292</td>\n",
       "      <td>221.852321</td>\n",
       "    </tr>\n",
       "    <tr>\n",
       "      <th>6</th>\n",
       "      <td>480.0</td>\n",
       "      <td>540.0</td>\n",
       "      <td>1415.933808</td>\n",
       "      <td>1430.886503</td>\n",
       "      <td>-14.952695</td>\n",
       "      <td>1199.306211</td>\n",
       "      <td>216.627597</td>\n",
       "    </tr>\n",
       "    <tr>\n",
       "      <th>7</th>\n",
       "      <td>540.0</td>\n",
       "      <td>600.0</td>\n",
       "      <td>1524.877302</td>\n",
       "      <td>1495.801802</td>\n",
       "      <td>29.075500</td>\n",
       "      <td>1254.665677</td>\n",
       "      <td>270.211625</td>\n",
       "    </tr>\n",
       "  </tbody>\n",
       "</table>\n",
       "</div>"
      ],
      "text/plain": [
       "    From     To  Mean Response Time A  Mean Response Time B  Difference A & B  \\\n",
       "0  120.0  180.0            819.504482            949.150363       -129.645881   \n",
       "1  180.0  240.0           1014.855343            979.554666         35.300676   \n",
       "2  240.0  300.0           1057.178743           1105.899554        -48.720811   \n",
       "3  300.0  360.0           1192.379564           1147.056098         45.323467   \n",
       "4  360.0  420.0           1345.061535           1268.074443         76.987092   \n",
       "5  420.0  480.0           1345.602613           1333.068974         12.533639   \n",
       "6  480.0  540.0           1415.933808           1430.886503        -14.952695   \n",
       "7  540.0  600.0           1524.877302           1495.801802         29.075500   \n",
       "\n",
       "   Mean Response Time C  Difference A & C  \n",
       "0            772.197530         47.306952  \n",
       "1            841.384884        173.470458  \n",
       "2            926.720438        130.458305  \n",
       "3            992.144415        200.235149  \n",
       "4           1076.251634        268.809902  \n",
       "5           1123.750292        221.852321  \n",
       "6           1199.306211        216.627597  \n",
       "7           1254.665677        270.211625  "
      ]
     },
     "execution_count": 44,
     "metadata": {},
     "output_type": "execute_result"
    }
   ],
   "source": [
    "df_RT_C = df_RT_B.rename(columns={'Difference':'Difference A & B'}).copy()\n",
    "for lower_hour,upper_hour,i in zip(range(120,600,60) , range(180,660,60),range(0,8)):\n",
    "    rt = [tuple((x[1]-x[0]) for x in Demographic.values() if x[0]>=lower_hour and x[0]<=upper_hour) for Demographic in Demographic_list_C]\n",
    "    df_RT_C.loc[i,'Mean Response Time C']=np.mean([np.mean(x) for x in rt])\n",
    "df_RT_C['Difference A & C'] = df_RT_C['Mean Response Time A']-df_RT_C['Mean Response Time C']\n",
    "df_RT_C"
   ]
  },
  {
   "cell_type": "code",
   "execution_count": 45,
   "metadata": {
    "ExecuteTime": {
     "end_time": "2022-07-16T13:40:48.294840Z",
     "start_time": "2022-07-16T13:40:47.156885Z"
    }
   },
   "outputs": [
    {
     "data": {
      "image/png": "[encoded data removed]",
      "text/plain": [
       "<Figure size 864x432 with 1 Axes>"
      ]
     },
     "metadata": {},
     "output_type": "display_data"
    }
   ],
   "source": [
    "sns.set_style('darkgrid')\n",
    "fig , ax = plt.subplots(nrows=1 , ncols=1,figsize=(12,6))\n",
    "width=0.25\n",
    "\n",
    "x=np.arange(8)\n",
    "y1=df_RT_C['Mean Response Time A'].to_numpy()\n",
    "ax.bar(x=x , height = y1 , width=width , color='teal' , label='A')\n",
    "for i, v in enumerate(map(int,np.around(y1))):\n",
    "    ax.text(i-0.125  , v + 5,str(v), color='teal', fontweight='bold',fontsize=10)\n",
    "\n",
    "y2=df_RT_C['Mean Response Time B'].to_numpy()\n",
    "ax.bar(x=x+width , height = y2 , width=width , color='magenta' , label='B')\n",
    "for i, v in enumerate(map(int,np.around(y2))):\n",
    "    ax.text(i-0.125 +width , v + 5,str(v), color='magenta', fontweight='bold',fontsize=10)\n",
    "\n",
    "\n",
    "y3=df_RT_C['Mean Response Time C'].to_numpy()\n",
    "ax.bar(x=x+width*2 , height = y3 , width=width , color='goldenrod' , label='C')\n",
    "for i, v in enumerate(map(int,np.around(y3))):\n",
    "    ax.text(i-0.1+width*2 , v + 5,str(v), color='goldenrod', fontweight='bold',fontsize=10)\n",
    "\n",
    "    \n",
    "ax.set_title('Response Time',fontsize=18)\n",
    "plt.legend()\n",
    "ax.set_xticks(x+width, ['[120-180]','[180,240]','[240,300]','[300,360]','[360,420]','[420,480]','[480,540]','[540,600]'])\n",
    "ax.set_ylabel('Time (minutes)')\n",
    "ax.set_xlabel('Interval')\n",
    "plt.tight_layout()\n",
    "plt.savefig('ReponseTimeDiffIntervals.png',dpi=500)\n",
    "plt.show()"
   ]
  },
  {
   "cell_type": "markdown",
   "metadata": {
    "ExecuteTime": {
     "end_time": "2022-06-03T14:01:17.369832Z",
     "start_time": "2022-06-03T14:01:17.360871Z"
    }
   },
   "source": [
    "**Average waiting time for each machine**"
   ]
  },
  {
   "cell_type": "code",
   "execution_count": 46,
   "metadata": {
    "ExecuteTime": {
     "end_time": "2022-07-16T13:40:48.310825Z",
     "start_time": "2022-07-16T13:40:48.296837Z"
    }
   },
   "outputs": [
    {
     "data": {
      "text/html": [
       "<div>\n",
       "<style scoped>\n",
       "    .dataframe tbody tr th:only-of-type {\n",
       "        vertical-align: middle;\n",
       "    }\n",
       "\n",
       "    .dataframe tbody tr th {\n",
       "        vertical-align: top;\n",
       "    }\n",
       "\n",
       "    .dataframe thead th {\n",
       "        text-align: right;\n",
       "    }\n",
       "</style>\n",
       "<table border=\"1\" class=\"dataframe\">\n",
       "  <thead>\n",
       "    <tr style=\"text-align: right;\">\n",
       "      <th></th>\n",
       "      <th>Mean Waiting Time A</th>\n",
       "      <th>Mean Waiting Time B</th>\n",
       "      <th>Difference A &amp; B</th>\n",
       "      <th>Mean Waiting Time C</th>\n",
       "      <th>Difference A &amp; C</th>\n",
       "    </tr>\n",
       "  </thead>\n",
       "  <tbody>\n",
       "    <tr>\n",
       "      <th>0</th>\n",
       "      <td>33945.758132</td>\n",
       "      <td>34608.086894</td>\n",
       "      <td>-662.328763</td>\n",
       "      <td>33578.436765</td>\n",
       "      <td>367.321366</td>\n",
       "    </tr>\n",
       "  </tbody>\n",
       "</table>\n",
       "</div>"
      ],
      "text/plain": [
       "   Mean Waiting Time A  Mean Waiting Time B  Difference A & B  \\\n",
       "0         33945.758132         34608.086894       -662.328763   \n",
       "\n",
       "   Mean Waiting Time C  Difference A & C  \n",
       "0         33578.436765        367.321366  "
      ]
     },
     "execution_count": 46,
     "metadata": {},
     "output_type": "execute_result"
    }
   ],
   "source": [
    "df_MWT_C = df_MWT_B.rename(columns={'Difference':'Difference A & B'}).copy()\n",
    "df_MWT_C['Mean Waiting Time C'] = np.mean(np.array(TWT_list_C))\n",
    "df_MWT_C['Difference A & C'] = df_MWT_C['Mean Waiting Time A']-df_MWT_C['Mean Waiting Time C']\n",
    "df_MWT_C"
   ]
  },
  {
   "cell_type": "code",
   "execution_count": 47,
   "metadata": {
    "ExecuteTime": {
     "end_time": "2022-07-16T13:40:49.019927Z",
     "start_time": "2022-07-16T13:40:48.312794Z"
    }
   },
   "outputs": [
    {
     "data": {
      "image/png": "[encoded data removed]",
      "text/plain": [
       "<Figure size 720x432 with 1 Axes>"
      ]
     },
     "metadata": {},
     "output_type": "display_data"
    }
   ],
   "source": [
    "fig , ax = plt.subplots(nrows=1 , ncols=1,figsize=(10,6))\n",
    "\n",
    "x=np.arange(3)\n",
    "y=df_MWT_C[['Mean Waiting Time A' ,'Mean Waiting Time B','Mean Waiting Time C']].to_numpy()[0]\n",
    "\n",
    "ax.bar(x=x , height = y ,width=0.5,color='magenta')\n",
    "for i, v in enumerate(np.around(y,2)):\n",
    "    ax.text(i-0.1 , v + 500,str(v), color='darkmagenta', fontweight='bold',fontsize=13)\n",
    "    \n",
    "ax.set_title('Total Waiting Time',fontsize=18)\n",
    "ax.set_xticks(x, ['A','B','C'])\n",
    "ax.set_xlabel('Part')\n",
    "ax.set_ylabel('Time (minutes)')\n",
    "plt.tight_layout()\n",
    "plt.savefig('TtoalWaitingTime.png',dpi=500)\n",
    "plt.show()"
   ]
  },
  {
   "cell_type": "markdown",
   "metadata": {
    "ExecuteTime": {
     "end_time": "2022-06-03T14:01:31.420268Z",
     "start_time": "2022-06-03T14:01:31.407278Z"
    }
   },
   "source": [
    "**Average service time at workstations** "
   ]
  },
  {
   "cell_type": "code",
   "execution_count": 48,
   "metadata": {
    "ExecuteTime": {
     "end_time": "2022-07-16T13:40:49.050852Z",
     "start_time": "2022-07-16T13:40:49.021895Z"
    }
   },
   "outputs": [
    {
     "name": "stdout",
     "output_type": "stream",
     "text": [
      "Note that this should not change, and even if the difference for a station is not 0, it is because of randomness of the simulation\n"
     ]
    },
    {
     "data": {
      "text/html": [
       "<div>\n",
       "<style scoped>\n",
       "    .dataframe tbody tr th:only-of-type {\n",
       "        vertical-align: middle;\n",
       "    }\n",
       "\n",
       "    .dataframe tbody tr th {\n",
       "        vertical-align: top;\n",
       "    }\n",
       "\n",
       "    .dataframe thead th {\n",
       "        text-align: right;\n",
       "    }\n",
       "</style>\n",
       "<table border=\"1\" class=\"dataframe\">\n",
       "  <thead>\n",
       "    <tr style=\"text-align: right;\">\n",
       "      <th></th>\n",
       "      <th>Average Service Time A</th>\n",
       "      <th>Average Service Time B</th>\n",
       "      <th>Difference A &amp; B</th>\n",
       "      <th>Average Service Time C</th>\n",
       "      <th>Difference A &amp; C</th>\n",
       "    </tr>\n",
       "  </thead>\n",
       "  <tbody>\n",
       "    <tr>\n",
       "      <th>A</th>\n",
       "      <td>11.653696</td>\n",
       "      <td>11.611909</td>\n",
       "      <td>0.041787</td>\n",
       "      <td>10.350031</td>\n",
       "      <td>1.303664</td>\n",
       "    </tr>\n",
       "    <tr>\n",
       "      <th>B</th>\n",
       "      <td>35.185439</td>\n",
       "      <td>34.825926</td>\n",
       "      <td>0.359513</td>\n",
       "      <td>32.293511</td>\n",
       "      <td>2.891928</td>\n",
       "    </tr>\n",
       "    <tr>\n",
       "      <th>C</th>\n",
       "      <td>19.430425</td>\n",
       "      <td>19.670418</td>\n",
       "      <td>-0.239992</td>\n",
       "      <td>14.758797</td>\n",
       "      <td>4.671629</td>\n",
       "    </tr>\n",
       "    <tr>\n",
       "      <th>D</th>\n",
       "      <td>45.179903</td>\n",
       "      <td>47.609340</td>\n",
       "      <td>-2.429437</td>\n",
       "      <td>42.290122</td>\n",
       "      <td>2.889781</td>\n",
       "    </tr>\n",
       "    <tr>\n",
       "      <th>E</th>\n",
       "      <td>37.862815</td>\n",
       "      <td>32.778940</td>\n",
       "      <td>5.083875</td>\n",
       "      <td>31.958561</td>\n",
       "      <td>5.904255</td>\n",
       "    </tr>\n",
       "  </tbody>\n",
       "</table>\n",
       "</div>"
      ],
      "text/plain": [
       "   Average Service Time A  Average Service Time B  Difference A & B  \\\n",
       "A               11.653696               11.611909          0.041787   \n",
       "B               35.185439               34.825926          0.359513   \n",
       "C               19.430425               19.670418         -0.239992   \n",
       "D               45.179903               47.609340         -2.429437   \n",
       "E               37.862815               32.778940          5.083875   \n",
       "\n",
       "   Average Service Time C  Difference A & C  \n",
       "A               10.350031          1.303664  \n",
       "B               32.293511          2.891928  \n",
       "C               14.758797          4.671629  \n",
       "D               42.290122          2.889781  \n",
       "E               31.958561          5.904255  "
      ]
     },
     "execution_count": 48,
     "metadata": {},
     "output_type": "execute_result"
    }
   ],
   "source": [
    "df_ST_C=df_ST_B.rename(columns={'Difference':'Difference A & B'}).copy()\n",
    "mean_ST_A = np.mean(np.array([x[0] for x in SVR_list_C])/np.array([x[0] for x in N_list_C]))\n",
    "mean_ST_B = np.mean(np.array([(x[1]+x[2]+x[3]) for x in SVR_list_C])/np.array([(x[1]+x[2]+x[3]) for x in N_list_C]))\n",
    "mean_ST_C = np.mean(np.array([x[4] for x in SVR_list_C])/np.array([x[4] for x in N_list_C]))\n",
    "mean_ST_D = np.mean(np.array([(x[5]+x[6]+x[7]+x[8]) for x in SVR_list_C])/np.array([(x[5]+x[6]+x[7]+x[8]) for x in N_list_C]))\n",
    "mean_ST_E = np.mean(np.array([(x[9]+x[10]+x[11]) for x in SVR_list_C])/np.array([(x[9]+x[10]+x[11]) for x in N_list_C]))\n",
    "\n",
    "df_ST_C['Average Service Time C'] = [mean_ST_A,mean_ST_B,mean_ST_C,mean_ST_D,mean_ST_E]\n",
    "df_ST_C['Difference A & C'] = df_ST_C['Average Service Time A']-df_ST_C['Average Service Time C']\n",
    "print('Note that this should not change, and even if the difference for a station is not 0, it is because of randomness of the simulation')\n",
    "df_ST_C"
   ]
  },
  {
   "cell_type": "markdown",
   "metadata": {},
   "source": [
    "ANOVA on station C"
   ]
  },
  {
   "cell_type": "code",
   "execution_count": 49,
   "metadata": {
    "ExecuteTime": {
     "end_time": "2022-07-16T13:40:49.065777Z",
     "start_time": "2022-07-16T13:40:49.053810Z"
    }
   },
   "outputs": [
    {
     "name": "stdout",
     "output_type": "stream",
     "text": [
      "11.653695577649607 11.611908744729705 10.350031329508113\n"
     ]
    },
    {
     "data": {
      "text/plain": [
       "F_onewayResult(statistic=24.70635782787288, pvalue=5.621581065469955e-10)"
      ]
     },
     "execution_count": 49,
     "metadata": {},
     "output_type": "execute_result"
    }
   ],
   "source": [
    "lis1 = np.array([x[0] for x in SVR_list_A])/np.array([x[0] for x in N_list_A])\n",
    "lis2 = np.array([(x[0]+x[1]) for x in SVR_list_B])/np.array([(x[0]+x[1]) for x in N_list_B])\n",
    "lis3 = np.array([x[0] for x in SVR_list_C])/np.array([x[0] for x in N_list_C])\n",
    "print(lis1.mean() , lis2.mean() , lis3.mean() )\n",
    "st.f_oneway(lis1 , lis2 , lis3)"
   ]
  },
  {
   "cell_type": "markdown",
   "metadata": {},
   "source": [
    "**Average working time for each work station**"
   ]
  },
  {
   "cell_type": "code",
   "execution_count": 50,
   "metadata": {
    "ExecuteTime": {
     "end_time": "2022-07-16T13:40:49.096695Z",
     "start_time": "2022-07-16T13:40:49.067772Z"
    }
   },
   "outputs": [
    {
     "data": {
      "text/html": [
       "<div>\n",
       "<style scoped>\n",
       "    .dataframe tbody tr th:only-of-type {\n",
       "        vertical-align: middle;\n",
       "    }\n",
       "\n",
       "    .dataframe tbody tr th {\n",
       "        vertical-align: top;\n",
       "    }\n",
       "\n",
       "    .dataframe thead th {\n",
       "        text-align: right;\n",
       "    }\n",
       "</style>\n",
       "<table border=\"1\" class=\"dataframe\">\n",
       "  <thead>\n",
       "    <tr style=\"text-align: right;\">\n",
       "      <th></th>\n",
       "      <th>Average working time A (for the whole station)</th>\n",
       "      <th>Average working time A (per server in the station)</th>\n",
       "      <th>Average working time B (for the whole station)</th>\n",
       "      <th>Average working time B (per server in the station)</th>\n",
       "      <th>Difference for whole station A &amp; B</th>\n",
       "      <th>Difference per server A &amp; B</th>\n",
       "      <th>Average working time C (for the whole station)</th>\n",
       "      <th>Average working time C (per server in the station)</th>\n",
       "      <th>Difference for whole station A &amp; C</th>\n",
       "      <th>Difference per server A &amp; C</th>\n",
       "    </tr>\n",
       "  </thead>\n",
       "  <tbody>\n",
       "    <tr>\n",
       "      <th>A</th>\n",
       "      <td>474.769377</td>\n",
       "      <td>474.769377</td>\n",
       "      <td>952.211463</td>\n",
       "      <td>476.105732</td>\n",
       "      <td>-477.442086</td>\n",
       "      <td>-1.336355</td>\n",
       "      <td>471.244143</td>\n",
       "      <td>471.244143</td>\n",
       "      <td>3.525234</td>\n",
       "      <td>3.525234</td>\n",
       "    </tr>\n",
       "    <tr>\n",
       "      <th>B</th>\n",
       "      <td>1367.966168</td>\n",
       "      <td>455.988723</td>\n",
       "      <td>1375.215461</td>\n",
       "      <td>458.405154</td>\n",
       "      <td>-7.249293</td>\n",
       "      <td>-2.416431</td>\n",
       "      <td>1330.574099</td>\n",
       "      <td>443.524700</td>\n",
       "      <td>37.392068</td>\n",
       "      <td>12.464023</td>\n",
       "    </tr>\n",
       "    <tr>\n",
       "      <th>C</th>\n",
       "      <td>365.958671</td>\n",
       "      <td>365.958671</td>\n",
       "      <td>412.177506</td>\n",
       "      <td>412.177506</td>\n",
       "      <td>-46.218835</td>\n",
       "      <td>-46.218835</td>\n",
       "      <td>340.554851</td>\n",
       "      <td>340.554851</td>\n",
       "      <td>25.403820</td>\n",
       "      <td>25.403820</td>\n",
       "    </tr>\n",
       "    <tr>\n",
       "      <th>D</th>\n",
       "      <td>1585.357057</td>\n",
       "      <td>396.339264</td>\n",
       "      <td>1630.744794</td>\n",
       "      <td>407.686198</td>\n",
       "      <td>-45.387737</td>\n",
       "      <td>-11.346934</td>\n",
       "      <td>1567.791470</td>\n",
       "      <td>391.947867</td>\n",
       "      <td>17.565587</td>\n",
       "      <td>4.391397</td>\n",
       "    </tr>\n",
       "    <tr>\n",
       "      <th>E</th>\n",
       "      <td>1052.535653</td>\n",
       "      <td>350.845218</td>\n",
       "      <td>959.077749</td>\n",
       "      <td>319.692583</td>\n",
       "      <td>93.457904</td>\n",
       "      <td>31.152635</td>\n",
       "      <td>1018.458052</td>\n",
       "      <td>339.486017</td>\n",
       "      <td>34.077602</td>\n",
       "      <td>11.359201</td>\n",
       "    </tr>\n",
       "  </tbody>\n",
       "</table>\n",
       "</div>"
      ],
      "text/plain": [
       "   Average working time A (for the whole station)  \\\n",
       "A                                      474.769377   \n",
       "B                                     1367.966168   \n",
       "C                                      365.958671   \n",
       "D                                     1585.357057   \n",
       "E                                     1052.535653   \n",
       "\n",
       "   Average working time A (per server in the station)  \\\n",
       "A                                         474.769377    \n",
       "B                                         455.988723    \n",
       "C                                         365.958671    \n",
       "D                                         396.339264    \n",
       "E                                         350.845218    \n",
       "\n",
       "   Average working time B (for the whole station)  \\\n",
       "A                                      952.211463   \n",
       "B                                     1375.215461   \n",
       "C                                      412.177506   \n",
       "D                                     1630.744794   \n",
       "E                                      959.077749   \n",
       "\n",
       "   Average working time B (per server in the station)  \\\n",
       "A                                         476.105732    \n",
       "B                                         458.405154    \n",
       "C                                         412.177506    \n",
       "D                                         407.686198    \n",
       "E                                         319.692583    \n",
       "\n",
       "   Difference for whole station A & B  Difference per server A & B  \\\n",
       "A                         -477.442086                    -1.336355   \n",
       "B                           -7.249293                    -2.416431   \n",
       "C                          -46.218835                   -46.218835   \n",
       "D                          -45.387737                   -11.346934   \n",
       "E                           93.457904                    31.152635   \n",
       "\n",
       "   Average working time C (for the whole station)  \\\n",
       "A                                      471.244143   \n",
       "B                                     1330.574099   \n",
       "C                                      340.554851   \n",
       "D                                     1567.791470   \n",
       "E                                     1018.458052   \n",
       "\n",
       "   Average working time C (per server in the station)  \\\n",
       "A                                         471.244143    \n",
       "B                                         443.524700    \n",
       "C                                         340.554851    \n",
       "D                                         391.947867    \n",
       "E                                         339.486017    \n",
       "\n",
       "   Difference for whole station A & C  Difference per server A & C  \n",
       "A                            3.525234                     3.525234  \n",
       "B                           37.392068                    12.464023  \n",
       "C                           25.403820                    25.403820  \n",
       "D                           17.565587                     4.391397  \n",
       "E                           34.077602                    11.359201  "
      ]
     },
     "execution_count": 50,
     "metadata": {},
     "output_type": "execute_result"
    }
   ],
   "source": [
    "df_SVR_C=df_SVR_B.rename(columns={'Difference for whole station':'Difference for whole station A & B' ,\n",
    "                                  'Difference per server':'Difference per server A & B' }).copy()\n",
    "\n",
    "SVR_A = np.mean([x[0] for x in SVR_list_C])\n",
    "SVR_B = np.mean([(x[1]+x[2]+x[3]) for x in SVR_list_C])\n",
    "SVR_C = np.mean([x[4] for x in SVR_list_C])\n",
    "SVR_D = np.mean([(x[5]+x[6]+x[7]+x[8]) for x in SVR_list_C])\n",
    "SVR_E = np.mean([(x[9]+x[10]+x[11]) for x in SVR_list_C])\n",
    "\n",
    "df_SVR_C['Average working time C (for the whole station)'] = [SVR_A,SVR_B,SVR_C,SVR_D,SVR_E]\n",
    "df_SVR_C['Average working time C (per server in the station)'] = [SVR_A,SVR_B/3,SVR_C,SVR_D/4,SVR_E/3]\n",
    "df_SVR_C['Difference for whole station A & C']=df_SVR_C['Average working time A (for the whole station)']-df_SVR_C['Average working time C (for the whole station)']\n",
    "df_SVR_C['Difference per server A & C']=df_SVR_C['Average working time A (per server in the station)']-df_SVR_C['Average working time C (per server in the station)']\n",
    "df_SVR_C"
   ]
  },
  {
   "cell_type": "markdown",
   "metadata": {},
   "source": [
    "The reason behind this negativity in row `D` and `E` is that, in state A, machines enter servers `D` and `E` a little bit late and they are idler (due to the queues that are formed in posterior workstations). \n",
    "\n",
    "But in state B and C, because we add either an additional server or decreased the service time, machines reach out to stations `D` and `E` faster and they work more.\n",
    "\n",
    "In the following table you can see that in the specified time 120-600, more machines entered servers `D` and `E`."
   ]
  },
  {
   "cell_type": "code",
   "execution_count": 51,
   "metadata": {
    "ExecuteTime": {
     "end_time": "2022-07-16T13:40:49.112652Z",
     "start_time": "2022-07-16T13:40:49.098700Z"
    }
   },
   "outputs": [
    {
     "data": {
      "text/html": [
       "<div>\n",
       "<style scoped>\n",
       "    .dataframe tbody tr th:only-of-type {\n",
       "        vertical-align: middle;\n",
       "    }\n",
       "\n",
       "    .dataframe tbody tr th {\n",
       "        vertical-align: top;\n",
       "    }\n",
       "\n",
       "    .dataframe thead th {\n",
       "        text-align: right;\n",
       "    }\n",
       "</style>\n",
       "<table border=\"1\" class=\"dataframe\">\n",
       "  <thead>\n",
       "    <tr style=\"text-align: right;\">\n",
       "      <th></th>\n",
       "      <th>Number of Machines PART A</th>\n",
       "      <th>Number of Machines PART B</th>\n",
       "      <th>Number of Machines PART C</th>\n",
       "    </tr>\n",
       "  </thead>\n",
       "  <tbody>\n",
       "    <tr>\n",
       "      <th>A</th>\n",
       "      <td>41.12</td>\n",
       "      <td>82.34</td>\n",
       "      <td>46.14</td>\n",
       "    </tr>\n",
       "    <tr>\n",
       "      <th>B</th>\n",
       "      <td>38.98</td>\n",
       "      <td>39.78</td>\n",
       "      <td>41.62</td>\n",
       "    </tr>\n",
       "    <tr>\n",
       "      <th>C</th>\n",
       "      <td>18.82</td>\n",
       "      <td>20.96</td>\n",
       "      <td>23.08</td>\n",
       "    </tr>\n",
       "    <tr>\n",
       "      <th>D</th>\n",
       "      <td>35.28</td>\n",
       "      <td>34.32</td>\n",
       "      <td>37.34</td>\n",
       "    </tr>\n",
       "    <tr>\n",
       "      <th>E</th>\n",
       "      <td>27.82</td>\n",
       "      <td>29.52</td>\n",
       "      <td>31.94</td>\n",
       "    </tr>\n",
       "  </tbody>\n",
       "</table>\n",
       "</div>"
      ],
      "text/plain": [
       "   Number of Machines PART A  Number of Machines PART B  \\\n",
       "A                      41.12                      82.34   \n",
       "B                      38.98                      39.78   \n",
       "C                      18.82                      20.96   \n",
       "D                      35.28                      34.32   \n",
       "E                      27.82                      29.52   \n",
       "\n",
       "   Number of Machines PART C  \n",
       "A                      46.14  \n",
       "B                      41.62  \n",
       "C                      23.08  \n",
       "D                      37.34  \n",
       "E                      31.94  "
      ]
     },
     "execution_count": 51,
     "metadata": {},
     "output_type": "execute_result"
    }
   ],
   "source": [
    "df_N_C = df_N_B.copy()\n",
    "df_N_C['Number of Machines PART C'] = [np.mean([x[0] for x in N_list_C]),\n",
    "                                       np.mean([(x[1]+x[2]+x[3]) for x in N_list_C]),\n",
    "                                       np.mean([x[4] for x in N_list_C]),\n",
    "                                       np.mean([(x[5]+x[6]+x[7]+x[8]) for x in N_list_C]) ,\n",
    "                                       np.mean([(x[9]+x[10]+x[11]) for x in N_list_C])]\n",
    "df_N_C"
   ]
  },
  {
   "cell_type": "markdown",
   "metadata": {},
   "source": [
    "**Average total queue length for each work station**"
   ]
  },
  {
   "cell_type": "code",
   "execution_count": 52,
   "metadata": {
    "ExecuteTime": {
     "end_time": "2022-07-16T13:40:49.143570Z",
     "start_time": "2022-07-16T13:40:49.114648Z"
    }
   },
   "outputs": [
    {
     "data": {
      "text/html": [
       "<div>\n",
       "<style scoped>\n",
       "    .dataframe tbody tr th:only-of-type {\n",
       "        vertical-align: middle;\n",
       "    }\n",
       "\n",
       "    .dataframe tbody tr th {\n",
       "        vertical-align: top;\n",
       "    }\n",
       "\n",
       "    .dataframe thead th {\n",
       "        text-align: right;\n",
       "    }\n",
       "</style>\n",
       "<table border=\"1\" class=\"dataframe\">\n",
       "  <thead>\n",
       "    <tr style=\"text-align: right;\">\n",
       "      <th></th>\n",
       "      <th>Average total queue length A</th>\n",
       "      <th>Average total queue length B</th>\n",
       "      <th>Difference A &amp; B</th>\n",
       "      <th>Average total queue length C</th>\n",
       "      <th>Difference A &amp; C</th>\n",
       "    </tr>\n",
       "  </thead>\n",
       "  <tbody>\n",
       "    <tr>\n",
       "      <th>A</th>\n",
       "      <td>130.04</td>\n",
       "      <td>126.04</td>\n",
       "      <td>4.00</td>\n",
       "      <td>125.94</td>\n",
       "      <td>4.10</td>\n",
       "    </tr>\n",
       "    <tr>\n",
       "      <th>B</th>\n",
       "      <td>42.00</td>\n",
       "      <td>85.06</td>\n",
       "      <td>-43.06</td>\n",
       "      <td>46.14</td>\n",
       "      <td>-4.14</td>\n",
       "    </tr>\n",
       "    <tr>\n",
       "      <th>C</th>\n",
       "      <td>19.20</td>\n",
       "      <td>23.04</td>\n",
       "      <td>-3.84</td>\n",
       "      <td>18.44</td>\n",
       "      <td>0.76</td>\n",
       "    </tr>\n",
       "    <tr>\n",
       "      <th>D</th>\n",
       "      <td>21.04</td>\n",
       "      <td>24.36</td>\n",
       "      <td>-3.32</td>\n",
       "      <td>25.04</td>\n",
       "      <td>-4.00</td>\n",
       "    </tr>\n",
       "    <tr>\n",
       "      <th>E</th>\n",
       "      <td>18.68</td>\n",
       "      <td>11.28</td>\n",
       "      <td>7.40</td>\n",
       "      <td>15.66</td>\n",
       "      <td>3.02</td>\n",
       "    </tr>\n",
       "  </tbody>\n",
       "</table>\n",
       "</div>"
      ],
      "text/plain": [
       "   Average total queue length A  Average total queue length B  \\\n",
       "A                        130.04                        126.04   \n",
       "B                         42.00                         85.06   \n",
       "C                         19.20                         23.04   \n",
       "D                         21.04                         24.36   \n",
       "E                         18.68                         11.28   \n",
       "\n",
       "   Difference A & B  Average total queue length C  Difference A & C  \n",
       "A              4.00                        125.94              4.10  \n",
       "B            -43.06                         46.14             -4.14  \n",
       "C             -3.84                         18.44              0.76  \n",
       "D             -3.32                         25.04             -4.00  \n",
       "E              7.40                         15.66              3.02  "
      ]
     },
     "execution_count": 52,
     "metadata": {},
     "output_type": "execute_result"
    }
   ],
   "source": [
    "df_Q_C=df_Q_B.rename(columns={'Difference':'Difference A & B'}).copy()\n",
    "\n",
    "Queue_A=np.mean([x[0] for x in TotalQ_list_C])\n",
    "Queue_B=np.mean([x[1] for x in TotalQ_list_C])\n",
    "Queue_C=np.mean([x[2] for x in TotalQ_list_C])\n",
    "Queue_D=np.mean([x[3] for x in TotalQ_list_C])\n",
    "Queue_E=np.mean([x[4] for x in TotalQ_list_C])\n",
    "\n",
    "df_Q_C['Average total queue length C'] = [Queue_A,Queue_B,Queue_C,Queue_D,Queue_E]\n",
    "df_Q_C['Difference A & C']=df_Q_C.loc[:,'Average total queue length A'] - df_Q_C.loc[:,'Average total queue length C'] \n",
    "df_Q_C"
   ]
  },
  {
   "cell_type": "code",
   "execution_count": 53,
   "metadata": {
    "ExecuteTime": {
     "end_time": "2022-07-16T13:40:50.189851Z",
     "start_time": "2022-07-16T13:40:49.145564Z"
    }
   },
   "outputs": [
    {
     "data": {
      "image/png": "[encoded data removed]",
      "text/plain": [
       "<Figure size 2400x1200 with 1 Axes>"
      ]
     },
     "metadata": {},
     "output_type": "display_data"
    }
   ],
   "source": [
    "sns.set_style('darkgrid')\n",
    "fig , ax = plt.subplots(nrows=1 , ncols=1,figsize=(12,6),dpi=200)\n",
    "width=0.25\n",
    "\n",
    "x=np.arange(5)\n",
    "y1=df_Q_C['Average total queue length A'].to_numpy()\n",
    "ax.bar(x=x , height = y1 , width=width , color='teal' , label='A')\n",
    "for i, v in enumerate(map(int,np.around(y1))):\n",
    "    ax.text(i-0.025  , v + 1,str(v), color='teal', fontweight='bold',fontsize=10)\n",
    "\n",
    "y2=df_Q_C['Average total queue length B'].to_numpy()\n",
    "ax.bar(x=x+width , height = y2 , width=width , color='magenta' , label='B')\n",
    "for i, v in enumerate(map(int,np.around(y2))):\n",
    "    ax.text(i +width-0.025 , v + 1,str(v), color='magenta', fontweight='bold',fontsize=10)\n",
    "\n",
    "\n",
    "y3=df_Q_C['Average total queue length C'].to_numpy()\n",
    "ax.bar(x=x+width*2 , height = y3 , width=width , color='goldenrod' , label='C')\n",
    "for i, v in enumerate(map(int,np.around(y3))):\n",
    "    ax.text(i+width*2-0.025 , v + 1,str(v), color='goldenrod', fontweight='bold',fontsize=10)\n",
    "\n",
    "    \n",
    "ax.set_title('Total Queue Length',fontsize=18)\n",
    "plt.legend()\n",
    "ax.set_xticks(x+width, ['A' , 'B' , 'C' , 'D' , 'E'])\n",
    "ax.set_ylabel('# machines')\n",
    "ax.set_xlabel('Station')\n",
    "plt.savefig('QueueLength.png',dpi=500)\n",
    "plt.tight_layout()\n",
    "plt.show()"
   ]
  },
  {
   "cell_type": "markdown",
   "metadata": {},
   "source": [
    "As it was previously mentioned, by adding another server to workstation `A` or decreasing service time in `C`, there will be more machines to be served in workstations `C` and `D` and `E` (in the specified time of 120-600), so there will be an increase in queue lengths, working time of each station and number of servers being busy simultaneously."
   ]
  },
  {
   "cell_type": "markdown",
   "metadata": {},
   "source": [
    "**Maximum waiting time in a queue**"
   ]
  },
  {
   "cell_type": "code",
   "execution_count": 54,
   "metadata": {
    "ExecuteTime": {
     "end_time": "2022-07-16T13:40:50.204764Z",
     "start_time": "2022-07-16T13:40:50.191797Z"
    }
   },
   "outputs": [
    {
     "data": {
      "text/html": [
       "<div>\n",
       "<style scoped>\n",
       "    .dataframe tbody tr th:only-of-type {\n",
       "        vertical-align: middle;\n",
       "    }\n",
       "\n",
       "    .dataframe tbody tr th {\n",
       "        vertical-align: top;\n",
       "    }\n",
       "\n",
       "    .dataframe thead th {\n",
       "        text-align: right;\n",
       "    }\n",
       "</style>\n",
       "<table border=\"1\" class=\"dataframe\">\n",
       "  <thead>\n",
       "    <tr style=\"text-align: right;\">\n",
       "      <th></th>\n",
       "      <th>Max WT PART A</th>\n",
       "      <th>Max WT PART B</th>\n",
       "      <th>Difference A &amp; B</th>\n",
       "      <th>Max WT PART C</th>\n",
       "      <th>Difference A &amp; C</th>\n",
       "    </tr>\n",
       "  </thead>\n",
       "  <tbody>\n",
       "    <tr>\n",
       "      <th>0</th>\n",
       "      <td>480.0</td>\n",
       "      <td>480.0</td>\n",
       "      <td>0.0</td>\n",
       "      <td>480.0</td>\n",
       "      <td>0.0</td>\n",
       "    </tr>\n",
       "  </tbody>\n",
       "</table>\n",
       "</div>"
      ],
      "text/plain": [
       "   Max WT PART A  Max WT PART B  Difference A & B  Max WT PART C  \\\n",
       "0          480.0          480.0               0.0          480.0   \n",
       "\n",
       "   Difference A & C  \n",
       "0               0.0  "
      ]
     },
     "execution_count": 54,
     "metadata": {},
     "output_type": "execute_result"
    }
   ],
   "source": [
    "df_max_WT_C=df_max_WT_B.rename(columns={'Difference':'Difference A & B'}).copy()\n",
    "df_max_WT_C['Max WT PART C'] = np.mean(max_WT_list_C)\n",
    "df_max_WT_C['Difference A & C'] = df_max_WT_C['Max WT PART A'] - df_max_WT_C['Max WT PART C']\n",
    "df_max_WT_C"
   ]
  },
  {
   "cell_type": "markdown",
   "metadata": {},
   "source": [
    "Obviously maximum waiting time occurred in workstation C.\n",
    "\n",
    "Also we can infer that decreasing service time of server C doesn't change maximum waiting time."
   ]
  }
 ],
 "metadata": {
  "kernelspec": {
   "display_name": "Python 3",
   "language": "python",
   "name": "python3"
  },
  "language_info": {
   "codemirror_mode": {
    "name": "ipython",
    "version": 3
   },
   "file_extension": ".py",
   "mimetype": "text/x-python",
   "name": "python",
   "nbconvert_exporter": "python",
   "pygments_lexer": "ipython3",
   "version": "3.8.5"
  },
  "varInspector": {
   "cols": {
    "lenName": 16,
    "lenType": 16,
    "lenVar": 40
   },
   "kernels_config": {
    "python": {
     "delete_cmd_postfix": "",
     "delete_cmd_prefix": "del ",
     "library": "var_list.py",
     "varRefreshCmd": "print(var_dic_list())"
    },
    "r": {
     "delete_cmd_postfix": ") ",
     "delete_cmd_prefix": "rm(",
     "library": "var_list.r",
     "varRefreshCmd": "cat(var_dic_list()) "
    }
   },
   "types_to_exclude": [
    "module",
    "function",
    "builtin_function_or_method",
    "instance",
    "_Feature"
   ],
   "window_display": false
  }
 },
 "nbformat": 4,
 "nbformat_minor": 4
}
